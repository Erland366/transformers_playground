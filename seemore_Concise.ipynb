{
  "cells": [
    {
      "cell_type": "code",
      "execution_count": 9,
      "metadata": {
        "application/vnd.databricks.v1+cell": {
          "cellMetadata": {
            "byteLimit": 2048000,
            "rowLimit": 10000
          },
          "inputWidgets": {},
          "nuid": "7423d594-7c2c-4a5b-8089-3faf9e30b116",
          "showTitle": false,
          "title": ""
        },
        "id": "Ozzn44gSRw5F"
      },
      "outputs": [],
      "source": [
        "import base64\n",
        "import io\n",
        "import pandas as pd\n",
        "from PIL import Image\n",
        "import torchvision.transforms as transforms\n",
        "import torch\n",
        "import torch.nn as nn\n",
        "from torch.nn import functional as F\n",
        "from torch.nn import init"
      ]
    },
    {
      "cell_type": "code",
      "execution_count": 10,
      "metadata": {
        "application/vnd.databricks.v1+cell": {
          "cellMetadata": {
            "byteLimit": 2048000,
            "rowLimit": 10000
          },
          "inputWidgets": {},
          "nuid": "71cb328e-20a2-42e7-95d2-ccdf9bcc238a",
          "showTitle": false,
          "title": ""
        },
        "id": "hcu64FfMRw5H"
      },
      "outputs": [],
      "source": [
        "# Ensure every computation happens on the GPU when available\n",
        "device = 'cuda' if torch.cuda.is_available() else 'cpu'"
      ]
    },
    {
      "cell_type": "code",
      "execution_count": null,
      "metadata": {},
      "outputs": [
        {
          "data": {
            "text/plain": [
              "DatasetDict({\n",
              "    train: Dataset({\n",
              "        features: ['image', 'filename', 'cocoid', 'caption'],\n",
              "        num_rows: 5000\n",
              "    })\n",
              "})"
            ]
          },
          "execution_count": 11,
          "metadata": {},
          "output_type": "execute_result"
        }
      ],
      "source": [
        "from datasets import load_dataset\n",
        "\n",
        "img_size=96\n",
        "\n",
        "def transforms_dataset(examples):\n",
        "    examples[\"image\"] = [image.convert(\"RGB\").resize((96,96)) for image in examples[\"image\"]]\n",
        "    return examples\n",
        "\n",
        "\n",
        "df = load_dataset(\"Erland/coco_captions_small\")\n",
        "df = df.map(transforms_dataset, batched=True)\n",
        "df"
      ]
    },
    {
      "cell_type": "code",
      "execution_count": 32,
      "metadata": {},
      "outputs": [
        {
          "data": {
            "text/html": [
              "<div>\n",
              "<style scoped>\n",
              "    .dataframe tbody tr th:only-of-type {\n",
              "        vertical-align: middle;\n",
              "    }\n",
              "\n",
              "    .dataframe tbody tr th {\n",
              "        vertical-align: top;\n",
              "    }\n",
              "\n",
              "    .dataframe thead th {\n",
              "        text-align: right;\n",
              "    }\n",
              "</style>\n",
              "<table border=\"1\" class=\"dataframe\">\n",
              "  <thead>\n",
              "    <tr style=\"text-align: right;\">\n",
              "      <th></th>\n",
              "      <th>image</th>\n",
              "      <th>filename</th>\n",
              "      <th>cocoid</th>\n",
              "      <th>caption</th>\n",
              "      <th>b64string_images</th>\n",
              "    </tr>\n",
              "  </thead>\n",
              "  <tbody>\n",
              "    <tr>\n",
              "      <th>0</th>\n",
              "      <td>{'bytes': b'\\x89PNG\\r\\n\\x1a\\n\\x00\\x00\\x00\\rIHD...</td>\n",
              "      <td>COCO_val2014_000000522418.jpg</td>\n",
              "      <td>522418</td>\n",
              "      <td>A woman wearing a net on her head cutting a ca...</td>\n",
              "      <td>iVBORw0KGgoAAAANSUhEUgAAAGAAAABgCAIAAABt+uBvAA...</td>\n",
              "    </tr>\n",
              "    <tr>\n",
              "      <th>1</th>\n",
              "      <td>{'bytes': b'\\x89PNG\\r\\n\\x1a\\n\\x00\\x00\\x00\\rIHD...</td>\n",
              "      <td>COCO_val2014_000000522418.jpg</td>\n",
              "      <td>522418</td>\n",
              "      <td>A woman cutting a large white sheet cake.</td>\n",
              "      <td>iVBORw0KGgoAAAANSUhEUgAAAGAAAABgCAIAAABt+uBvAA...</td>\n",
              "    </tr>\n",
              "    <tr>\n",
              "      <th>2</th>\n",
              "      <td>{'bytes': b'\\x89PNG\\r\\n\\x1a\\n\\x00\\x00\\x00\\rIHD...</td>\n",
              "      <td>COCO_val2014_000000522418.jpg</td>\n",
              "      <td>522418</td>\n",
              "      <td>A woman wearing a hair net cutting a large she...</td>\n",
              "      <td>iVBORw0KGgoAAAANSUhEUgAAAGAAAABgCAIAAABt+uBvAA...</td>\n",
              "    </tr>\n",
              "    <tr>\n",
              "      <th>3</th>\n",
              "      <td>{'bytes': b'\\x89PNG\\r\\n\\x1a\\n\\x00\\x00\\x00\\rIHD...</td>\n",
              "      <td>COCO_val2014_000000522418.jpg</td>\n",
              "      <td>522418</td>\n",
              "      <td>there is a woman that is cutting a white cake</td>\n",
              "      <td>iVBORw0KGgoAAAANSUhEUgAAAGAAAABgCAIAAABt+uBvAA...</td>\n",
              "    </tr>\n",
              "    <tr>\n",
              "      <th>4</th>\n",
              "      <td>{'bytes': b'\\x89PNG\\r\\n\\x1a\\n\\x00\\x00\\x00\\rIHD...</td>\n",
              "      <td>COCO_val2014_000000522418.jpg</td>\n",
              "      <td>522418</td>\n",
              "      <td>A woman marking a cake with the back of a chef...</td>\n",
              "      <td>iVBORw0KGgoAAAANSUhEUgAAAGAAAABgCAIAAABt+uBvAA...</td>\n",
              "    </tr>\n",
              "    <tr>\n",
              "      <th>...</th>\n",
              "      <td>...</td>\n",
              "      <td>...</td>\n",
              "      <td>...</td>\n",
              "      <td>...</td>\n",
              "      <td>...</td>\n",
              "    </tr>\n",
              "    <tr>\n",
              "      <th>4995</th>\n",
              "      <td>{'bytes': b'\\x89PNG\\r\\n\\x1a\\n\\x00\\x00\\x00\\rIHD...</td>\n",
              "      <td>COCO_val2014_000000495088.jpg</td>\n",
              "      <td>495088</td>\n",
              "      <td>A bird flies over the water near an island.</td>\n",
              "      <td>iVBORw0KGgoAAAANSUhEUgAAAGAAAABgCAIAAABt+uBvAA...</td>\n",
              "    </tr>\n",
              "    <tr>\n",
              "      <th>4996</th>\n",
              "      <td>{'bytes': b'\\x89PNG\\r\\n\\x1a\\n\\x00\\x00\\x00\\rIHD...</td>\n",
              "      <td>COCO_val2014_000000495088.jpg</td>\n",
              "      <td>495088</td>\n",
              "      <td>Seagull flying over a water way with an island...</td>\n",
              "      <td>iVBORw0KGgoAAAANSUhEUgAAAGAAAABgCAIAAABt+uBvAA...</td>\n",
              "    </tr>\n",
              "    <tr>\n",
              "      <th>4997</th>\n",
              "      <td>{'bytes': b'\\x89PNG\\r\\n\\x1a\\n\\x00\\x00\\x00\\rIHD...</td>\n",
              "      <td>COCO_val2014_000000495088.jpg</td>\n",
              "      <td>495088</td>\n",
              "      <td>A seagull flies over a grassy and rocky beach.</td>\n",
              "      <td>iVBORw0KGgoAAAANSUhEUgAAAGAAAABgCAIAAABt+uBvAA...</td>\n",
              "    </tr>\n",
              "    <tr>\n",
              "      <th>4998</th>\n",
              "      <td>{'bytes': b'\\x89PNG\\r\\n\\x1a\\n\\x00\\x00\\x00\\rIHD...</td>\n",
              "      <td>COCO_val2014_000000460160.jpg</td>\n",
              "      <td>460160</td>\n",
              "      <td>a white bird some sand water rocks and grass</td>\n",
              "      <td>iVBORw0KGgoAAAANSUhEUgAAAGAAAABgCAIAAABt+uBvAA...</td>\n",
              "    </tr>\n",
              "    <tr>\n",
              "      <th>4999</th>\n",
              "      <td>{'bytes': b'\\x89PNG\\r\\n\\x1a\\n\\x00\\x00\\x00\\rIHD...</td>\n",
              "      <td>COCO_val2014_000000460160.jpg</td>\n",
              "      <td>460160</td>\n",
              "      <td>A white bird sitting on top of a lake.</td>\n",
              "      <td>iVBORw0KGgoAAAANSUhEUgAAAGAAAABgCAIAAABt+uBvAA...</td>\n",
              "    </tr>\n",
              "  </tbody>\n",
              "</table>\n",
              "<p>5000 rows × 5 columns</p>\n",
              "</div>"
            ],
            "text/plain": [
              "                                                  image  \\\n",
              "0     {'bytes': b'\\x89PNG\\r\\n\\x1a\\n\\x00\\x00\\x00\\rIHD...   \n",
              "1     {'bytes': b'\\x89PNG\\r\\n\\x1a\\n\\x00\\x00\\x00\\rIHD...   \n",
              "2     {'bytes': b'\\x89PNG\\r\\n\\x1a\\n\\x00\\x00\\x00\\rIHD...   \n",
              "3     {'bytes': b'\\x89PNG\\r\\n\\x1a\\n\\x00\\x00\\x00\\rIHD...   \n",
              "4     {'bytes': b'\\x89PNG\\r\\n\\x1a\\n\\x00\\x00\\x00\\rIHD...   \n",
              "...                                                 ...   \n",
              "4995  {'bytes': b'\\x89PNG\\r\\n\\x1a\\n\\x00\\x00\\x00\\rIHD...   \n",
              "4996  {'bytes': b'\\x89PNG\\r\\n\\x1a\\n\\x00\\x00\\x00\\rIHD...   \n",
              "4997  {'bytes': b'\\x89PNG\\r\\n\\x1a\\n\\x00\\x00\\x00\\rIHD...   \n",
              "4998  {'bytes': b'\\x89PNG\\r\\n\\x1a\\n\\x00\\x00\\x00\\rIHD...   \n",
              "4999  {'bytes': b'\\x89PNG\\r\\n\\x1a\\n\\x00\\x00\\x00\\rIHD...   \n",
              "\n",
              "                           filename  cocoid  \\\n",
              "0     COCO_val2014_000000522418.jpg  522418   \n",
              "1     COCO_val2014_000000522418.jpg  522418   \n",
              "2     COCO_val2014_000000522418.jpg  522418   \n",
              "3     COCO_val2014_000000522418.jpg  522418   \n",
              "4     COCO_val2014_000000522418.jpg  522418   \n",
              "...                             ...     ...   \n",
              "4995  COCO_val2014_000000495088.jpg  495088   \n",
              "4996  COCO_val2014_000000495088.jpg  495088   \n",
              "4997  COCO_val2014_000000495088.jpg  495088   \n",
              "4998  COCO_val2014_000000460160.jpg  460160   \n",
              "4999  COCO_val2014_000000460160.jpg  460160   \n",
              "\n",
              "                                                caption  \\\n",
              "0     A woman wearing a net on her head cutting a ca...   \n",
              "1             A woman cutting a large white sheet cake.   \n",
              "2     A woman wearing a hair net cutting a large she...   \n",
              "3         there is a woman that is cutting a white cake   \n",
              "4     A woman marking a cake with the back of a chef...   \n",
              "...                                                 ...   \n",
              "4995        A bird flies over the water near an island.   \n",
              "4996  Seagull flying over a water way with an island...   \n",
              "4997    A seagull flies over a grassy and rocky beach.    \n",
              "4998       a white bird some sand water rocks and grass   \n",
              "4999             A white bird sitting on top of a lake.   \n",
              "\n",
              "                                       b64string_images  \n",
              "0     iVBORw0KGgoAAAANSUhEUgAAAGAAAABgCAIAAABt+uBvAA...  \n",
              "1     iVBORw0KGgoAAAANSUhEUgAAAGAAAABgCAIAAABt+uBvAA...  \n",
              "2     iVBORw0KGgoAAAANSUhEUgAAAGAAAABgCAIAAABt+uBvAA...  \n",
              "3     iVBORw0KGgoAAAANSUhEUgAAAGAAAABgCAIAAABt+uBvAA...  \n",
              "4     iVBORw0KGgoAAAANSUhEUgAAAGAAAABgCAIAAABt+uBvAA...  \n",
              "...                                                 ...  \n",
              "4995  iVBORw0KGgoAAAANSUhEUgAAAGAAAABgCAIAAABt+uBvAA...  \n",
              "4996  iVBORw0KGgoAAAANSUhEUgAAAGAAAABgCAIAAABt+uBvAA...  \n",
              "4997  iVBORw0KGgoAAAANSUhEUgAAAGAAAABgCAIAAABt+uBvAA...  \n",
              "4998  iVBORw0KGgoAAAANSUhEUgAAAGAAAABgCAIAAABt+uBvAA...  \n",
              "4999  iVBORw0KGgoAAAANSUhEUgAAAGAAAABgCAIAAABt+uBvAA...  \n",
              "\n",
              "[5000 rows x 5 columns]"
            ]
          },
          "execution_count": 32,
          "metadata": {},
          "output_type": "execute_result"
        }
      ],
      "source": [
        "from datasets import Dataset, DatasetDict\n",
        "\n",
        "if isinstance(df, DatasetDict):\n",
        "    df = df[\"train\"]\n",
        "if isinstance(df, Dataset):\n",
        "    df = df.to_pandas()\n",
        "\n",
        "df[\"b64string_images\"] = df[\"image\"].apply(lambda x: base64.b64encode(x[\"bytes\"]).decode('utf-8'))\n",
        "df"
      ]
    },
    {
      "cell_type": "code",
      "execution_count": 13,
      "metadata": {
        "application/vnd.databricks.v1+cell": {
          "cellMetadata": {
            "byteLimit": 2048000,
            "rowLimit": 10000
          },
          "inputWidgets": {},
          "nuid": "3e279fd6-d26a-481e-b428-8629635da103",
          "showTitle": false,
          "title": ""
        },
        "id": "d2LDm8CmRw5I"
      },
      "outputs": [],
      "source": [
        "#To build the encoding and decoding functions we use the tinyshakespear dataset. However for the sake of brevity we do not pretrain the decoder model on it\n",
        "#the training function should be able to do it without an issue as well as it could take both images and text\n",
        "text = \"\".join(df[\"train\"].to_pandas()[\"caption\"].tolist())\n",
        "\n",
        "# here are all the unique characters that occur in this text\n",
        "chars = sorted(list(set(text)))\n",
        "# create a mapping from characters to integers\n",
        "stoi = { ch:i for i,ch in enumerate(chars) }\n",
        "stoi['<pad>']= 65\n",
        "itos = { i:ch for i,ch in enumerate(chars) }\n",
        "itos[65] = '<pad>'\n",
        "encode = lambda s: [stoi[c] for c in s] # encoder: take a string, output a list of integers\n",
        "decode = lambda l: ''.join([itos[i] for i in l]) # decoder: take a list of integers, output a string\n",
        "vocab_size = len(stoi.keys())"
      ]
    },
    {
      "cell_type": "code",
      "execution_count": 14,
      "metadata": {
        "application/vnd.databricks.v1+cell": {
          "cellMetadata": {
            "byteLimit": 2048000,
            "rowLimit": 10000
          },
          "inputWidgets": {},
          "nuid": "08daa24b-a3e9-46f9-bc57-51d8d1673397",
          "showTitle": false,
          "title": ""
        },
        "id": "TH449G_WRw5I"
      },
      "outputs": [],
      "source": [
        "class PatchEmbeddings(nn.Module):\n",
        "    def __init__(self, img_size=96, patch_size=16, hidden_dim=512):\n",
        "        super().__init__()\n",
        "        self.img_size = img_size\n",
        "        self.patch_size = patch_size\n",
        "        self.num_patches = (img_size // patch_size) ** 2\n",
        "        # Ensure the convolution outputs a feature map with hidden_dim channels\n",
        "        self.conv = nn.Conv2d(in_channels=3, out_channels=hidden_dim,\n",
        "                              kernel_size=patch_size, stride=patch_size)\n",
        "\n",
        "    def forward(self, X):\n",
        "        X = self.conv(X)\n",
        "        X = X.flatten(2)  # Flatten the patch dimensions\n",
        "        X = X.transpose(1, 2)  # [B, num_patches, hidden_dim]\n",
        "        return X\n"
      ]
    },
    {
      "cell_type": "code",
      "execution_count": 15,
      "metadata": {
        "application/vnd.databricks.v1+cell": {
          "cellMetadata": {
            "byteLimit": 2048000,
            "rowLimit": 10000
          },
          "inputWidgets": {},
          "nuid": "acec0b6d-4b53-497a-b0a4-8e8aee8270ee",
          "showTitle": false,
          "title": ""
        },
        "id": "_xJdDCXgRw5I"
      },
      "outputs": [],
      "source": [
        "#swapping linear for lazy linear for simplicity. Lazylinear can accept any arbitrary input dimension without having it specified\n",
        "\n",
        "class MLP(nn.Module):\n",
        "    def __init__(self, n_embd, dropout=0.1, is_decoder=True):\n",
        "        super().__init__()\n",
        "        layers = [\n",
        "            nn.Linear(n_embd, 4 * n_embd),\n",
        "            nn.ReLU() if is_decoder else nn.GELU(),\n",
        "            nn.Linear(4 * n_embd, n_embd),\n",
        "            nn.Dropout(dropout)\n",
        "        ]\n",
        "        self.net = nn.Sequential(*layers)\n",
        "\n",
        "    def forward(self, x):\n",
        "        return self.net(x)\n"
      ]
    },
    {
      "cell_type": "code",
      "execution_count": 16,
      "metadata": {
        "application/vnd.databricks.v1+cell": {
          "cellMetadata": {
            "byteLimit": 2048000,
            "rowLimit": 10000
          },
          "inputWidgets": {},
          "nuid": "fff7d282-c2ab-4b90-ab4a-f99fa9cd14c8",
          "showTitle": false,
          "title": ""
        },
        "id": "uqj-YL7pRw5J"
      },
      "outputs": [],
      "source": [
        "class Head(nn.Module):\n",
        "    def __init__(self, n_embd, head_size, dropout=0.1, is_decoder=False):\n",
        "        super().__init__()\n",
        "        self.key = nn.Linear(n_embd, head_size, bias=False)\n",
        "        self.query = nn.Linear(n_embd, head_size, bias=False)\n",
        "        self.value = nn.Linear(n_embd, head_size, bias=False)\n",
        "        self.dropout = nn.Dropout(dropout)\n",
        "        self.is_decoder = is_decoder\n",
        "\n",
        "    def forward(self, x):\n",
        "        B, T, C = x.shape\n",
        "        k = self.key(x)\n",
        "        q = self.query(x)\n",
        "        v = self.value(x)\n",
        "\n",
        "        # Compute attention scores\n",
        "        wei = q @ k.transpose(-2, -1) * (C**-0.5)\n",
        "        if self.is_decoder:\n",
        "            # Ensure the mask is the correct size for the current sequence length\n",
        "            tril = torch.tril(torch.ones(T, T, dtype=torch.bool, device=device))\n",
        "            wei = wei.masked_fill(tril == 0, float('-inf'))\n",
        "\n",
        "        # Apply softmax to get probabilities\n",
        "        wei = F.softmax(wei, dim=-1)\n",
        "        wei = self.dropout(wei)\n",
        "\n",
        "        # Perform weighted aggregation of values\n",
        "        out = wei @ v\n",
        "        return out\n",
        "\n"
      ]
    },
    {
      "cell_type": "code",
      "execution_count": 17,
      "metadata": {
        "application/vnd.databricks.v1+cell": {
          "cellMetadata": {
            "byteLimit": 2048000,
            "rowLimit": 10000
          },
          "inputWidgets": {},
          "nuid": "49de410a-f93b-4413-a06e-a7487379c5fc",
          "showTitle": false,
          "title": ""
        },
        "id": "-xHZhwnHRw5J"
      },
      "outputs": [],
      "source": [
        "class MultiHeadAttention(nn.Module):\n",
        "    def __init__(self, n_embd, num_heads, dropout=0.1, is_decoder=False):\n",
        "        super().__init__()\n",
        "        #Using assert statements for this type of checks is a good idea in general in your code\n",
        "        assert n_embd % num_heads == 0, \"n_embd must be divisible by num_heads\"\n",
        "        self.heads = nn.ModuleList([\n",
        "            Head(n_embd, n_embd // num_heads, dropout, is_decoder)\n",
        "            for _ in range(num_heads)\n",
        "        ])\n",
        "        self.proj = nn.Linear(n_embd, n_embd)\n",
        "        self.dropout = nn.Dropout(dropout)\n",
        "\n",
        "    def forward(self, x):\n",
        "        out = torch.cat([h(x) for h in self.heads], dim=-1)\n",
        "        out = self.dropout(self.proj(out))\n",
        "        return out\n"
      ]
    },
    {
      "cell_type": "code",
      "execution_count": 18,
      "metadata": {
        "application/vnd.databricks.v1+cell": {
          "cellMetadata": {
            "byteLimit": 2048000,
            "rowLimit": 10000
          },
          "inputWidgets": {},
          "nuid": "eb477c79-fd05-4e79-8149-27b62d2b1c7e",
          "showTitle": false,
          "title": ""
        },
        "id": "xmSrzvZYRw5K"
      },
      "outputs": [],
      "source": [
        "class Block(nn.Module):\n",
        "    def __init__(self, n_embd, num_heads, dropout=0.1, is_decoder=False):\n",
        "        super().__init__()\n",
        "        self.ln1 = nn.LayerNorm(n_embd)\n",
        "        self.attn = MultiHeadAttention(n_embd, num_heads, dropout, is_decoder)\n",
        "        self.ln2 = nn.LayerNorm(n_embd)\n",
        "        self.ffn = nn.Sequential(\n",
        "            nn.Linear(n_embd, 4 * n_embd),\n",
        "            nn.GELU(),\n",
        "            nn.Linear(4 * n_embd, n_embd),\n",
        "        )\n",
        "\n",
        "    def forward(self, x):\n",
        "        original_x = x  # Save for residual connection\n",
        "        x = self.ln1(x)\n",
        "        attn_output = self.attn(x)\n",
        "        x = original_x + attn_output\n",
        "        x = self.ln2(x)\n",
        "        ffn_output = self.ffn(x)\n",
        "        x = x + ffn_output\n",
        "        return x\n"
      ]
    },
    {
      "cell_type": "code",
      "execution_count": 19,
      "metadata": {
        "application/vnd.databricks.v1+cell": {
          "cellMetadata": {
            "byteLimit": 2048000,
            "rowLimit": 10000
          },
          "inputWidgets": {},
          "nuid": "fd6bdd3c-3c0c-413b-8800-a036a7848492",
          "showTitle": false,
          "title": ""
        },
        "id": "bSBuAN1GRw5K"
      },
      "outputs": [],
      "source": [
        "class ViT(nn.Module):\n",
        "    def __init__(self, img_size, patch_size, num_hiddens, num_heads, num_blks, emb_dropout, blk_dropout):\n",
        "        super().__init__()\n",
        "        self.patch_embedding = PatchEmbeddings(img_size, patch_size, num_hiddens)\n",
        "        self.cls_token = nn.Parameter(torch.zeros(1, 1, num_hiddens))\n",
        "        num_patches = (img_size // patch_size) ** 2\n",
        "        self.pos_embedding = nn.Parameter(torch.randn(1, num_patches + 1, num_hiddens))\n",
        "        self.dropout = nn.Dropout(emb_dropout)\n",
        "        self.blocks = nn.ModuleList([Block(num_hiddens, num_heads, blk_dropout, is_decoder=False) for _ in range(num_blks)])\n",
        "        self.layer_norm = nn.LayerNorm(num_hiddens)\n",
        "\n",
        "    def forward(self, X):\n",
        "        x = self.patch_embedding(X)\n",
        "        cls_tokens = self.cls_token.expand(x.shape[0], -1, -1)\n",
        "        x = torch.cat((cls_tokens, x), dim=1)\n",
        "        x += self.pos_embedding\n",
        "        x = self.dropout(x)\n",
        "        for block in self.blocks:\n",
        "            x = block(x)\n",
        "        x = self.layer_norm(x[:, 0])\n",
        "        return x\n"
      ]
    },
    {
      "cell_type": "code",
      "execution_count": 20,
      "metadata": {
        "application/vnd.databricks.v1+cell": {
          "cellMetadata": {
            "byteLimit": 2048000,
            "rowLimit": 10000
          },
          "inputWidgets": {},
          "nuid": "c0733d1d-fb0f-4ab2-879c-9a2fd05a4dc2",
          "showTitle": false,
          "title": ""
        },
        "id": "R3z7SAf-Rw5K"
      },
      "outputs": [],
      "source": [
        "class MultiModalProjector(nn.Module):\n",
        "    def __init__(self, n_embd, image_embed_dim, dropout=0.1):\n",
        "        super().__init__()\n",
        "        self.net = nn.Sequential(\n",
        "            nn.Linear(image_embed_dim, 4 * image_embed_dim),\n",
        "            nn.GELU(),\n",
        "            nn.Linear(4 * image_embed_dim, n_embd),\n",
        "            nn.Dropout(dropout)\n",
        "        )\n",
        "\n",
        "    def forward(self, x):\n",
        "        x = self.net(x)\n",
        "        return x\n"
      ]
    },
    {
      "cell_type": "code",
      "execution_count": 21,
      "metadata": {
        "application/vnd.databricks.v1+cell": {
          "cellMetadata": {
            "byteLimit": 2048000,
            "rowLimit": 10000
          },
          "inputWidgets": {},
          "nuid": "db59fdc2-a922-4530-92f2-f51d801b3f39",
          "showTitle": false,
          "title": ""
        },
        "id": "aL9FkWjxRw5K"
      },
      "outputs": [],
      "source": [
        "class DecoderLanguageModel(nn.Module):\n",
        "    def __init__(self, n_embd, image_embed_dim, vocab_size, num_heads, n_layer, use_images=False):\n",
        "        super().__init__()\n",
        "        self.use_images = use_images\n",
        "        self.token_embedding_table = nn.Embedding(vocab_size, n_embd)\n",
        "        self.position_embedding_table = nn.Embedding(1000, n_embd)\n",
        "        if use_images:\n",
        "            self.image_projection = MultiModalProjector(n_embd, image_embed_dim)\n",
        "        self.blocks = nn.Sequential(*[Block(n_embd, num_heads, is_decoder=True) for _ in range(n_layer)])\n",
        "        self.ln_f = nn.LayerNorm(n_embd)\n",
        "        self.lm_head = nn.Linear(n_embd, vocab_size)\n",
        "\n",
        "    def forward(self, idx, image_embeds=None, targets=None):\n",
        "        tok_emb = self.token_embedding_table(idx)\n",
        "        if self.use_images and image_embeds is not None:\n",
        "            img_emb = self.image_projection(image_embeds).unsqueeze(1)\n",
        "            tok_emb = torch.cat([img_emb, tok_emb], dim=1)\n",
        "        pos_emb = self.position_embedding_table(torch.arange(tok_emb.size(1), device=device)).unsqueeze(0)\n",
        "        x = tok_emb + pos_emb\n",
        "        x = self.blocks(x)\n",
        "        x = self.ln_f(x)\n",
        "        logits = self.lm_head(x)\n",
        "        if targets is not None:\n",
        "            if self.use_images and image_embeds is not None:\n",
        "                batch_size = idx.size(0)\n",
        "                targets = torch.cat([torch.full((batch_size, 1), -100, dtype=torch.long, device=device), targets], dim=1)\n",
        "            loss = F.cross_entropy(logits.view(-1, logits.size(-1)), targets.view(-1), ignore_index=-100)\n",
        "            return logits, loss\n",
        "        return logits\n",
        "\n",
        "    def generate(self, idx, image_embeds, max_new_tokens):\n",
        "        B, T = idx.shape\n",
        "        generated = idx\n",
        "\n",
        "        if self.use_images and image_embeds is not None:\n",
        "            img_emb = self.image_projection(image_embeds).unsqueeze(1)\n",
        "            current_output = torch.cat([img_emb, self.token_embedding_table(idx)], dim=1)\n",
        "        else:\n",
        "            current_output = self.token_embedding_table(idx)\n",
        "\n",
        "        for i in range(max_new_tokens):\n",
        "            T_current = current_output.size(1)\n",
        "            current_pos_emb = self.position_embedding_table(torch.arange(T_current, device=device)).unsqueeze(0)\n",
        "            current_output += current_pos_emb\n",
        "\n",
        "            for block in self.blocks:\n",
        "                current_output = block(current_output)\n",
        "\n",
        "            logits = self.lm_head(current_output[:, -1, :])\n",
        "            probs = F.softmax(logits, dim=-1)\n",
        "            idx_next = torch.multinomial(probs, num_samples=1)\n",
        "            generated = torch.cat((generated, idx_next), dim=1)\n",
        "            idx_next_emb = self.token_embedding_table(idx_next)\n",
        "            current_output = torch.cat((current_output, idx_next_emb), dim=1)\n",
        "\n",
        "        return generated\n"
      ]
    },
    {
      "cell_type": "code",
      "execution_count": 22,
      "metadata": {
        "application/vnd.databricks.v1+cell": {
          "cellMetadata": {
            "byteLimit": 2048000,
            "rowLimit": 10000
          },
          "inputWidgets": {},
          "nuid": "6702a660-0512-4152-8d56-97f0ebd562e8",
          "showTitle": false,
          "title": ""
        },
        "id": "FjklXZrPRw5K"
      },
      "outputs": [],
      "source": [
        "class VisionLanguageModel(nn.Module):\n",
        "    def __init__(self, n_embd, image_embed_dim, vocab_size, n_layer, img_size, patch_size, num_heads, num_blks, emb_dropout, blk_dropout):\n",
        "        super().__init__()\n",
        "        num_hiddens = image_embed_dim  # Set num_hiddens equal to image_embed_dim\n",
        "        assert num_hiddens % num_heads == 0, \"num_hiddens must be divisible by num_heads\"\n",
        "        self.vision_encoder = ViT(img_size, patch_size, num_hiddens, num_heads, num_blks, emb_dropout, blk_dropout)\n",
        "        self.decoder = DecoderLanguageModel(n_embd, image_embed_dim, vocab_size, num_heads, n_layer, use_images=True)\n",
        "\n",
        "    def forward(self, img_array, idx, targets=None):\n",
        "        image_embeds = self.vision_encoder(img_array)\n",
        "\n",
        "        if image_embeds.nelement() == 0 or image_embeds.shape[1] == 0:\n",
        "            raise ValueError(\"somethign is messed up with the ViT model. It's returning an empty tensor or the embedding dimension is empty\")\n",
        "\n",
        "        if targets is not None:\n",
        "            logits, loss = self.decoder(idx, image_embeds, targets)\n",
        "            return logits, loss\n",
        "        else:\n",
        "            logits = self.decoder(idx, image_embeds)\n",
        "            return logits\n",
        "\n",
        "    def generate(self, img_array, idx, max_new_tokens):\n",
        "      image_embeds = self.vision_encoder(img_array)\n",
        "\n",
        "      if image_embeds.nelement() == 0 or image_embeds.shape[1] ==0:\n",
        "        raise ValueError(\"somethign is messed up with the ViT model. It's returning an empty tensor or the embedding dimension is empty\")\n",
        "\n",
        "      generated_tokens = self.decoder.generate(idx, image_embeds, max_new_tokens)\n",
        "      return generated_tokens"
      ]
    },
    {
      "cell_type": "code",
      "execution_count": 23,
      "metadata": {
        "application/vnd.databricks.v1+cell": {
          "cellMetadata": {
            "byteLimit": 2048000,
            "rowLimit": 10000
          },
          "inputWidgets": {},
          "nuid": "09d59b56-a8e7-4ff4-8f0f-c0edd527f47d",
          "showTitle": false,
          "title": ""
        },
        "id": "mhoM3Rt2Rw5L"
      },
      "outputs": [],
      "source": [
        "def base64_to_tensor(base64_str, img_size=96):\n",
        "    image = Image.open(io.BytesIO(base64.b64decode(base64_str)))\n",
        "    if image.mode != 'RGB':\n",
        "        image = image.convert('RGB')\n",
        "    transform = transforms.Compose([\n",
        "        transforms.Resize((img_size, img_size)),\n",
        "        transforms.ToTensor(),\n",
        "        transforms.Normalize(mean=[0.485, 0.456, 0.406], std=[0.229, 0.224, 0.225])\n",
        "    ])\n",
        "    return transform(image).unsqueeze(0)  # Add batch dimension"
      ]
    },
    {
      "cell_type": "code",
      "execution_count": 24,
      "metadata": {
        "application/vnd.databricks.v1+cell": {
          "cellMetadata": {
            "byteLimit": 2048000,
            "rowLimit": 10000
          },
          "inputWidgets": {},
          "nuid": "45e77024-1b6f-4b25-a946-a808305f42b8",
          "showTitle": false,
          "title": ""
        },
        "id": "qF34w9-ZRw5L"
      },
      "outputs": [],
      "source": [
        "import base64\n",
        "from datasets import Dataset\n",
        "#Adjusting the data loader from makemore for multimodal data\n",
        "def get_batch(df, batch_size, split='train', img_size=96, val_batch_size=8):\n",
        "    # Split data into training and validation sets\n",
        "    if \"image\" in df:\n",
        "        df[\"b64string_images\"] = df[\"image\"].apply(lambda x: base64.b64encode(x[\"bytes\"]).decode('utf-8'))\n",
        "    n = int(0.9 * len(df))  # first 90% will be train, rest val\n",
        "    df_train = df.iloc[:n]\n",
        "    df_val = df.iloc[n:]\n",
        "    data = df_train if split == 'train' else df_val\n",
        "    batch_size = batch_size if split == 'train' else val_batch_size\n",
        "    replace = False if split == 'train' else True\n",
        "    batch = data.sample(n=batch_size, replace=replace)  \n",
        "\n",
        "    images = torch.cat([base64_to_tensor(img, img_size) for img in batch['b64string_images']], dim=0).to(device)\n",
        "    text_indices = [torch.tensor(encode(desc), dtype=torch.long) for desc in batch['caption']]\n",
        "    max_length = max(len(t) for t in text_indices)\n",
        "\n",
        "    padded_text = torch.full((batch_size, max_length), fill_value=stoi['<pad>'], dtype=torch.long).to(device)\n",
        "    for i, text in enumerate(text_indices):\n",
        "        padded_text[i, :len(text)] = text\n",
        "\n",
        "    targets = torch.cat([padded_text[:, 1:], torch.full((batch_size, 1), fill_value=stoi['<pad>'], dtype=torch.long, device=device)], dim=1)\n",
        "\n",
        "    # Truncate or pad targets to match the length of padded_text\n",
        "    if targets.size(1) > padded_text.size(1):\n",
        "        targets = targets[:, :padded_text.size(1)]\n",
        "    elif targets.size(1) < padded_text.size(1):\n",
        "        targets = torch.cat([targets, torch.full((batch_size, padded_text.size(1) - targets.size(1)), fill_value=stoi['<pad>'], dtype=torch.long, device=device)], dim=1)\n",
        "\n",
        "    return images, padded_text, targets"
      ]
    },
    {
      "cell_type": "code",
      "execution_count": 25,
      "metadata": {
        "application/vnd.databricks.v1+cell": {
          "cellMetadata": {
            "byteLimit": 2048000,
            "rowLimit": 10000
          },
          "inputWidgets": {},
          "nuid": "605036de-0c47-4dc8-9328-1a8ad9c889f8",
          "showTitle": false,
          "title": ""
        },
        "id": "IzBrV3ZWRw5L"
      },
      "outputs": [],
      "source": [
        "from datasets import Dataset, DatasetDict\n",
        "#Adjusting the training loop from makemore for multimodal data\n",
        "def train_model(model, df, epochs, vocab_size, img_size=96):\n",
        "    if isinstance(df, DatasetDict):\n",
        "        df = df[\"train\"]\n",
        "    if isinstance(df, Dataset):\n",
        "        df = df.to_pandas()\n",
        "    optimizer = torch.optim.Adam(model.parameters(), lr=learning_rate)\n",
        "    model.to(device)\n",
        "    for epoch in range(epochs):\n",
        "        model.train()\n",
        "        for _ in range(max_iters):\n",
        "            images, idx, targets = get_batch(df, batch_size, 'train', img_size)\n",
        "            optimizer.zero_grad()\n",
        "            logits, loss = model(images, idx, targets)\n",
        "            loss.backward()\n",
        "            optimizer.step()\n",
        "            if _ % eval_interval == 0:\n",
        "                print(f\"Loss at iteration {_}: {loss.item()}\")\n",
        "        val_loss = estimate_loss(model, df, 'val', img_size, val_batch_size=8)\n",
        "        print(f\"Validation Loss after epoch {epoch}: {val_loss}\")\n",
        "\n",
        "def estimate_loss(model, df, split, img_size=96, val_batch_size=8):\n",
        "    losses = []\n",
        "    model.eval()\n",
        "    for _ in range(eval_iters):\n",
        "        images, idx, targets = get_batch(df, batch_size, split, img_size, val_batch_size=val_batch_size)\n",
        "        _, loss = model(images, idx, targets)\n",
        "        losses.append(loss.item())\n",
        "    return sum(losses) / len(losses)"
      ]
    },
    {
      "cell_type": "code",
      "execution_count": 26,
      "metadata": {
        "application/vnd.databricks.v1+cell": {
          "cellMetadata": {
            "byteLimit": 2048000,
            "rowLimit": 10000
          },
          "inputWidgets": {},
          "nuid": "1670d54d-791d-4d03-945a-12aa634af044",
          "showTitle": false,
          "title": ""
        },
        "colab": {
          "base_uri": "https://localhost:8080/"
        },
        "id": "ITWGvRmkRw5L",
        "outputId": "b5aac3ec-6c6a-442a-f7df-84710c1074fc"
      },
      "outputs": [],
      "source": [
        "# df = pd.read_csv(\"./images/inputs.csv\")\n",
        "# #Expanding dataframe so that there's enough data to test. This is just duplicating data. A real dataset would have more rows\n",
        "# df = pd.concat([df] * 30)[['b64string_images', 'caption']]\n",
        "# df"
      ]
    },
    {
      "cell_type": "code",
      "execution_count": 29,
      "metadata": {
        "application/vnd.databricks.v1+cell": {
          "cellMetadata": {
            "byteLimit": 2048000,
            "rowLimit": 10000
          },
          "inputWidgets": {},
          "nuid": "3d948df0-4979-46e1-8208-629e8a95c93b",
          "showTitle": false,
          "title": ""
        },
        "id": "MFM46Cs0Rw5L"
      },
      "outputs": [],
      "source": [
        "batch_size = 16 # how many independent sequences will we process in parallel?\n",
        "block_size = 32 # what is the maximum context length for predictions?\n",
        "max_iters = 5000\n",
        "eval_interval = 10\n",
        "learning_rate = 1e-3\n",
        "epochs=1\n",
        "device = 'cuda' if torch.cuda.is_available() else 'cpu'\n",
        "eval_iters = 40\n",
        "num_blks= 3\n",
        "head_size = 16\n",
        "n_embd = 128\n",
        "n_head = 8\n",
        "n_layer = 8\n",
        "dropout = 0.1\n",
        "patch_size =16\n",
        "image_embed_dim = 512\n",
        "emb_dropout = blk_dropout =0.1"
      ]
    },
    {
      "cell_type": "code",
      "execution_count": 30,
      "metadata": {
        "application/vnd.databricks.v1+cell": {
          "cellMetadata": {
            "byteLimit": 2048000,
            "rowLimit": 10000
          },
          "inputWidgets": {},
          "nuid": "04e27881-aaee-4f40-b5cd-4e6a2de0fca7",
          "showTitle": false,
          "title": ""
        },
        "colab": {
          "base_uri": "https://localhost:8080/"
        },
        "id": "ayLj98T7Rw5L",
        "outputId": "0c541a39-c9e2-428e-f205-4d3608685722"
      },
      "outputs": [
        {
          "name": "stdout",
          "output_type": "stream",
          "text": [
            "Loss at iteration 0: 4.457466125488281\n",
            "Loss at iteration 10: 1.9654109477996826\n",
            "Loss at iteration 20: 1.81917405128479\n",
            "Loss at iteration 30: 1.7808351516723633\n",
            "Loss at iteration 40: 1.9613587856292725\n",
            "Loss at iteration 50: 1.5628306865692139\n",
            "Loss at iteration 60: 1.241055965423584\n",
            "Loss at iteration 70: 1.853525161743164\n",
            "Loss at iteration 80: 1.3078677654266357\n",
            "Loss at iteration 90: 1.7591981887817383\n",
            "Loss at iteration 100: 1.4118046760559082\n",
            "Loss at iteration 110: 1.494604468345642\n",
            "Loss at iteration 120: 1.3597708940505981\n",
            "Loss at iteration 130: 1.4479448795318604\n",
            "Loss at iteration 140: 1.2047079801559448\n",
            "Loss at iteration 150: 1.8983746767044067\n",
            "Loss at iteration 160: 1.487746000289917\n",
            "Loss at iteration 170: 1.262772560119629\n",
            "Loss at iteration 180: 1.052586317062378\n",
            "Loss at iteration 190: 1.8553410768508911\n",
            "Loss at iteration 200: 1.1981844902038574\n",
            "Loss at iteration 210: 1.6544491052627563\n",
            "Loss at iteration 220: 1.4200111627578735\n",
            "Loss at iteration 230: 1.492863655090332\n",
            "Loss at iteration 240: 1.5115609169006348\n",
            "Loss at iteration 250: 1.5112576484680176\n",
            "Loss at iteration 260: 1.4677374362945557\n",
            "Loss at iteration 270: 1.4938968420028687\n",
            "Loss at iteration 280: 1.5418834686279297\n",
            "Loss at iteration 290: 1.0817135572433472\n",
            "Loss at iteration 300: 1.397724986076355\n",
            "Loss at iteration 310: 1.529310703277588\n",
            "Loss at iteration 320: 1.4698960781097412\n",
            "Loss at iteration 330: 1.3038334846496582\n",
            "Loss at iteration 340: 1.558244228363037\n",
            "Loss at iteration 350: 1.400901436805725\n",
            "Loss at iteration 360: 1.394889235496521\n",
            "Loss at iteration 370: 0.7971213459968567\n",
            "Loss at iteration 380: 1.1299253702163696\n",
            "Loss at iteration 390: 1.187182903289795\n",
            "Loss at iteration 400: 1.369825005531311\n",
            "Loss at iteration 410: 1.3163124322891235\n",
            "Loss at iteration 420: 1.34209144115448\n",
            "Loss at iteration 430: 1.338817834854126\n",
            "Loss at iteration 440: 1.3740602731704712\n",
            "Loss at iteration 450: 0.9934642314910889\n",
            "Loss at iteration 460: 1.1351454257965088\n",
            "Loss at iteration 470: 0.9423257112503052\n",
            "Loss at iteration 480: 0.8554054498672485\n",
            "Loss at iteration 490: 1.2729804515838623\n",
            "Loss at iteration 500: 1.168145775794983\n",
            "Loss at iteration 510: 0.8899379372596741\n",
            "Loss at iteration 520: 1.2864010334014893\n",
            "Loss at iteration 530: 1.128831148147583\n",
            "Loss at iteration 540: 1.2333035469055176\n",
            "Loss at iteration 550: 1.1790273189544678\n",
            "Loss at iteration 560: 1.1546003818511963\n",
            "Loss at iteration 570: 1.1171331405639648\n",
            "Loss at iteration 580: 1.085099220275879\n",
            "Loss at iteration 590: 0.8501490950584412\n",
            "Loss at iteration 600: 1.0194867849349976\n",
            "Loss at iteration 610: 1.338018774986267\n",
            "Loss at iteration 620: 1.1972875595092773\n",
            "Loss at iteration 630: 0.5717722177505493\n",
            "Loss at iteration 640: 1.2589025497436523\n",
            "Loss at iteration 650: 1.1514043807983398\n",
            "Loss at iteration 660: 1.010741949081421\n",
            "Loss at iteration 670: 1.1273781061172485\n",
            "Loss at iteration 680: 1.2100906372070312\n",
            "Loss at iteration 690: 1.0054079294204712\n",
            "Loss at iteration 700: 1.0939171314239502\n",
            "Loss at iteration 710: 0.8080140948295593\n",
            "Loss at iteration 720: 1.0814902782440186\n",
            "Loss at iteration 730: 1.0944840908050537\n",
            "Loss at iteration 740: 0.887946367263794\n",
            "Loss at iteration 750: 0.7205496430397034\n",
            "Loss at iteration 760: 0.8735917210578918\n",
            "Loss at iteration 770: 0.8367018103599548\n",
            "Loss at iteration 780: 1.1148362159729004\n",
            "Loss at iteration 790: 0.9843791127204895\n",
            "Loss at iteration 800: 1.0792192220687866\n",
            "Loss at iteration 810: 0.931580126285553\n",
            "Loss at iteration 820: 0.6537796854972839\n",
            "Loss at iteration 830: 1.040453553199768\n",
            "Loss at iteration 840: 0.9385759234428406\n",
            "Loss at iteration 850: 0.7616943717002869\n",
            "Loss at iteration 860: 0.5448735356330872\n",
            "Loss at iteration 870: 0.9993742108345032\n",
            "Loss at iteration 880: 0.7512678503990173\n",
            "Loss at iteration 890: 0.9711688160896301\n",
            "Loss at iteration 900: 0.8491773009300232\n",
            "Loss at iteration 910: 0.6337947249412537\n",
            "Loss at iteration 920: 1.1771997213363647\n",
            "Loss at iteration 930: 1.1192872524261475\n",
            "Loss at iteration 940: 0.6301549077033997\n",
            "Loss at iteration 950: 0.8584683537483215\n",
            "Loss at iteration 960: 0.7198160886764526\n",
            "Loss at iteration 970: 1.0176477432250977\n",
            "Loss at iteration 980: 0.8837713003158569\n",
            "Loss at iteration 990: 1.0406625270843506\n",
            "Loss at iteration 1000: 1.0184857845306396\n",
            "Loss at iteration 1010: 0.9871798157691956\n",
            "Loss at iteration 1020: 0.7814999222755432\n",
            "Loss at iteration 1030: 0.8584824800491333\n",
            "Loss at iteration 1040: 0.8558530807495117\n",
            "Loss at iteration 1050: 0.7588967680931091\n",
            "Loss at iteration 1060: 0.9380242228507996\n",
            "Loss at iteration 1070: 0.835212767124176\n",
            "Loss at iteration 1080: 0.9123007655143738\n",
            "Loss at iteration 1090: 0.8310760855674744\n",
            "Loss at iteration 1100: 0.9544394016265869\n",
            "Loss at iteration 1110: 0.9802768230438232\n",
            "Loss at iteration 1120: 0.7034589052200317\n",
            "Loss at iteration 1130: 0.6888734698295593\n",
            "Loss at iteration 1140: 1.0864791870117188\n",
            "Loss at iteration 1150: 0.9497755169868469\n",
            "Loss at iteration 1160: 0.8697464466094971\n",
            "Loss at iteration 1170: 0.9720433950424194\n",
            "Loss at iteration 1180: 0.9311068058013916\n",
            "Loss at iteration 1190: 0.9352441430091858\n",
            "Loss at iteration 1200: 0.4720184803009033\n",
            "Loss at iteration 1210: 0.710627019405365\n",
            "Loss at iteration 1220: 0.8876237273216248\n",
            "Loss at iteration 1230: 1.0303528308868408\n",
            "Loss at iteration 1240: 0.7793567180633545\n",
            "Loss at iteration 1250: 0.7041113972663879\n",
            "Loss at iteration 1260: 0.8197385668754578\n",
            "Loss at iteration 1270: 0.8493662476539612\n",
            "Loss at iteration 1280: 0.9259256720542908\n",
            "Loss at iteration 1290: 0.898876428604126\n",
            "Loss at iteration 1300: 0.8827065229415894\n",
            "Loss at iteration 1310: 0.8567607998847961\n",
            "Loss at iteration 1320: 0.8753355145454407\n",
            "Loss at iteration 1330: 0.8122977614402771\n",
            "Loss at iteration 1340: 0.7757452726364136\n",
            "Loss at iteration 1350: 0.891121506690979\n",
            "Loss at iteration 1360: 0.8318533301353455\n",
            "Loss at iteration 1370: 1.033267617225647\n",
            "Loss at iteration 1380: 0.9651601910591125\n",
            "Loss at iteration 1390: 0.7324202656745911\n",
            "Loss at iteration 1400: 0.8129163384437561\n",
            "Loss at iteration 1410: 0.7847157716751099\n",
            "Loss at iteration 1420: 0.9430598020553589\n",
            "Loss at iteration 1430: 0.7136785984039307\n",
            "Loss at iteration 1440: 0.7886015176773071\n",
            "Loss at iteration 1450: 0.6763977408409119\n",
            "Loss at iteration 1460: 0.7697641253471375\n",
            "Loss at iteration 1470: 0.7082511782646179\n",
            "Loss at iteration 1480: 0.8525256514549255\n",
            "Loss at iteration 1490: 1.0591436624526978\n",
            "Loss at iteration 1500: 0.7459996342658997\n",
            "Loss at iteration 1510: 0.8311867713928223\n",
            "Loss at iteration 1520: 0.5802008509635925\n",
            "Loss at iteration 1530: 0.6430997252464294\n",
            "Loss at iteration 1540: 0.7337667942047119\n",
            "Loss at iteration 1550: 0.808711588382721\n",
            "Loss at iteration 1560: 0.8839839696884155\n",
            "Loss at iteration 1570: 0.7910878658294678\n",
            "Loss at iteration 1580: 0.7967233657836914\n",
            "Loss at iteration 1590: 0.7225552797317505\n",
            "Loss at iteration 1600: 0.9056684374809265\n",
            "Loss at iteration 1610: 0.690524697303772\n",
            "Loss at iteration 1620: 0.6149590611457825\n",
            "Loss at iteration 1630: 0.7506723403930664\n",
            "Loss at iteration 1640: 0.7607555389404297\n",
            "Loss at iteration 1650: 0.6770519018173218\n",
            "Loss at iteration 1660: 0.9094515442848206\n",
            "Loss at iteration 1670: 0.7382382750511169\n",
            "Loss at iteration 1680: 0.7325497269630432\n",
            "Loss at iteration 1690: 0.8106693029403687\n",
            "Loss at iteration 1700: 0.7285068035125732\n",
            "Loss at iteration 1710: 0.7548753023147583\n",
            "Loss at iteration 1720: 0.8828302025794983\n",
            "Loss at iteration 1730: 0.9374321103096008\n",
            "Loss at iteration 1740: 0.7860215306282043\n",
            "Loss at iteration 1750: 0.7582682967185974\n",
            "Loss at iteration 1760: 0.7738401889801025\n",
            "Loss at iteration 1770: 0.8195641040802002\n",
            "Loss at iteration 1780: 0.7582979202270508\n",
            "Loss at iteration 1790: 0.652536928653717\n",
            "Loss at iteration 1800: 0.788029134273529\n",
            "Loss at iteration 1810: 0.658449113368988\n",
            "Loss at iteration 1820: 0.7227624654769897\n",
            "Loss at iteration 1830: 0.7695057988166809\n",
            "Loss at iteration 1840: 0.7271948456764221\n",
            "Loss at iteration 1850: 0.8031112551689148\n",
            "Loss at iteration 1860: 0.8329244256019592\n",
            "Loss at iteration 1870: 0.8044840097427368\n",
            "Loss at iteration 1880: 0.6112698912620544\n",
            "Loss at iteration 1890: 0.5489225387573242\n",
            "Loss at iteration 1900: 0.8090123534202576\n",
            "Loss at iteration 1910: 0.8437527418136597\n",
            "Loss at iteration 1920: 0.8924339413642883\n",
            "Loss at iteration 1930: 0.9136572480201721\n",
            "Loss at iteration 1940: 0.7040706872940063\n",
            "Loss at iteration 1950: 0.7523199319839478\n",
            "Loss at iteration 1960: 0.5719929337501526\n",
            "Loss at iteration 1970: 0.7073240876197815\n",
            "Loss at iteration 1980: 0.6888564825057983\n",
            "Loss at iteration 1990: 0.5548831224441528\n",
            "Loss at iteration 2000: 0.6838013529777527\n",
            "Loss at iteration 2010: 0.6515640616416931\n",
            "Loss at iteration 2020: 0.6008939146995544\n",
            "Loss at iteration 2030: 0.7754656076431274\n",
            "Loss at iteration 2040: 0.7192458510398865\n",
            "Loss at iteration 2050: 0.7931201457977295\n",
            "Loss at iteration 2060: 0.7329018712043762\n",
            "Loss at iteration 2070: 0.49028244614601135\n",
            "Loss at iteration 2080: 0.7903038859367371\n",
            "Loss at iteration 2090: 0.7039995789527893\n",
            "Loss at iteration 2100: 0.7616115808486938\n",
            "Loss at iteration 2110: 0.6354200839996338\n",
            "Loss at iteration 2120: 0.712428867816925\n",
            "Loss at iteration 2130: 0.52581787109375\n",
            "Loss at iteration 2140: 0.603326141834259\n",
            "Loss at iteration 2150: 0.8601080775260925\n",
            "Loss at iteration 2160: 0.6567764282226562\n",
            "Loss at iteration 2170: 0.8196502923965454\n",
            "Loss at iteration 2180: 0.5987886190414429\n",
            "Loss at iteration 2190: 0.7410812377929688\n",
            "Loss at iteration 2200: 0.6635345220565796\n",
            "Loss at iteration 2210: 0.7489882111549377\n",
            "Loss at iteration 2220: 0.6463760733604431\n",
            "Loss at iteration 2230: 0.5859552025794983\n",
            "Loss at iteration 2240: 0.519944965839386\n",
            "Loss at iteration 2250: 0.8587580919265747\n",
            "Loss at iteration 2260: 0.6540067791938782\n",
            "Loss at iteration 2270: 0.6454927325248718\n",
            "Loss at iteration 2280: 0.7739925384521484\n",
            "Loss at iteration 2290: 0.6414101719856262\n",
            "Loss at iteration 2300: 0.4918159544467926\n",
            "Loss at iteration 2310: 0.5417381525039673\n",
            "Loss at iteration 2320: 0.6285681128501892\n",
            "Loss at iteration 2330: 0.8474729657173157\n",
            "Loss at iteration 2340: 0.576148509979248\n",
            "Loss at iteration 2350: 0.6120374202728271\n",
            "Loss at iteration 2360: 0.5894147753715515\n",
            "Loss at iteration 2370: 0.7692590951919556\n",
            "Loss at iteration 2380: 0.7112154364585876\n",
            "Loss at iteration 2390: 0.7944003343582153\n",
            "Loss at iteration 2400: 0.7515827417373657\n",
            "Loss at iteration 2410: 0.5911557078361511\n",
            "Loss at iteration 2420: 0.5111363530158997\n",
            "Loss at iteration 2430: 0.6109429001808167\n",
            "Loss at iteration 2440: 0.6520275473594666\n",
            "Loss at iteration 2450: 0.6817536354064941\n",
            "Loss at iteration 2460: 0.7669711709022522\n",
            "Loss at iteration 2470: 0.5761621594429016\n",
            "Loss at iteration 2480: 0.6677792072296143\n",
            "Loss at iteration 2490: 0.5582762360572815\n",
            "Loss at iteration 2500: 0.7318611741065979\n",
            "Loss at iteration 2510: 0.7165639996528625\n",
            "Loss at iteration 2520: 0.5278797745704651\n",
            "Loss at iteration 2530: 0.594231367111206\n",
            "Loss at iteration 2540: 0.703803300857544\n",
            "Loss at iteration 2550: 0.7150155901908875\n",
            "Loss at iteration 2560: 0.7415636777877808\n",
            "Loss at iteration 2570: 0.6520667672157288\n",
            "Loss at iteration 2580: 0.6446446776390076\n",
            "Loss at iteration 2590: 0.7180073261260986\n",
            "Loss at iteration 2600: 0.6820032596588135\n",
            "Loss at iteration 2610: 0.5449533462524414\n",
            "Loss at iteration 2620: 0.7648338675498962\n",
            "Loss at iteration 2630: 0.512598991394043\n",
            "Loss at iteration 2640: 0.6799760460853577\n",
            "Loss at iteration 2650: 0.5655792355537415\n",
            "Loss at iteration 2660: 0.6743446588516235\n",
            "Loss at iteration 2670: 0.7347901463508606\n",
            "Loss at iteration 2680: 0.6530604958534241\n",
            "Loss at iteration 2690: 0.7059056162834167\n",
            "Loss at iteration 2700: 0.7251517176628113\n",
            "Loss at iteration 2710: 0.5800547003746033\n",
            "Loss at iteration 2720: 0.474806547164917\n",
            "Loss at iteration 2730: 0.6131467819213867\n",
            "Loss at iteration 2740: 0.5921291708946228\n",
            "Loss at iteration 2750: 0.6969177722930908\n",
            "Loss at iteration 2760: 0.800967276096344\n",
            "Loss at iteration 2770: 0.7193790674209595\n",
            "Loss at iteration 2780: 0.6917119026184082\n",
            "Loss at iteration 2790: 0.7947751879692078\n",
            "Loss at iteration 2800: 0.5505818724632263\n",
            "Loss at iteration 2810: 0.6221607327461243\n",
            "Loss at iteration 2820: 0.6583359241485596\n",
            "Loss at iteration 2830: 0.6861008405685425\n",
            "Loss at iteration 2840: 0.5732863545417786\n",
            "Loss at iteration 2850: 0.5368888974189758\n",
            "Loss at iteration 2860: 0.6967008113861084\n",
            "Loss at iteration 2870: 0.6908238530158997\n",
            "Loss at iteration 2880: 0.440877228975296\n",
            "Loss at iteration 2890: 0.5907999277114868\n",
            "Loss at iteration 2900: 0.5463229417800903\n",
            "Loss at iteration 2910: 0.7380435466766357\n",
            "Loss at iteration 2920: 0.6134922504425049\n",
            "Loss at iteration 2930: 0.524940550327301\n",
            "Loss at iteration 2940: 0.7011488080024719\n",
            "Loss at iteration 2950: 0.663038969039917\n",
            "Loss at iteration 2960: 0.7960388660430908\n",
            "Loss at iteration 2970: 0.6557045578956604\n",
            "Loss at iteration 2980: 0.5746557116508484\n",
            "Loss at iteration 2990: 0.6216526031494141\n",
            "Loss at iteration 3000: 0.5201717615127563\n",
            "Loss at iteration 3010: 0.5645208358764648\n",
            "Loss at iteration 3020: 0.681338369846344\n",
            "Loss at iteration 3030: 0.506790041923523\n",
            "Loss at iteration 3040: 0.5135752558708191\n",
            "Loss at iteration 3050: 0.7200300693511963\n",
            "Loss at iteration 3060: 0.6138917207717896\n",
            "Loss at iteration 3070: 0.6498751640319824\n",
            "Loss at iteration 3080: 0.5426925420761108\n",
            "Loss at iteration 3090: 0.6984801888465881\n",
            "Loss at iteration 3100: 0.633228063583374\n",
            "Loss at iteration 3110: 0.7813173532485962\n",
            "Loss at iteration 3120: 0.6640464663505554\n",
            "Loss at iteration 3130: 0.5402823686599731\n",
            "Loss at iteration 3140: 0.5498493313789368\n",
            "Loss at iteration 3150: 0.5685938000679016\n",
            "Loss at iteration 3160: 0.6448308825492859\n",
            "Loss at iteration 3170: 0.5694594979286194\n",
            "Loss at iteration 3180: 0.5441405773162842\n",
            "Loss at iteration 3190: 0.602061927318573\n",
            "Loss at iteration 3200: 0.5601781606674194\n",
            "Loss at iteration 3210: 0.6153864860534668\n",
            "Loss at iteration 3220: 0.7117961645126343\n",
            "Loss at iteration 3230: 0.5532664060592651\n",
            "Loss at iteration 3240: 0.39178773760795593\n",
            "Loss at iteration 3250: 0.5400567650794983\n",
            "Loss at iteration 3260: 0.5587518811225891\n",
            "Loss at iteration 3270: 0.6305272579193115\n",
            "Loss at iteration 3280: 0.6059664487838745\n",
            "Loss at iteration 3290: 0.6360766291618347\n",
            "Loss at iteration 3300: 0.5749428272247314\n",
            "Loss at iteration 3310: 0.5553396940231323\n",
            "Loss at iteration 3320: 0.5111180543899536\n",
            "Loss at iteration 3330: 0.4524749219417572\n",
            "Loss at iteration 3340: 0.6806154251098633\n",
            "Loss at iteration 3350: 0.611592710018158\n",
            "Loss at iteration 3360: 0.6060865521430969\n",
            "Loss at iteration 3370: 0.6536222100257874\n",
            "Loss at iteration 3380: 0.6294447779655457\n",
            "Loss at iteration 3390: 0.530959963798523\n",
            "Loss at iteration 3400: 0.43293797969818115\n",
            "Loss at iteration 3410: 0.6131316423416138\n",
            "Loss at iteration 3420: 0.5743390321731567\n",
            "Loss at iteration 3430: 0.6681442856788635\n",
            "Loss at iteration 3440: 0.5981866717338562\n",
            "Loss at iteration 3450: 0.6199120879173279\n",
            "Loss at iteration 3460: 0.49285459518432617\n",
            "Loss at iteration 3470: 0.5751237273216248\n",
            "Loss at iteration 3480: 0.6085407137870789\n",
            "Loss at iteration 3490: 0.5817265510559082\n",
            "Loss at iteration 3500: 0.5923275947570801\n",
            "Loss at iteration 3510: 0.4205361008644104\n",
            "Loss at iteration 3520: 0.5711774826049805\n",
            "Loss at iteration 3530: 0.5116517543792725\n",
            "Loss at iteration 3540: 0.587491512298584\n",
            "Loss at iteration 3550: 0.581495463848114\n",
            "Loss at iteration 3560: 0.6718538403511047\n",
            "Loss at iteration 3570: 0.7368882894515991\n",
            "Loss at iteration 3580: 0.6447553634643555\n",
            "Loss at iteration 3590: 0.45475199818611145\n",
            "Loss at iteration 3600: 0.5067221522331238\n",
            "Loss at iteration 3610: 0.448818176984787\n",
            "Loss at iteration 3620: 0.555903434753418\n",
            "Loss at iteration 3630: 0.616253674030304\n",
            "Loss at iteration 3640: 0.5304105281829834\n",
            "Loss at iteration 3650: 0.6906153559684753\n",
            "Loss at iteration 3660: 0.5984304547309875\n",
            "Loss at iteration 3670: 0.5811008214950562\n",
            "Loss at iteration 3680: 0.5462155938148499\n",
            "Loss at iteration 3690: 0.4833442270755768\n",
            "Loss at iteration 3700: 0.5788655877113342\n",
            "Loss at iteration 3710: 0.6232078671455383\n",
            "Loss at iteration 3720: 0.6527730226516724\n",
            "Loss at iteration 3730: 0.6302133798599243\n",
            "Loss at iteration 3740: 0.4809899926185608\n",
            "Loss at iteration 3750: 0.543961763381958\n",
            "Loss at iteration 3760: 0.5750734806060791\n",
            "Loss at iteration 3770: 0.6102983355522156\n",
            "Loss at iteration 3780: 0.605659008026123\n",
            "Loss at iteration 3790: 0.6418333053588867\n",
            "Loss at iteration 3800: 0.48229700326919556\n",
            "Loss at iteration 3810: 0.5686244964599609\n",
            "Loss at iteration 3820: 0.55795818567276\n",
            "Loss at iteration 3830: 0.6184898614883423\n",
            "Loss at iteration 3840: 0.4582485854625702\n",
            "Loss at iteration 3850: 0.5481553077697754\n",
            "Loss at iteration 3860: 0.3475508689880371\n",
            "Loss at iteration 3870: 0.5043232440948486\n",
            "Loss at iteration 3880: 0.536555290222168\n",
            "Loss at iteration 3890: 0.6114418506622314\n",
            "Loss at iteration 3900: 0.5726165175437927\n",
            "Loss at iteration 3910: 0.5262908935546875\n",
            "Loss at iteration 3920: 0.6418848633766174\n",
            "Loss at iteration 3930: 0.6204069256782532\n",
            "Loss at iteration 3940: 0.5229288339614868\n",
            "Loss at iteration 3950: 0.3987928032875061\n",
            "Loss at iteration 3960: 0.4317706525325775\n",
            "Loss at iteration 3970: 0.6222717761993408\n",
            "Loss at iteration 3980: 0.5314193367958069\n",
            "Loss at iteration 3990: 0.4916023910045624\n",
            "Loss at iteration 4000: 0.634872317314148\n",
            "Loss at iteration 4010: 0.5735442638397217\n",
            "Loss at iteration 4020: 0.6664480566978455\n",
            "Loss at iteration 4030: 0.5501830577850342\n",
            "Loss at iteration 4040: 0.6838290095329285\n",
            "Loss at iteration 4050: 0.5156689286231995\n",
            "Loss at iteration 4060: 0.6212165951728821\n",
            "Loss at iteration 4070: 0.5285457372665405\n",
            "Loss at iteration 4080: 0.5378398895263672\n",
            "Loss at iteration 4090: 0.5131555199623108\n",
            "Loss at iteration 4100: 0.4071051776409149\n",
            "Loss at iteration 4110: 0.392795205116272\n",
            "Loss at iteration 4120: 0.5937033295631409\n",
            "Loss at iteration 4130: 0.5709027051925659\n",
            "Loss at iteration 4140: 0.6754544377326965\n",
            "Loss at iteration 4150: 0.5850775241851807\n",
            "Loss at iteration 4160: 0.43565770983695984\n",
            "Loss at iteration 4170: 0.5247796177864075\n",
            "Loss at iteration 4180: 0.5915939211845398\n",
            "Loss at iteration 4190: 0.48592308163642883\n",
            "Loss at iteration 4200: 0.5825823545455933\n",
            "Loss at iteration 4210: 0.5307955145835876\n",
            "Loss at iteration 4220: 0.5524674654006958\n",
            "Loss at iteration 4230: 0.5024685263633728\n",
            "Loss at iteration 4240: 0.7611437439918518\n",
            "Loss at iteration 4250: 0.547603189945221\n",
            "Loss at iteration 4260: 0.5586239695549011\n",
            "Loss at iteration 4270: 0.5793749094009399\n",
            "Loss at iteration 4280: 0.569911003112793\n",
            "Loss at iteration 4290: 0.6589583158493042\n",
            "Loss at iteration 4300: 0.5349291563034058\n",
            "Loss at iteration 4310: 0.4715109169483185\n",
            "Loss at iteration 4320: 0.6973649859428406\n",
            "Loss at iteration 4330: 0.5810533761978149\n",
            "Loss at iteration 4340: 0.45448487997055054\n",
            "Loss at iteration 4350: 0.6076081991195679\n",
            "Loss at iteration 4360: 0.5880929231643677\n",
            "Loss at iteration 4370: 0.8364123702049255\n",
            "Loss at iteration 4380: 0.34688615798950195\n",
            "Loss at iteration 4390: 0.4670427441596985\n",
            "Loss at iteration 4400: 0.49180570244789124\n",
            "Loss at iteration 4410: 0.4019431173801422\n",
            "Loss at iteration 4420: 0.4912461042404175\n",
            "Loss at iteration 4430: 0.4854196310043335\n",
            "Loss at iteration 4440: 0.48993438482284546\n",
            "Loss at iteration 4450: 0.6398006677627563\n",
            "Loss at iteration 4460: 0.39404815435409546\n",
            "Loss at iteration 4470: 0.6401811242103577\n",
            "Loss at iteration 4480: 0.48858582973480225\n",
            "Loss at iteration 4490: 0.44031980633735657\n",
            "Loss at iteration 4500: 0.45792654156684875\n",
            "Loss at iteration 4510: 0.5477468371391296\n",
            "Loss at iteration 4520: 0.5214402675628662\n",
            "Loss at iteration 4530: 0.5166988968849182\n",
            "Loss at iteration 4540: 0.38973715901374817\n",
            "Loss at iteration 4550: 0.44040605425834656\n",
            "Loss at iteration 4560: 0.621386706829071\n",
            "Loss at iteration 4570: 0.4630134403705597\n",
            "Loss at iteration 4580: 0.669992983341217\n",
            "Loss at iteration 4590: 0.43604224920272827\n",
            "Loss at iteration 4600: 0.4497416615486145\n",
            "Loss at iteration 4610: 0.5490204691886902\n",
            "Loss at iteration 4620: 0.498244971036911\n",
            "Loss at iteration 4630: 0.40939319133758545\n",
            "Loss at iteration 4640: 0.637124240398407\n",
            "Loss at iteration 4650: 0.47693365812301636\n",
            "Loss at iteration 4660: 0.4639245569705963\n",
            "Loss at iteration 4670: 0.4809627830982208\n",
            "Loss at iteration 4680: 0.38514164090156555\n",
            "Loss at iteration 4690: 0.484462171792984\n",
            "Loss at iteration 4700: 0.6630096435546875\n",
            "Loss at iteration 4710: 0.5829762816429138\n",
            "Loss at iteration 4720: 0.5275024771690369\n",
            "Loss at iteration 4730: 0.3777065575122833\n",
            "Loss at iteration 4740: 0.3470507562160492\n",
            "Loss at iteration 4750: 0.5319941639900208\n",
            "Loss at iteration 4760: 0.5616456866264343\n",
            "Loss at iteration 4770: 0.5053460001945496\n",
            "Loss at iteration 4780: 0.5740621089935303\n",
            "Loss at iteration 4790: 0.515487551689148\n",
            "Loss at iteration 4800: 0.5886583924293518\n",
            "Loss at iteration 4810: 0.4457494020462036\n",
            "Loss at iteration 4820: 0.4456687867641449\n",
            "Loss at iteration 4830: 0.6491228342056274\n",
            "Loss at iteration 4840: 0.5293510556221008\n",
            "Loss at iteration 4850: 0.4773276150226593\n",
            "Loss at iteration 4860: 0.5415650010108948\n",
            "Loss at iteration 4870: 0.4722066819667816\n",
            "Loss at iteration 4880: 0.428740918636322\n",
            "Loss at iteration 4890: 0.3554552495479584\n",
            "Loss at iteration 4900: 0.5966821312904358\n",
            "Loss at iteration 4910: 0.5091397166252136\n",
            "Loss at iteration 4920: 0.45009535551071167\n",
            "Loss at iteration 4930: 0.5257073640823364\n",
            "Loss at iteration 4940: 0.5733364820480347\n",
            "Loss at iteration 4950: 0.4553799033164978\n",
            "Loss at iteration 4960: 0.5924075245857239\n",
            "Loss at iteration 4970: 0.5348499417304993\n",
            "Loss at iteration 4980: 0.6014987230300903\n",
            "Loss at iteration 4990: 0.5845017433166504\n",
            "Validation Loss after epoch 0: 0.8318596243858337\n"
          ]
        }
      ],
      "source": [
        "# Initialize the model\n",
        "model = VisionLanguageModel(n_embd, image_embed_dim, vocab_size, n_layer, img_size, patch_size, n_head, num_blks, emb_dropout, blk_dropout)\n",
        "model.to(device)\n",
        "\n",
        "# Dummy data to initialize lazy modules\n",
        "dummy_img = torch.randn(1, 3, img_size, img_size).to(device)\n",
        "dummy_idx = torch.randint(0, vocab_size, (1, block_size)).to(device)\n",
        "model(dummy_img, dummy_idx)  # Forward pass to initialize all parameters\n",
        "\n",
        "# Train the model\n",
        "train_model(model, df, epochs, vocab_size, img_size)\n"
      ]
    },
    {
      "cell_type": "code",
      "execution_count": 44,
      "metadata": {
        "application/vnd.databricks.v1+cell": {
          "cellMetadata": {},
          "inputWidgets": {},
          "nuid": "beff4f71-70ae-45f2-b51b-ce8e3e3085f2",
          "showTitle": false,
          "title": ""
        },
        "id": "sslq5qWDRw5L"
      },
      "outputs": [
        {
          "data": {
            "text/plain": [
              "tensor([[[-1.7311,  5.2757, -0.4133, -1.1743, -1.1277, -1.7533, -1.8081,\n",
              "          -0.9809, -0.9797, -1.3525, -1.2050, -0.4810, -0.2295, -2.3593,\n",
              "          -0.5692, -0.7823, -1.2575, -0.9167, -0.8237, -0.5034, -0.9424,\n",
              "          -1.1928, -1.2674, -1.5453, -1.7860, -0.4398, -0.8411, -2.0823,\n",
              "          -0.6756, -0.7530, -1.4844, -1.2397, -1.1951, -0.4741, -1.9015,\n",
              "          -1.2799, -1.4157, -1.9456, -0.9511, -1.5447, -0.3529,  0.0359,\n",
              "           1.1332, -0.9679, -1.8003, -0.4798, -1.1702,  3.1647, -1.3321,\n",
              "          -1.0094, -1.0182, -1.6907,  3.7277,  0.8723,  1.5402,  1.1272,\n",
              "           0.8613,  3.8117,  1.6693, -1.1401, -1.3969, -2.8048, -0.7900,\n",
              "          -1.5353, -1.3209, -1.0876]]], device='cuda:0',\n",
              "       grad_fn=<ViewBackward0>)"
            ]
          },
          "execution_count": 44,
          "metadata": {},
          "output_type": "execute_result"
        }
      ],
      "source": [
        "images = torch.cat([base64_to_tensor(img, img_size) for img in [df['b64string_images'].iloc[0]]], dim=0).to(device)\n",
        "text_indices = torch.tensor(encode(\"\"), dtype=torch.long).unsqueeze(0).to(\"cuda\")\n",
        "model(images, text_indices[0].unsqueeze(0).to(\"cuda\"))  # Forward pass to initialize all parameters"
      ]
    },
    {
      "cell_type": "code",
      "execution_count": 50,
      "metadata": {},
      "outputs": [
        {
          "name": "stdout",
          "output_type": "stream",
          "text": [
            "--- <pad> token generated at step 54. Stopping. ---\n",
            "looking at the airplane on a skateboard near a phone.<pad>\n"
          ]
        },
        {
          "data": {
            "image/jpeg": "[encoded data removed]",
            "image/png": "[encoded data removed]",
            "text/plain": [
              "<PIL.PngImagePlugin.PngImageFile image mode=RGB size=96x96>"
            ]
          },
          "metadata": {},
          "output_type": "display_data"
        }
      ],
      "source": [
        "max_tokens = 100\n",
        "# Add temperature for sampling. Higher values (e.g., 1.0) make the output more random,\n",
        "# while lower values (e.g., 0.2) make it more focused and deterministic.\n",
        "temperature = 0.5\n",
        "index = 80\n",
        "\n",
        "images = torch.cat([base64_to_tensor(img, img_size) for img in [df['b64string_images'].iloc[index]]], dim=0).to(device)\n",
        "text_indices = torch.tensor(encode(\"\"), dtype=torch.long).unsqueeze(0).to(\"cuda\")\n",
        "with torch.no_grad():  # Disable gradient calculations for efficiency\n",
        "    for i in range(max_tokens):\n",
        "        # Pass the image and the currently generated sequence to the model\n",
        "        logits = model(images, text_indices)\n",
        "\n",
        "        # We only need the logits for the very last token to predict the next one\n",
        "        # logits shape: [batch_size, seq_len, vocab_size]\n",
        "        last_token_logits = logits[:, -1, :]\n",
        "\n",
        "        # --- Temperature Sampling ---\n",
        "        # Scale logits by temperature. This sharpens or flattens the probability distribution.\n",
        "        scaled_logits = last_token_logits / temperature\n",
        "\n",
        "        # Apply softmax to the scaled logits to get a new probability distribution\n",
        "        probs = torch.nn.functional.softmax(scaled_logits, dim=-1)\n",
        "\n",
        "        # Sample from the probability distribution to get the next token\n",
        "        next_token_index = torch.multinomial(probs, num_samples=1)\n",
        "        # --- End Temperature Sampling ---\n",
        "\n",
        "        # Append the predicted token to our sequence\n",
        "        text_indices = torch.cat([text_indices, next_token_index], dim=1)\n",
        "\n",
        "        # Check if the generated token is the padding token, which signals the end\n",
        "        if next_token_index.item() == stoi['<pad>']:\n",
        "            print(f\"--- <pad> token generated at step {i+1}. Stopping. ---\")\n",
        "            break\n",
        "    else:  # This 'else' belongs to the 'for' loop and executes if the loop finishes without a 'break'\n",
        "        print(f\"--- Max tokens ({max_tokens}) reached. Stopping. ---\")\n",
        "\n",
        "print(decode(text_indices[0].tolist()))\n",
        "\n",
        "import base64\n",
        "from PIL import Image\n",
        "image_bytes = base64.b64decode(df['b64string_images'].iloc[index])\n",
        "image_file = io.BytesIO(image_bytes)\n",
        "image = Image.open(image_file)\n",
        "image.show()\n"
      ]
    },
    {
      "cell_type": "code",
      "execution_count": 38,
      "metadata": {},
      "outputs": [
        {
          "data": {
            "image/jpeg": "[encoded data removed]",
            "image/png": "[encoded data removed]",
            "text/plain": [
              "<PIL.PngImagePlugin.PngImageFile image mode=RGB size=96x96>"
            ]
          },
          "metadata": {},
          "output_type": "display_data"
        }
      ],
      "source": [
        "import base64\n",
        "from PIL import Image\n",
        "image_bytes = base64.b64decode(df['b64string_images'].iloc[4])\n",
        "image_file = io.BytesIO(image_bytes)\n",
        "image = Image.open(image_file)\n",
        "image.show()"
      ]
    },
    {
      "cell_type": "code",
      "execution_count": 50,
      "metadata": {},
      "outputs": [
        {
          "data": {
            "text/plain": [
              "' n antique iphone on a table<pad>'"
            ]
          },
          "execution_count": 50,
          "metadata": {},
          "output_type": "execute_result"
        }
      ],
      "source": [
        "decode(text_indices[0].tolist())"
      ]
    },
    {
      "cell_type": "code",
      "execution_count": 48,
      "metadata": {},
      "outputs": [
        {
          "name": "stdout",
          "output_type": "stream",
          "text": [
            "tensor([[ 1, 52,  1, 39, 52, 58, 47, 55, 59, 43,  1, 47, 54, 46, 53, 52, 43,  1,\n",
            "         53, 52,  1, 39,  1, 58, 39, 40, 50, 43, 65]], device='cuda:0')\n"
          ]
        }
      ],
      "source": [
        "print(text_indices)"
      ]
    },
    {
      "cell_type": "code",
      "execution_count": null,
      "metadata": {},
      "outputs": [
        {
          "data": {
            "text/plain": [
              "tensor([[[-1.7311,  5.2757, -0.4133,  ..., -1.5353, -1.3209, -1.0876],\n",
              "         [-1.7472,  6.0970, -0.7582,  ..., -1.4642, -1.1667, -0.9900],\n",
              "         [-0.5693,  1.2513, -0.2370,  ..., -1.3210, -0.4063,  0.0685],\n",
              "         ...,\n",
              "         [ 0.2831,  0.5999, -0.6967,  ..., -0.5983, -0.0113,  1.3863],\n",
              "         [-0.4364, -0.4496, -0.0433,  ..., -1.0106, -0.6957, -0.5579],\n",
              "         [-0.3145,  0.4481, -0.6858,  ..., -0.8898, -1.6107,  9.4207]]],\n",
              "       device='cuda:0', grad_fn=<ViewBackward0>)"
            ]
          },
          "execution_count": 37,
          "metadata": {},
          "output_type": "execute_result"
        }
      ],
      "source": []
    },
    {
      "cell_type": "code",
      "execution_count": 67,
      "metadata": {},
      "outputs": [
        {
          "name": "stdout",
          "output_type": "stream",
          "text": [
            "Loading dataset 'jxie/coco_captions' in streaming mode...\n"
          ]
        },
        {
          "data": {
            "application/vnd.jupyter.widget-view+json": {
              "model_id": "ef6ac55c94ba4f899eed5de3d088b002",
              "version_major": 2,
              "version_minor": 0
            },
            "text/plain": [
              "Resolving data files:   0%|          | 0/182 [00:00<?, ?it/s]"
            ]
          },
          "metadata": {},
          "output_type": "display_data"
        },
        {
          "name": "stdout",
          "output_type": "stream",
          "text": [
            "Taking the first 5000 samples...\n",
            "Creating a new Dataset object from the subset...\n",
            "\n",
            "Pushing dataset to the Hugging Face Hub...\n",
            "Note: You must be logged in. Run 'huggingface-cli login' in your terminal if you haven't.\n",
            "Uploading to repository: Erland/coco_captions_small\n"
          ]
        },
        {
          "data": {
            "application/vnd.jupyter.widget-view+json": {
              "model_id": "985cbc047d544abcb5660343101cf82c",
              "version_major": 2,
              "version_minor": 0
            },
            "text/plain": [
              "Uploading the dataset shards:   0%|          | 0/1 [00:00<?, ? shards/s]"
            ]
          },
          "metadata": {},
          "output_type": "display_data"
        },
        {
          "data": {
            "application/vnd.jupyter.widget-view+json": {
              "model_id": "eb948125de19476294b711c82aaac7c4",
              "version_major": 2,
              "version_minor": 0
            },
            "text/plain": [
              "Map:   0%|          | 0/5000 [00:00<?, ? examples/s]"
            ]
          },
          "metadata": {},
          "output_type": "display_data"
        },
        {
          "data": {
            "application/vnd.jupyter.widget-view+json": {
              "model_id": "1f05b63ded9d4076ba4dca74eee6434a",
              "version_major": 2,
              "version_minor": 0
            },
            "text/plain": [
              "Creating parquet from Arrow format:   0%|          | 0/3 [00:00<?, ?ba/s]"
            ]
          },
          "metadata": {},
          "output_type": "display_data"
        },
        {
          "data": {
            "application/vnd.jupyter.widget-view+json": {
              "model_id": "8d3e9516ead84f5e8683ffd6bad99f6c",
              "version_major": 2,
              "version_minor": 0
            },
            "text/plain": [
              "Processing Files (0 / 0): |          |  0.00B /  0.00B            "
            ]
          },
          "metadata": {},
          "output_type": "display_data"
        },
        {
          "data": {
            "application/vnd.jupyter.widget-view+json": {
              "model_id": "46075b91abcb4f9bbc5d60bf21a368f4",
              "version_major": 2,
              "version_minor": 0
            },
            "text/plain": [
              "New Data Upload: |          |  0.00B /  0.00B            "
            ]
          },
          "metadata": {},
          "output_type": "display_data"
        },
        {
          "name": "stdout",
          "output_type": "stream",
          "text": [
            "\n",
            "Process complete!\n",
            "Successfully pushed 5000 records to the Hub.\n",
            "View your dataset at: https://huggingface.co/datasets/Erland/coco_captions_small\n"
          ]
        }
      ],
      "source": [
        "from datasets import load_dataset, Dataset\n",
        "from itertools import islice\n",
        "\"\"\"\n",
        "Streams the jxie/coco_captions dataset, takes the first 500 examples,\n",
        "and pushes them to a new repository on the Hugging Face Hub.\n",
        "\"\"\"\n",
        "# --- Dataset Configuration ---\n",
        "original_repo = \"jxie/coco_captions\"\n",
        "num_samples = 5000\n",
        "split = 'train' # Assuming you want the 'train' split\n",
        "\n",
        "# --- Hugging Face Hub Configuration ---\n",
        "# !!! IMPORTANT: Replace with your Hugging Face username !!!\n",
        "hf_username = \"Erland\"\n",
        "hf_repo_name = \"coco_captions_small\"\n",
        "\n",
        "print(f\"Loading dataset '{original_repo}' in streaming mode...\")\n",
        "\n",
        "# 1. Load the dataset in streaming mode\n",
        "streamed_dataset = load_dataset(original_repo, split=split, streaming=True)\n",
        "\n",
        "# 2. Take the first N samples from the stream\n",
        "print(f\"Taking the first {num_samples} samples...\")\n",
        "subset_iterator = islice(streamed_dataset, num_samples)\n",
        "\n",
        "# Load the subset into memory to create a standard Dataset\n",
        "subset_list = list(subset_iterator)\n",
        "\n",
        "# 3. Convert the list of dictionaries to a dictionary of lists\n",
        "if not subset_list:\n",
        "    print(\"No data was streamed from the dataset. Exiting.\")\n",
        "    exit(1)\n",
        "\n",
        "keys = subset_list[0].keys()\n",
        "data_dict = {key: [example[key] for example in subset_list] for key in keys}\n",
        "\n",
        "# 4. Create a new Dataset object\n",
        "print(\"Creating a new Dataset object from the subset...\")\n",
        "small_dataset = Dataset.from_dict(data_dict)\n",
        "\n",
        "# 5. Push the new dataset to the Hugging Face Hub\n",
        "print(\"\\nPushing dataset to the Hugging Face Hub...\")\n",
        "print(\"Note: You must be logged in. Run 'huggingface-cli login' in your terminal if you haven't.\")\n",
        "\n",
        "if hf_username == \"YOUR_HF_USERNAME\" or not hf_username:\n",
        "    print(\"\\nERROR: Please open this script and set the 'hf_username' variable to your Hugging Face username.\")\n",
        "    exit(1)\n",
        "\n",
        "hub_repo_id = f\"{hf_username}/{hf_repo_name}\"\n",
        "print(f\"Uploading to repository: {hub_repo_id}\")\n",
        "\n",
        "try:\n",
        "    # You can add `private=True` to make the dataset private:\n",
        "    # small_dataset.push_to_hub(hub_repo_id, private=True)\n",
        "    small_dataset.push_to_hub(hub_repo_id)\n",
        "    \n",
        "    print(\"\\nProcess complete!\")\n",
        "    print(f\"Successfully pushed {len(small_dataset)} records to the Hub.\")\n",
        "    print(f\"View your dataset at: https://huggingface.co/datasets/{hub_repo_id}\")\n",
        "except Exception as e:\n",
        "    print(f\"\\nAn error occurred during upload: {e}\")\n",
        "    print(\"Please ensure you are logged in ('huggingface-cli login') and have write permissions for the repository.\")"
      ]
    },
    {
      "cell_type": "code",
      "execution_count": 68,
      "metadata": {},
      "outputs": [
        {
          "data": {
            "application/vnd.jupyter.widget-view+json": {
              "model_id": "a5f3930ddb84428592c1c735adc43f62",
              "version_major": 2,
              "version_minor": 0
            },
            "text/plain": [
              "README.md:   0%|          | 0.00/387 [00:00<?, ?B/s]"
            ]
          },
          "metadata": {},
          "output_type": "display_data"
        },
        {
          "data": {
            "application/vnd.jupyter.widget-view+json": {
              "model_id": "a28b74572bf3424594a3f1bd04d894c3",
              "version_major": 2,
              "version_minor": 0
            },
            "text/plain": [
              "data/train-00000-of-00001.parquet:   0%|          | 0.00/233M [00:00<?, ?B/s]"
            ]
          },
          "metadata": {},
          "output_type": "display_data"
        },
        {
          "data": {
            "application/vnd.jupyter.widget-view+json": {
              "model_id": "fdf74555282a454fbaeac34d7ed1116a",
              "version_major": 2,
              "version_minor": 0
            },
            "text/plain": [
              "Generating train split:   0%|          | 0/5000 [00:00<?, ? examples/s]"
            ]
          },
          "metadata": {},
          "output_type": "display_data"
        },
        {
          "data": {
            "text/plain": [
              "DatasetDict({\n",
              "    train: Dataset({\n",
              "        features: ['image', 'filename', 'cocoid', 'caption'],\n",
              "        num_rows: 5000\n",
              "    })\n",
              "})"
            ]
          },
          "execution_count": 68,
          "metadata": {},
          "output_type": "execute_result"
        }
      ],
      "source": [
        "from datasets import load_dataset\n",
        "\n",
        "dataset = load_dataset(\"Erland/coco_captions_small\")\n",
        "dataset"
      ]
    },
    {
      "cell_type": "code",
      "execution_count": null,
      "metadata": {},
      "outputs": [
        {
          "ename": "NameError",
          "evalue": "name 'dataset' is not defined",
          "output_type": "error",
          "traceback": [
            "\u001b[31m---------------------------------------------------------------------------\u001b[39m",
            "\u001b[31mNameError\u001b[39m                                 Traceback (most recent call last)",
            "\u001b[36mCell\u001b[39m\u001b[36m \u001b[39m\u001b[32mIn[31]\u001b[39m\u001b[32m, line 1\u001b[39m\n\u001b[32m----> \u001b[39m\u001b[32m1\u001b[39m \u001b[38;5;28;01mif\u001b[39;00m \u001b[38;5;28misinstance\u001b[39m(\u001b[43mdataset\u001b[49m, DatasetDict):\n\u001b[32m      2\u001b[39m     dataset = dataset[\u001b[33m\"\u001b[39m\u001b[33mtrain\u001b[39m\u001b[33m\"\u001b[39m]\n\u001b[32m      3\u001b[39m \u001b[38;5;28;01mif\u001b[39;00m \u001b[38;5;28misinstance\u001b[39m(dataset, Dataset):\n",
            "\u001b[31mNameError\u001b[39m: name 'dataset' is not defined"
          ]
        }
      ],
      "source": [
        "if isinstance(dataset, DatasetDict):\n",
        "    dataset = dataset[\"train\"]\n",
        "if isinstance(dataset, Dataset):\n",
        "    dataset = dataset.to_pandas()\n",
        "\n",
        "dataset[\"b64string_images\"] = dataset[\"image\"].apply(lambda x: base64.b64encode(x[\"bytes\"]).decode('utf-8'))\n",
        "dataset"
      ]
    },
    {
      "cell_type": "code",
      "execution_count": 70,
      "metadata": {},
      "outputs": [
        {
          "data": {
            "text/plain": [
              "(<PIL.JpegImagePlugin.JpegImageFile image mode=RGB size=640x480>,\n",
              " 'A woman wearing a net on her head cutting a cake. ')"
            ]
          },
          "execution_count": 70,
          "metadata": {},
          "output_type": "execute_result"
        }
      ],
      "source": [
        "dataset[\"train\"][0][\"image\"], dataset[\"train\"][0][\"caption\"]"
      ]
    },
    {
      "cell_type": "code",
      "execution_count": null,
      "metadata": {},
      "outputs": [],
      "source": []
    }
  ],
  "metadata": {
    "accelerator": "GPU",
    "application/vnd.databricks.v1+notebook": {
      "dashboards": [],
      "language": "python",
      "notebookMetadata": {
        "pythonIndentUnit": 2
      },
      "notebookName": "seemore",
      "widgets": {}
    },
    "colab": {
      "gpuType": "T4",
      "provenance": []
    },
    "kernelspec": {
      "display_name": ".venv",
      "language": "python",
      "name": "python3"
    },
    "language_info": {
      "codemirror_mode": {
        "name": "ipython",
        "version": 3
      },
      "file_extension": ".py",
      "mimetype": "text/x-python",
      "name": "python",
      "nbconvert_exporter": "python",
      "pygments_lexer": "ipython3",
      "version": "3.12.11"
    }
  },
  "nbformat": 4,
  "nbformat_minor": 0
}
