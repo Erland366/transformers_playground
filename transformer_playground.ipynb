{
  "cells": [
    {
      "cell_type": "code",
      "execution_count": 1,
      "metadata": {
        "id": "sdtDsu1Y0EqL"
      },
      "outputs": [
        {
          "data": {
            "text/plain": [
              "device(type='cuda')"
            ]
          },
          "execution_count": 1,
          "metadata": {},
          "output_type": "execute_result"
        }
      ],
      "source": [
        "import os\n",
        "import re\n",
        "import math\n",
        "import random\n",
        "import torch\n",
        "import torch.nn as nn\n",
        "from torch.nn import functional as F\n",
        "from torch.nn.attention.flex_attention import flex_attention, create_block_mask\n",
        "import triton\n",
        "import triton.language as tl\n",
        "from tqdm.notebook import tqdm\n",
        "import matplotlib.pyplot as plt\n",
        "from IPython import display\n",
        "from einops import rearrange, repeat, reduce\n",
        "# import lovely_tensors as lt; lt.monkey_patch() # INTRODUCE GRAPH BREAK!\n",
        "\n",
        "torch.manual_seed(69)\n",
        "torch.set_printoptions(profile=\"short\", sci_mode=False, linewidth=100000)\n",
        "torch.set_float32_matmul_precision('high')\n",
        "# this script is configured to run on a RTX 3060 12GB GPU. you'll want to adjust the model sizes and batch sizes for other devices\n",
        "device = torch.device('cuda' if torch.cuda.is_available() else 'cpu')\n",
        "# device = torch.device('cpu')\n",
        "plt.rcParams['figure.figsize'] = [8, 6]\n",
        "plt.rcParams['figure.dpi'] = 50\n",
        "plt.rcParams['axes.grid'] = True\n",
        "plt.rcParams['xtick.minor.visible'] = True\n",
        "plt.rcParams['ytick.minor.visible'] = True\n",
        "\n",
        "USE_SDPA = False\n",
        "USE_TORCH_COMPILE = False\n",
        "\n",
        "device"
      ]
    },
    {
      "cell_type": "markdown",
      "metadata": {},
      "source": [
        "# Data Prep"
      ]
    },
    {
      "cell_type": "code",
      "execution_count": 2,
      "metadata": {
        "colab": {
          "base_uri": "https://localhost:8080/"
        },
        "id": "ANr5dn7W0EqR",
        "outputId": "a00cbe8d-e1c6-454b-b552-4ffd17ce17e5"
      },
      "outputs": [
        {
          "name": "stdout",
          "output_type": "stream",
          "text": [
            "length of dataset in characters:  39526018\n"
          ]
        }
      ],
      "source": [
        "# we use this 40mb file of concatenated anime subtitles as our dataset\n",
        "# just the right size for toy experiments like this I think\n",
        "with open('animesubs.txt', 'r', encoding='latin') as f:\n",
        "    text = f.read()\n",
        "print(\"length of dataset in characters: \", len(text))"
      ]
    },
    {
      "cell_type": "code",
      "execution_count": 3,
      "metadata": {
        "colab": {
          "base_uri": "https://localhost:8080/"
        },
        "id": "pANiObIZ0EqU",
        "outputId": "98f70469-1c89-4341-89e8-c142a14331b1"
      },
      "outputs": [
        {
          "name": "stdout",
          "output_type": "stream",
          "text": [
            "Open your mind. Open your mind.\n",
            "\n",
            "Far beyond the deep blue Earth, you and I shall meet...\n",
            "\n",
            "AH! MY GODDESS\n",
            "\n",
            "A snow-white feather comes fluttering down, swaying gently in the air.\n",
            "\n",
            "Without holding back, I want to envelope you, my one and only love.\n",
            "\n",
            "I know I have the power to protect the one I love, right here in my hands.\n",
            "\n",
            "Open your mind. Just as I've always dreamed.\n",
            "\n",
            "Let the wind carry off your hopes, faraway.\n",
            "\n",
            "I have wings nobody can see. Look, you have them, too.\n",
            "\n",
            "They'll take us to where we ca\n"
          ]
        }
      ],
      "source": [
        "print(text[:500])"
      ]
    },
    {
      "cell_type": "code",
      "execution_count": 4,
      "metadata": {
        "id": "WvM5h6_i3KsM"
      },
      "outputs": [],
      "source": [
        "# remove japanese characters\n",
        "text = ''.join(filter(lambda character:ord(character) < 0x3000, text))"
      ]
    },
    {
      "cell_type": "code",
      "execution_count": 5,
      "metadata": {
        "colab": {
          "base_uri": "https://localhost:8080/"
        },
        "id": "U7SOcWJM0EqW",
        "outputId": "a82a4da8-a8ed-47bf-cfb5-2e4c59dee2cf"
      },
      "outputs": [
        {
          "name": "stdout",
          "output_type": "stream",
          "text": [
            "unique characters: 86 \n",
            " !'()*+,-./0123456789:;<=>?@ABCDEFGHIJKLMNOPQRSTUVWXYZ[]_abcdefghijklmnopqrstuvwxyz|\n"
          ]
        }
      ],
      "source": [
        "chars = sorted(list(set(text)))\n",
        "vocab_size = len(chars)\n",
        "print(\"unique characters:\", vocab_size, ''.join(chars))"
      ]
    },
    {
      "cell_type": "code",
      "execution_count": 6,
      "metadata": {
        "colab": {
          "base_uri": "https://localhost:8080/"
        },
        "id": "yobmmaeK0EqX",
        "outputId": "26669f38-4b26-4b53-f642-ee7543e7c578"
      },
      "outputs": [
        {
          "name": "stdout",
          "output_type": "stream",
          "text": [
            "{'\\n': 0, ' ': 1, '!': 2, \"'\": 3, '(': 4, ')': 5, '*': 6, '+': 7, ',': 8, '-': 9, '.': 10, '/': 11, '0': 12, '1': 13, '2': 14, '3': 15, '4': 16, '5': 17, '6': 18, '7': 19, '8': 20, '9': 21, ':': 22, ';': 23, '<': 24, '=': 25, '>': 26, '?': 27, '@': 28, 'A': 29, 'B': 30, 'C': 31, 'D': 32, 'E': 33, 'F': 34, 'G': 35, 'H': 36, 'I': 37, 'J': 38, 'K': 39, 'L': 40, 'M': 41, 'N': 42, 'O': 43, 'P': 44, 'Q': 45, 'R': 46, 'S': 47, 'T': 48, 'U': 49, 'V': 50, 'W': 51, 'X': 52, 'Y': 53, 'Z': 54, '[': 55, ']': 56, '_': 57, 'a': 58, 'b': 59, 'c': 60, 'd': 61, 'e': 62, 'f': 63, 'g': 64, 'h': 65, 'i': 66, 'j': 67, 'k': 68, 'l': 69, 'm': 70, 'n': 71, 'o': 72, 'p': 73, 'q': 74, 'r': 75, 's': 76, 't': 77, 'u': 78, 'v': 79, 'w': 80, 'x': 81, 'y': 82, 'z': 83, '|': 84, '\\x94': 85, '': 86}\n",
            "{0: '\\n', 1: ' ', 2: '!', 3: \"'\", 4: '(', 5: ')', 6: '*', 7: '+', 8: ',', 9: '-', 10: '.', 11: '/', 12: '0', 13: '1', 14: '2', 15: '3', 16: '4', 17: '5', 18: '6', 19: '7', 20: '8', 21: '9', 22: ':', 23: ';', 24: '<', 25: '=', 26: '>', 27: '?', 28: '@', 29: 'A', 30: 'B', 31: 'C', 32: 'D', 33: 'E', 34: 'F', 35: 'G', 36: 'H', 37: 'I', 38: 'J', 39: 'K', 40: 'L', 41: 'M', 42: 'N', 43: 'O', 44: 'P', 45: 'Q', 46: 'R', 47: 'S', 48: 'T', 49: 'U', 50: 'V', 51: 'W', 52: 'X', 53: 'Y', 54: 'Z', 55: '[', 56: ']', 57: '_', 58: 'a', 59: 'b', 60: 'c', 61: 'd', 62: 'e', 63: 'f', 64: 'g', 65: 'h', 66: 'i', 67: 'j', 68: 'k', 69: 'l', 70: 'm', 71: 'n', 72: 'o', 73: 'p', 74: 'q', 75: 'r', 76: 's', 77: 't', 78: 'u', 79: 'v', 80: 'w', 81: 'x', 82: 'y', 83: 'z', 84: '|', 85: '\\x94', 86: ''}\n",
            "encoded: [43, 73, 62, 71, 1, 82, 72, 78, 75, 1, 70, 66, 71, 61, 10, 1, 43, 73, 62, 71]\n",
            "decoded: Open your mind. Open\n",
            "vocab size: 87\n"
          ]
        }
      ],
      "source": [
        "# yes, all language models will be character level, which isn't ideal but it's good for simplicity\n",
        "# very simple tokenizer\n",
        "stoi = {ch:i for i,ch in enumerate(chars)}\n",
        "itos = {i:ch for i,ch in enumerate(chars)}\n",
        "# add special token for padding\n",
        "stoi[''] = len(stoi)\n",
        "itos[len(itos)] = ''\n",
        "print(stoi)\n",
        "print(itos)\n",
        "encode = lambda s: [stoi[ch] for ch in s]\n",
        "decode = lambda l: ''.join([itos[i] for i in l])\n",
        "print(\"encoded:\", encode(text[:20]))\n",
        "print(\"decoded:\", decode(encode(text[:20])))\n",
        "vocab_size = len(itos)\n",
        "print(\"vocab size:\", vocab_size)"
      ]
    },
    {
      "cell_type": "code",
      "execution_count": 7,
      "metadata": {
        "colab": {
          "base_uri": "https://localhost:8080/"
        },
        "id": "6Pnf9KfP0EqY",
        "outputId": "ff581168-335a-4f0f-efeb-0d4bd5b225ca"
      },
      "outputs": [
        {
          "data": {
            "text/plain": [
              "torch.Size([39526018])"
            ]
          },
          "execution_count": 7,
          "metadata": {},
          "output_type": "execute_result"
        }
      ],
      "source": [
        "data = torch.tensor(encode(text), dtype=torch.int64)\n",
        "data.shape"
      ]
    },
    {
      "cell_type": "code",
      "execution_count": 8,
      "metadata": {
        "colab": {
          "base_uri": "https://localhost:8080/"
        },
        "id": "lZ2fY1pR0EqY",
        "outputId": "5eb599e0-fb79-4cdb-c4b9-52a781d67151"
      },
      "outputs": [
        {
          "data": {
            "text/plain": [
              "tensor([43, 73, 62, 71,  1, 82, 72, 78, 75,  1, 70, 66, 71, 61, 10,  1, 43, 73, 62, 71,  1, 82, 72, 78, 75,  1, 70, 66, 71, 61, 10,  0,  0, 34, 58, 75,  1, 59, 62, 82, 72, 71, 61,  1, 77, 65, 62,  1, 61, 62, 62, 73,  1, 59, 69, 78, 62,  1, 33, 58, 75, 77, 65,  8,  1, 82, 72, 78,  1, 58, 71, 61,  1, 37,  1, 76, 65, 58, 69, 69,  1, 70, 62, 62, 77, 10, 10, 10,  0,  0, 29, 36,  2,  1, 41, 53,  1, 35, 43, 32])"
            ]
          },
          "execution_count": 8,
          "metadata": {},
          "output_type": "execute_result"
        }
      ],
      "source": [
        "data[:100]"
      ]
    },
    {
      "cell_type": "code",
      "execution_count": 9,
      "metadata": {
        "colab": {
          "base_uri": "https://localhost:8080/"
        },
        "id": "oIaYesPh0Eqa",
        "outputId": "caa27cbb-5ae3-4406-8194-646264d4ba99"
      },
      "outputs": [
        {
          "name": "stdout",
          "output_type": "stream",
          "text": [
            "torch.Size([39130757]) torch.Size([395261])\n"
          ]
        }
      ],
      "source": [
        "n = int(len(data) * 0.99)\n",
        "train_data = data[:n]\n",
        "val_data = data[n:]\n",
        "print(train_data.shape, val_data.shape)"
      ]
    },
    {
      "cell_type": "code",
      "execution_count": 10,
      "metadata": {
        "colab": {
          "base_uri": "https://localhost:8080/"
        },
        "id": "4bFhizcI0Eqa",
        "outputId": "c93a4d43-6fb2-4de7-aefc-8fed47e4a861"
      },
      "outputs": [
        {
          "data": {
            "text/plain": [
              "tensor([43, 73, 62, 71,  1, 82, 72, 78, 75])"
            ]
          },
          "execution_count": 10,
          "metadata": {},
          "output_type": "execute_result"
        }
      ],
      "source": [
        "seq_len = 8\n",
        "train_data[:seq_len+1]"
      ]
    },
    {
      "cell_type": "code",
      "execution_count": 11,
      "metadata": {
        "colab": {
          "base_uri": "https://localhost:8080/"
        },
        "id": "skFCPvQC0Eqc",
        "outputId": "08990c5b-88af-4a51-ce37-3c59989d6d74"
      },
      "outputs": [
        {
          "name": "stdout",
          "output_type": "stream",
          "text": [
            "inputs:\n",
            "torch.Size([2, 64])\n",
            "tensor([[62, 71, 77,  1, 59, 58, 60, 68,  1, 80, 66, 77, 65,  1, 65, 66, 76,  1, 70, 72, 70,  1, 77, 72,  1, 65, 66, 76,  1, 73, 58, 75, 62, 71, 77, 76,  3,  1, 65, 72, 78, 76, 62, 10,  0,  0, 29, 76,  1, 63, 72, 75,  1, 48, 72, 61, 72, 75, 72, 68, 66,  8,  1, 80],\n",
            "        [58, 75, 62,  1, 66, 71, 79, 78, 69, 71, 62, 75, 58, 59, 69, 62,  2,  0,  0, 51, 65, 62, 75, 62,  1, 61, 66, 61,  1, 77, 65, 62, 82,  1, 61, 66, 76, 58, 73, 73, 62, 58, 75,  1, 77, 72,  2, 27,  0,  0, 40, 62, 77,  3, 76,  1, 64, 72,  1, 76, 58, 79, 62,  1]], device='cuda:0')\n",
            "targets:\n",
            "torch.Size([2, 3, 64])\n",
            "tensor([[[71, 77,  1, 59, 58, 60, 68,  1, 80, 66, 77, 65,  1, 65, 66, 76,  1, 70, 72, 70,  1, 77, 72,  1, 65, 66, 76,  1, 73, 58, 75, 62, 71, 77, 76,  3,  1, 65, 72, 78, 76, 62, 10,  0,  0, 29, 76,  1, 63, 72, 75,  1, 48, 72, 61, 72, 75, 72, 68, 66,  8,  1, 80, 65],\n",
            "         [77,  1, 59, 58, 60, 68,  1, 80, 66, 77, 65,  1, 65, 66, 76,  1, 70, 72, 70,  1, 77, 72,  1, 65, 66, 76,  1, 73, 58, 75, 62, 71, 77, 76,  3,  1, 65, 72, 78, 76, 62, 10,  0,  0, 29, 76,  1, 63, 72, 75,  1, 48, 72, 61, 72, 75, 72, 68, 66,  8,  1, 80, 65, 72],\n",
            "         [ 1, 59, 58, 60, 68,  1, 80, 66, 77, 65,  1, 65, 66, 76,  1, 70, 72, 70,  1, 77, 72,  1, 65, 66, 76,  1, 73, 58, 75, 62, 71, 77, 76,  3,  1, 65, 72, 78, 76, 62, 10,  0,  0, 29, 76,  1, 63, 72, 75,  1, 48, 72, 61, 72, 75, 72, 68, 66,  8,  1, 80, 65, 72,  1]],\n",
            "\n",
            "        [[75, 62,  1, 66, 71, 79, 78, 69, 71, 62, 75, 58, 59, 69, 62,  2,  0,  0, 51, 65, 62, 75, 62,  1, 61, 66, 61,  1, 77, 65, 62, 82,  1, 61, 66, 76, 58, 73, 73, 62, 58, 75,  1, 77, 72,  2, 27,  0,  0, 40, 62, 77,  3, 76,  1, 64, 72,  1, 76, 58, 79, 62,  1, 65],\n",
            "         [62,  1, 66, 71, 79, 78, 69, 71, 62, 75, 58, 59, 69, 62,  2,  0,  0, 51, 65, 62, 75, 62,  1, 61, 66, 61,  1, 77, 65, 62, 82,  1, 61, 66, 76, 58, 73, 73, 62, 58, 75,  1, 77, 72,  2, 27,  0,  0, 40, 62, 77,  3, 76,  1, 64, 72,  1, 76, 58, 79, 62,  1, 65, 66],\n",
            "         [ 1, 66, 71, 79, 78, 69, 71, 62, 75, 58, 59, 69, 62,  2,  0,  0, 51, 65, 62, 75, 62,  1, 61, 66, 61,  1, 77, 65, 62, 82,  1, 61, 66, 76, 58, 73, 73, 62, 58, 75,  1, 77, 72,  2, 27,  0,  0, 40, 62, 77,  3, 76,  1, 64, 72,  1, 76, 58, 79, 62,  1, 65, 66, 70]]], device='cuda:0')\n"
          ]
        }
      ],
      "source": [
        "def get_batch(split, seq_len, batch_size=4, n_future_tokens=1):\n",
        "    data = train_data if split == 'train' else val_data\n",
        "    max_start_index = len(data) - seq_len - n_future_tokens\n",
        "    ix = torch.randint(max_start_index, (batch_size,))\n",
        "    # --- Vectorized Indexing ---\n",
        "    # Instead of looping, we compute all indices at once.\n",
        "\n",
        "    # 1. Create indices for the input sequences `x`.\n",
        "    # `t_range` creates the offsets for each token in a sequence [0, 1, ..., seq_len-1]\n",
        "    t_range = torch.arange(seq_len)\n",
        "    # Use broadcasting to create a grid of indices for the entire batch.\n",
        "    # `ix.unsqueeze(1)` has shape (batch_size, 1)\n",
        "    # `t_range` has shape (seq_len)\n",
        "    # The result `x_indices` has shape (batch_size, seq_len)\n",
        "    x_indices = ix.unsqueeze(1) + t_range\n",
        "\n",
        "    # 2. Create indices for the target sequences `y`.\n",
        "    # `f_range` creates offsets for the future tokens [0, 1, ..., n_future_tokens-1]\n",
        "    f_range = torch.arange(n_future_tokens)\n",
        "    # We build upon `x_indices` to get the target indices.\n",
        "    # `x_indices.unsqueeze(2)` has shape (batch_size, seq_len, 1)\n",
        "    # `f_range` has shape (n_future_tokens)\n",
        "    # Broadcasting creates `y_indices` with shape (batch_size, seq_len, n_future_tokens)\n",
        "    # Each y_indices[b, t, :] corresponds to the targets for input x[b, t].\n",
        "    y_indices = x_indices.unsqueeze(2) + f_range + 1\n",
        "\n",
        "    x = data[x_indices]\n",
        "    y = data[y_indices]\n",
        "    y = y.transpose(1, 2)\n",
        "\n",
        "    if n_future_tokens == 1:\n",
        "        y = y.squeeze(1)\n",
        "    return x.to(device), y.to(device)\n",
        "\n",
        "xb, yb = get_batch('train', 64, 2, 3)\n",
        "print('inputs:')\n",
        "print(xb.shape)\n",
        "print(xb)\n",
        "print('targets:')\n",
        "print(yb.shape)\n",
        "print(yb)"
      ]
    },
    {
      "cell_type": "markdown",
      "metadata": {},
      "source": [
        "# Training Prep"
      ]
    },
    {
      "cell_type": "code",
      "execution_count": 12,
      "metadata": {},
      "outputs": [
        {
          "data": {
            "text/plain": [
              "327680000"
            ]
          },
          "execution_count": 12,
          "metadata": {},
          "output_type": "execute_result"
        }
      ],
      "source": [
        "# Make all steps, sequence lengths, and batch size the same\n",
        "total_steps = 5000\n",
        "seq_len = 256\n",
        "batch_size = 256 # these are small models so we can use large batch sizes to fully utilize the GPU\n",
        "# should cover around 2x the dataset\n",
        "total_steps * seq_len * batch_size"
      ]
    },
    {
      "cell_type": "code",
      "execution_count": 13,
      "metadata": {},
      "outputs": [],
      "source": [
        "def train(model, optimizer, seq_len, batch_size, total_steps, val_steps=10, val_interval=50, n_future_tokens=1):\n",
        "    losses = []\n",
        "    val_losses = []\n",
        "    # live plot\n",
        "    fig, ax = plt.subplots()\n",
        "    dh = display.display(fig, display_id=True)\n",
        "    for steps in (bar := tqdm(range(total_steps))):  # increase number of steps for good results...\n",
        "        # sample a batch of data\n",
        "        xb, yb = get_batch('train', seq_len=seq_len, batch_size=batch_size, n_future_tokens=n_future_tokens)\n",
        "\n",
        "        # evaluate the loss\n",
        "        logits, loss = model(xb, yb)\n",
        "\n",
        "        # backprop\n",
        "        optimizer.zero_grad(set_to_none=True)\n",
        "        loss.backward()\n",
        "        optimizer.step()\n",
        "\n",
        "        bar.set_description(f\"loss: {loss.item():.2f}, val loss: {val_losses[-1] if val_losses else 0:.2f}\")\n",
        "        losses.append(loss.item())\n",
        "        if steps % val_interval == 0:\n",
        "            # Calculate validation loss\n",
        "            with torch.no_grad():\n",
        "                val_loss = 0\n",
        "                for _ in range(val_steps):\n",
        "                    xb, yb = get_batch('val', seq_len=seq_len, batch_size=batch_size, n_future_tokens=n_future_tokens)\n",
        "                    _, loss = model(xb, yb)\n",
        "                    val_loss += loss.item()\n",
        "                val_loss /= val_steps\n",
        "                val_losses.append(val_loss)\n",
        "            ax.clear()\n",
        "            ax.plot(losses, color='blue', label='train loss', alpha=0.7)\n",
        "            ax.plot(range(0, len(losses), val_interval), val_losses, color='red', label='val loss', alpha=0.7)\n",
        "            ax.set_ylim(1, 4)\n",
        "            ax.legend()\n",
        "            dh.update(fig)\n",
        "    print('final loss:', loss.item(), 'final val loss:', val_loss)"
      ]
    },
    {
      "cell_type": "code",
      "execution_count": 14,
      "metadata": {},
      "outputs": [],
      "source": [
        "# Measure post training perplexity on validation set\n",
        "# Create function that receives a model, context length, and PPL sequence length, and returns the perplexity\n",
        "# The PPL sequence length is the number of characters the function uses to calculate the perplexity\n",
        "# We take the logits and calculate the cross entropy loss from scratch, then exponentiate it to get the perplexity\n",
        "# not only that, but we want the models to do this in actual inference\n",
        "def perplexity(model, seq_len, ppl_seq_len, batch_size=128, val_steps=1000):\n",
        "    with torch.no_grad():\n",
        "        val_loss = 0\n",
        "        for _ in tqdm(range(val_steps)):\n",
        "            xb, yb = get_batch('val', seq_len=seq_len, batch_size=batch_size)\n",
        "            with torch.autocast(device_type=\"cuda\", dtype=torch.bfloat16):\n",
        "                logits, _ = model(xb, yb)\n",
        "            logits = logits.reshape(batch_size, seq_len, vocab_size)\n",
        "            logits = logits[:, :ppl_seq_len]\n",
        "            yb = yb[:, :ppl_seq_len]\n",
        "            # flatten logits and targets\n",
        "            logits = logits.reshape(batch_size*ppl_seq_len, vocab_size)\n",
        "            yb = yb.reshape(batch_size*ppl_seq_len)\n",
        "            # calculate cross entropy loss from scratch\n",
        "            loss = F.cross_entropy(logits, yb)\n",
        "            val_loss += loss.item()\n",
        "        val_loss /= val_steps\n",
        "        ppl = torch.exp(torch.tensor(val_loss))\n",
        "        return ppl.item(), val_loss"
      ]
    },
    {
      "cell_type": "markdown",
      "metadata": {},
      "source": [
        "# Transformers"
      ]
    },
    {
      "cell_type": "markdown",
      "metadata": {},
      "source": [
        "## Classic Transformer"
      ]
    },
    {
      "cell_type": "code",
      "execution_count": 15,
      "metadata": {
        "id": "k6cA2WbrayyL"
      },
      "outputs": [],
      "source": [
        "class TransformerConfig:\n",
        "    def __init__(self, vocab_size, seq_len, embed_size, head_num, layer_num):\n",
        "        self.vocab_size = vocab_size\n",
        "        self.seq_len = seq_len\n",
        "        self.embed_size = embed_size\n",
        "        self.head_num = head_num\n",
        "        self.layer_num = layer_num\n",
        "\n",
        "def precompute_freqs_cis(dim: int, end: int, theta: float = 10000.0):\n",
        "    freqs = 1.0 / (theta ** (torch.arange(0, dim, 2)[: (dim // 2)].float() / dim))\n",
        "    t = torch.arange(end, device=freqs.device, dtype=torch.float32)\n",
        "    freqs = torch.outer(t, freqs)\n",
        "    freqs_cis = torch.polar(torch.ones_like(freqs), freqs)  # complex64\n",
        "    return freqs_cis.to(device)\n",
        "\n",
        "def apply_rotary_emb(\n",
        "    xq: torch.Tensor,\n",
        "    xk: torch.Tensor,\n",
        "    freqs_cis: torch.Tensor,\n",
        "):\n",
        "    xq_ = torch.view_as_complex(xq.float().reshape(*xq.shape[:-1], -1, 2))\n",
        "    xk_ = torch.view_as_complex(xk.float().reshape(*xk.shape[:-1], -1, 2))\n",
        "    # freqs_cis = reshape_for_broadcast(freqs_cis, xq_)\n",
        "    q_shape = [d if i == xq_.ndim - 2 or i == xq_.ndim - 1 else 1 for i, d in enumerate(xq_.shape)]\n",
        "    k_shape = [d if i == xq_.ndim - 2 or i == xk_.ndim - 1 else 1 for i, d in enumerate(xk_.shape)]\n",
        "    T_q = xq_.shape[-2] \n",
        "    q_freqs_cis = freqs_cis[-T_q:].view(*q_shape)\n",
        "    k_freqs_cis = freqs_cis.view(*k_shape)\n",
        "    xq_out = torch.view_as_real(xq_ * q_freqs_cis).flatten(xq.dim() - 1)\n",
        "    xk_out = torch.view_as_real(xk_ * k_freqs_cis).flatten(xq.dim() - 1)\n",
        "    return xq_out.type_as(xq), xk_out.type_as(xk)\n",
        "\n",
        "class RMSNorm(torch.nn.Module):\n",
        "    def __init__(self, dim, eps=1e-6):\n",
        "        super().__init__()\n",
        "        self.eps = eps\n",
        "        self.weight = nn.Parameter(torch.ones(dim))\n",
        "\n",
        "    def _norm(self, x):\n",
        "        return x * torch.rsqrt(x.pow(2).mean(-1, keepdim=True) + self.eps)\n",
        "\n",
        "    def forward(self, x):\n",
        "        output = self._norm(x.float()).type_as(x)\n",
        "        return output * self.weight\n",
        "    \n",
        "class FeedForward(nn.Module):\n",
        "    def __init__(self, config):\n",
        "        super().__init__()\n",
        "        self.lin_1 = nn.Linear(config.embed_size, config.embed_size*4)\n",
        "        self.lin_2 = nn.Linear(config.embed_size*4, config.embed_size)\n",
        "        self.relu = nn.ReLU()\n",
        "\n",
        "    def forward(self, x):\n",
        "        x = self.lin_1(x)\n",
        "        x = self.relu(x)\n",
        "        x = self.lin_2(x)\n",
        "        return x\n",
        "\n",
        "class MultiHeadAttention(nn.Module):\n",
        "    \"\"\" multiple heads of self-attention with AliBi in parallel \"\"\"\n",
        "    def __init__(self, config):\n",
        "        super().__init__()\n",
        "        self.seq_len = config.seq_len\n",
        "        self.head_num = config.head_num\n",
        "        self.head_size = config.embed_size // config.head_num\n",
        "        self.key = nn.Linear(config.embed_size, config.embed_size, bias=False)\n",
        "        self.query = nn.Linear(config.embed_size, config.embed_size, bias=False)\n",
        "        self.value = nn.Linear(config.embed_size, config.embed_size, bias=False)\n",
        "        self.o = nn.Linear(config.embed_size, config.embed_size)\n",
        "        # block_mask for FlexAttention\n",
        "        def causal(b, h, q_idx, kv_idx):\n",
        "            causal_mask = q_idx >= kv_idx\n",
        "            return causal_mask\n",
        "        self.causal_mask = create_block_mask(causal, B=None, H=None, Q_LEN=config.seq_len, KV_LEN=config.seq_len)\n",
        "        self.freqs_cis = precompute_freqs_cis(config.embed_size//config.head_num, config.seq_len)\n",
        "        self.register_buffer('tril', torch.tril(torch.ones(config.seq_len, config.seq_len)))\n",
        "\n",
        "    def forward(self, x, kv_cache=None):\n",
        "        B, T, C = x.shape\n",
        "        _, _, T_past, _ = kv_cache[0].shape if kv_cache is not None and kv_cache[0] is not None else (0, 0, 0, 0)\n",
        "        q = self.query(x) # (B,T,C)\n",
        "        k = self.key(x)   # (B,T,C)\n",
        "        v = self.value(x) # (B,T,C)\n",
        "\n",
        "        # Split into heads\n",
        "        q = q.view(B, T, self.head_num, self.head_size).transpose(1, 2) # (B, H, T, C/H)\n",
        "        k = k.view(B, T, self.head_num, self.head_size).transpose(1, 2) # (B, H, T, C/H)\n",
        "        v = v.view(B, T, self.head_num, self.head_size).transpose(1, 2) # (B, H, T, C/H)\n",
        "\n",
        "        if kv_cache is not None:\n",
        "            k_past, v_past = kv_cache\n",
        "            if k_past is not None:\n",
        "                k = torch.cat((k_past, k), dim=2)\n",
        "                v = torch.cat((v_past, v), dim=2)\n",
        "            if k.shape[-2] > self.seq_len:\n",
        "                k = k[:, :, -self.seq_len:]\n",
        "                v = v[:, :, -self.seq_len:]\n",
        "            kv_cache = (k, v)\n",
        "        T_k = k.shape[-2]\n",
        "        q, k = apply_rotary_emb(q, k, self.freqs_cis[:T_k])\n",
        "\n",
        "        if T == self.seq_len:\n",
        "            out = flex_attention(q, k, v, block_mask=self.causal_mask)\n",
        "        else:\n",
        "            # compute attention scores (\"affinities\")\n",
        "            wei = q @ k.transpose(-2,-1) # (B, H, 1, C/H) @ (B, H, C/H, T) -> (B, H, 1, T)\n",
        "            wei = wei * self.head_size ** -0.5 # scaled attention\n",
        "            wei = wei.masked_fill(self.tril[T_k-T:T_k, T_k-T:T_k] == 0, float('-inf')) # (B, T, T)\n",
        "            wei = F.softmax(wei, dim=-1) # (B, H, T, T)\n",
        "            # apply attention to values\n",
        "            out = wei @ v # (B, H, 1, T) @ (B, H, T, C/H) -> (B, H, 1, C/H)\n",
        "\n",
        "        out = out.transpose(1, 2).contiguous().view(B, T, C) # (B, H, T, C/H) -> (B, T, H, C/H) -> (B, T, C)\n",
        "        out = self.o(out)\n",
        "        return out, kv_cache\n",
        "\n",
        "class Block(nn.Module):\n",
        "    def __init__(self, config):\n",
        "        super().__init__()\n",
        "        self.sa_heads = MultiHeadAttention(config)\n",
        "        self.ff_layer = FeedForward(config)\n",
        "        self.sa_norm = RMSNorm(config.embed_size)\n",
        "        self.ff_norm = RMSNorm(config.embed_size)\n",
        "    \n",
        "    def forward(self, x, kv_cache=None):\n",
        "        a, kv_cache = self.sa_heads(self.sa_norm(x), kv_cache)\n",
        "        h = x + a\n",
        "        o = h + self.ff_layer(self.ff_norm(h))\n",
        "        return o, kv_cache\n",
        "    \n",
        "class TransformerLM(nn.Module):\n",
        "    def __init__(self, config):\n",
        "        super().__init__()\n",
        "        self.layer_num = config.layer_num\n",
        "        self.head_num = config.head_num\n",
        "        self.seq_len = config.seq_len\n",
        "        # embed raw tokens to a lower dimensional embedding with embed_size\n",
        "        self.token_embedding_table = nn.Embedding(config.vocab_size, config.embed_size)\n",
        "        # Language Modelling (?) Head is a standard linear layer to go from \n",
        "        # embeddings back to logits of vocab_size\n",
        "        self.lm_head = nn.Linear(config.embed_size, config.vocab_size)\n",
        "        # transformer blocks\n",
        "        self.blocks = nn.ModuleList([Block(config) for _ in range(config.layer_num)])\n",
        "\n",
        "    def forward(self, idx, targets=None, kv_cache=None):\n",
        "        B, T = idx.shape\n",
        "        _, _, T_past, _ = kv_cache[0][0].shape if kv_cache is not None and kv_cache[0][0] is not None else (0, 0, 0, 0)\n",
        "        # idx and targets are both (B,T) tensor of integers\n",
        "        tok_embd = self.token_embedding_table(idx) # (B,T,C)\n",
        "        x = tok_embd\n",
        "        # go through blocks\n",
        "        for i, block in enumerate(self.blocks):\n",
        "            x, cache = block(x, None if kv_cache is None else kv_cache[i])\n",
        "            if kv_cache is not None:\n",
        "                kv_cache[i] = cache\n",
        "        # get logits with linear layer\n",
        "        logits = self.lm_head(x) # (B,T,V)\n",
        "        \n",
        "        if targets is None:\n",
        "            loss = None\n",
        "        else:\n",
        "            B, T, V = logits.shape\n",
        "            logits = logits.view(B*T, V)\n",
        "            targets = targets.view(B*T)\n",
        "            loss = F.cross_entropy(logits, targets)\n",
        "\n",
        "        return logits, loss\n",
        "    \n",
        "    def generate(self, idx, max_new_tokens, temperature=1, use_cache=True):\n",
        "        if use_cache:\n",
        "            # initialize key-value cache\n",
        "            kv_cache = [(None, None) for _ in range(self.layer_num)]\n",
        "            # idx is (B, T) array of indices in the current context\n",
        "            # crop idx to the last seq_len tokens\n",
        "            idx_context = idx[:, -self.seq_len:]\n",
        "            for _ in range(max_new_tokens):\n",
        "                # get the predictions\n",
        "                logits, loss = self(idx_context, kv_cache=kv_cache)\n",
        "                # focus only on the last time step\n",
        "                logits = logits[:, -1, :] # becomes (B, C)\n",
        "                # apply temperature\n",
        "                logits = logits / temperature if temperature > 0 else logits\n",
        "                # apply softmax to get probabilities\n",
        "                probs = F.softmax(logits, dim=-1) # (B, C)\n",
        "                # sample from the distribution\n",
        "                idx_next = torch.multinomial(probs, num_samples=1) if temperature > 0 else torch.argmax(probs, dim=-1, keepdim=True) # (B, 1)\n",
        "                # append sampled index to the running sequence\n",
        "                idx = torch.cat((idx, idx_next), dim=1) # (B, T+1)\n",
        "                # since we have kv cache, only need to pass new token\n",
        "                idx_context = idx_next\n",
        "            return idx\n",
        "        else:\n",
        "            # idx is (B, T) array of indices in the current context\n",
        "            for _ in range(max_new_tokens):\n",
        "                #crop idx to the last seq_len tokens\n",
        "                idx_context = idx[:, -self.seq_len:]\n",
        "                # get the predictions\n",
        "                logits, loss = self(idx_context)\n",
        "                # focus only on the last time step\n",
        "                logits = logits[:, -1, :] # becomes (B, C)\n",
        "                # apply temperature\n",
        "                logits = logits / temperature if temperature > 0 else logits\n",
        "                # apply softmax to get probabilities\n",
        "                probs = F.softmax(logits, dim=-1) # (B, C)\n",
        "                # sample from the distribution\n",
        "                idx_next = torch.multinomial(probs, num_samples=1) if temperature > 0 else torch.argmax(probs, dim=-1, keepdim=True) # (B, 1)\n",
        "                # append sampled index to the running sequence\n",
        "                idx = torch.cat((idx, idx_next), dim=1) # (B, T+1)\n",
        "            return idx"
      ]
    },
    {
      "cell_type": "code",
      "execution_count": 16,
      "metadata": {},
      "outputs": [
        {
          "data": {
            "text/plain": [
              "4775511"
            ]
          },
          "execution_count": 16,
          "metadata": {},
          "output_type": "execute_result"
        }
      ],
      "source": [
        "# Test forward pass\n",
        "config = TransformerConfig(\n",
        "    vocab_size=vocab_size,\n",
        "    seq_len=seq_len,\n",
        "    embed_size=256,\n",
        "    head_num=4,\n",
        "    layer_num=6\n",
        ")\n",
        "m = TransformerLM(config)\n",
        "m.to(device)\n",
        "xb, yb = get_batch('train', 5, 1)\n",
        "logits, loss = m(xb, yb)\n",
        "total_params = sum(p.numel() for p in m.parameters() if p.requires_grad)\n",
        "total_params"
      ]
    },
    {
      "cell_type": "code",
      "execution_count": 17,
      "metadata": {},
      "outputs": [
        {
          "data": {
            "image/png": "[encoded data removed]",
            "text/plain": [
              "<Figure size 400x300 with 1 Axes>"
            ]
          },
          "metadata": {},
          "output_type": "display_data"
        },
        {
          "data": {
            "application/vnd.jupyter.widget-view+json": {
              "model_id": "de0c1946b5324752b0fe5bdcfb9a51cb",
              "version_major": 2,
              "version_minor": 0
            },
            "text/plain": [
              "  0%|          | 0/5000 [00:00<?, ?it/s]"
            ]
          },
          "metadata": {},
          "output_type": "display_data"
        },
        {
          "name": "stderr",
          "output_type": "stream",
          "text": [
            "/erland-home/Python_project/transformers_playground/.venv/lib/python3.12/site-packages/torch/_inductor/lowering.py:1917: UserWarning: Torchinductor does not support code generation for complex operators. Performance may be worse than eager.\n",
            "  warnings.warn(\n"
          ]
        },
        {
          "name": "stdout",
          "output_type": "stream",
          "text": [
            "final loss: 1.0691111087799072 final val loss: 1.2072466731071472\n"
          ]
        },
        {
          "data": {
            "image/png": "[encoded data removed]",
            "text/plain": [
              "<Figure size 400x300 with 1 Axes>"
            ]
          },
          "metadata": {},
          "output_type": "display_data"
        }
      ],
      "source": [
        "# training!\n",
        "model = TransformerLM(config)\n",
        "model = torch.compile(model)\n",
        "model.to(device)\n",
        "optimizer = torch.optim.AdamW(model.parameters(), lr=2e-3)\n",
        "train(model, optimizer, seq_len, batch_size, total_steps)"
      ]
    },
    {
      "cell_type": "code",
      "execution_count": 19,
      "metadata": {},
      "outputs": [],
      "source": [
        "# Save\n",
        "torch.save(model.state_dict(), 'models/TransformerLM.pt')"
      ]
    },
    {
      "cell_type": "code",
      "execution_count": 20,
      "metadata": {},
      "outputs": [
        {
          "data": {
            "text/plain": [
              "OptimizedModule(\n",
              "  (_orig_mod): TransformerLM(\n",
              "    (token_embedding_table): Embedding(87, 256)\n",
              "    (lm_head): Linear(in_features=256, out_features=87, bias=True)\n",
              "    (blocks): ModuleList(\n",
              "      (0-5): 6 x Block(\n",
              "        (sa_heads): MultiHeadAttention(\n",
              "          (key): Linear(in_features=256, out_features=256, bias=False)\n",
              "          (query): Linear(in_features=256, out_features=256, bias=False)\n",
              "          (value): Linear(in_features=256, out_features=256, bias=False)\n",
              "          (o): Linear(in_features=256, out_features=256, bias=True)\n",
              "        )\n",
              "        (ff_layer): FeedForward(\n",
              "          (lin_1): Linear(in_features=256, out_features=1024, bias=True)\n",
              "          (lin_2): Linear(in_features=1024, out_features=256, bias=True)\n",
              "          (relu): ReLU()\n",
              "        )\n",
              "        (sa_norm): RMSNorm()\n",
              "        (ff_norm): RMSNorm()\n",
              "      )\n",
              "    )\n",
              "  )\n",
              ")"
            ]
          },
          "execution_count": 20,
          "metadata": {},
          "output_type": "execute_result"
        }
      ],
      "source": [
        "# Load model\n",
        "model = TransformerLM(config)\n",
        "model = torch.compile(model)\n",
        "model.load_state_dict(torch.load('models/TransformerLM.pt'))\n",
        "model.to(device)"
      ]
    },
    {
      "cell_type": "code",
      "execution_count": 21,
      "metadata": {},
      "outputs": [
        {
          "data": {
            "application/vnd.jupyter.widget-view+json": {
              "model_id": "5e0eededd891485b863673fe8e348032",
              "version_major": 2,
              "version_minor": 0
            },
            "text/plain": [
              "  0%|          | 0/1000 [00:00<?, ?it/s]"
            ]
          },
          "metadata": {},
          "output_type": "display_data"
        },
        {
          "name": "stdout",
          "output_type": "stream",
          "text": [
            "perplexity: 3.3366286754608154 loss: 1.2049609375\n"
          ]
        }
      ],
      "source": [
        "# calculate perplexity\n",
        "ppl, loss = perplexity(model, seq_len, seq_len)\n",
        "print(\"perplexity:\", ppl, \"loss:\", loss)"
      ]
    },
    {
      "cell_type": "code",
      "execution_count": 22,
      "metadata": {
        "colab": {
          "base_uri": "https://localhost:8080/"
        },
        "id": "00r0pbm3b5eX",
        "outputId": "bdd3b34e-32a0-4724-b528-c162c0fd0c3e"
      },
      "outputs": [
        {
          "name": "stdout",
          "output_type": "stream",
          "text": [
            "tensor([[53, 72, 78,  1, 80, 66, 69, 69,  1, 71, 62, 79, 62, 75]])\n"
          ]
        },
        {
          "name": "stdout",
          "output_type": "stream",
          "text": [
            "You will never do that!\n",
            "\n",
            "If you can be saying that the rest of us will be to save us...\n",
            "\n",
            "I can't forgive you because you came to see me.\n",
            "\n",
            "I'm sure you'll be a pretty good friend with me.\n",
            "\n",
            "I thought I was the only one who dreamed of me.\n",
            "\n",
            "I'd like to ask you this time.\n",
            "\n",
            "The book is a fantasy side that you're pretty surprised.\n",
            "\n",
            "If you have no idea what you want to tell me.\n",
            "\n",
            "I mean, you should think of my own life.\n",
            "\n",
            "It feels so surprised.\n",
            "\n",
            "It was all a drink.\n",
            "\n",
            "Should I tell you to stop stopping the magic power once you're done.\n",
            "\n",
            "I don't want to go out with you.\n",
            "\n",
            "You're really a mistake.\n",
            "\n",
            "What are you talking about?\n",
            "\n",
            "I have a talk about what I said would think.\n",
            "\n",
            "I saw you will wear the top out of the magic of the magic words.\n",
            "\n",
            "Why don't you try to stop me with that face?\n",
            "\n",
            "I was always to be a coincidence.\n",
            "\n",
            "In the magic case, I tried to stop you.\n",
            "\n",
            "I was worried about you all about that proper thing.\n",
            "\n",
            "I was thinking about working at the first step toward the story.\n",
            "\n",
            "I can see that I felt like I can do it a\n"
          ]
        }
      ],
      "source": [
        "model.eval()\n",
        "idx = encode(\"You will never\")\n",
        "print(torch.tensor([idx]))\n",
        "print(decode(model.generate(idx=torch.tensor([idx], dtype=torch.long).to(device), max_new_tokens=1000, temperature=0.5, use_cache=True)[0].tolist()))"
      ]
    },
    {
      "cell_type": "markdown",
      "metadata": {},
      "source": [
        "## MTP"
      ]
    },
    {
      "cell_type": "code",
      "execution_count": null,
      "metadata": {},
      "outputs": [],
      "source": [
        "class MTPTransformerConfig:\n",
        "    def __init__(self, vocab_size, seq_len, embed_size, head_num, layer_num, n_future_tokens):\n",
        "        self.vocab_size = vocab_size\n",
        "        self.seq_len = seq_len\n",
        "        self.embed_size = embed_size\n",
        "        self.head_num = head_num\n",
        "        self.layer_num = layer_num\n",
        "        self.n_future_tokens = n_future_tokens\n",
        "\n",
        "@torch.compiler.disable\n",
        "def precompute_freqs_cis(dim: int, end: int, theta: float = 10000.0):\n",
        "    freqs = 1.0 / (theta ** (torch.arange(0, dim, 2)[: (dim // 2)].float() / dim))\n",
        "    t = torch.arange(end, device=freqs.device, dtype=torch.float32)\n",
        "    freqs = torch.outer(t, freqs)\n",
        "    freqs_cis = torch.polar(torch.ones_like(freqs), freqs)  # complex64\n",
        "    return freqs_cis.to(device)\n",
        "\n",
        "@torch.compiler.disable\n",
        "def apply_rotary_emb(\n",
        "    xq: torch.Tensor,\n",
        "    xk: torch.Tensor,\n",
        "    freqs_cis: torch.Tensor,\n",
        "):\n",
        "    xq_ = torch.view_as_complex(xq.float().reshape(*xq.shape[:-1], -1, 2))\n",
        "    xk_ = torch.view_as_complex(xk.float().reshape(*xk.shape[:-1], -1, 2))\n",
        "    # freqs_cis = reshape_for_broadcast(freqs_cis, xq_)\n",
        "    q_shape = [d if i == xq_.ndim - 2 or i == xq_.ndim - 1 else 1 for i, d in enumerate(xq_.shape)]\n",
        "    k_shape = [d if i == xq_.ndim - 2 or i == xk_.ndim - 1 else 1 for i, d in enumerate(xk_.shape)]\n",
        "    T_q = xq_.shape[-2] \n",
        "    q_freqs_cis = freqs_cis[-T_q:].view(*q_shape)\n",
        "    k_freqs_cis = freqs_cis.view(*k_shape)\n",
        "    xq_out = torch.view_as_real(xq_ * q_freqs_cis).flatten(xq.dim() - 1)\n",
        "    xk_out = torch.view_as_real(xk_ * k_freqs_cis).flatten(xq.dim() - 1)\n",
        "    return xq_out.type_as(xq), xk_out.type_as(xk)\n",
        "\n",
        "class RMSNorm(torch.nn.Module):\n",
        "    def __init__(self, dim, eps=1e-6):\n",
        "        super().__init__()\n",
        "        self.eps = eps\n",
        "        self.weight = nn.Parameter(torch.ones(dim))\n",
        "\n",
        "    def _norm(self, x):\n",
        "        return x * torch.rsqrt(x.pow(2).mean(-1, keepdim=True) + self.eps)\n",
        "\n",
        "    def forward(self, x):\n",
        "        output = self._norm(x.float()).type_as(x)\n",
        "        return output * self.weight\n",
        "    \n",
        "class FeedForward(nn.Module):\n",
        "    def __init__(self, config):\n",
        "        super().__init__()\n",
        "        self.lin_1 = nn.Linear(config.embed_size, config.embed_size*4)\n",
        "        self.lin_2 = nn.Linear(config.embed_size*4, config.embed_size)\n",
        "        self.relu = nn.ReLU()\n",
        "\n",
        "    def forward(self, x):\n",
        "        x = self.lin_1(x)\n",
        "        x = self.relu(x)\n",
        "        x = self.lin_2(x)\n",
        "        return x\n",
        "\n",
        "class MultiHeadAttention(nn.Module):\n",
        "    \"\"\" multiple heads of self-attention with AliBi in parallel \"\"\"\n",
        "    def __init__(self, config):\n",
        "        super().__init__()\n",
        "        self.seq_len = config.seq_len\n",
        "        self.head_num = config.head_num\n",
        "        self.head_size = config.embed_size // config.head_num\n",
        "        self.key = nn.Linear(config.embed_size, config.embed_size, bias=False)\n",
        "        self.query = nn.Linear(config.embed_size, config.embed_size, bias=False)\n",
        "        self.value = nn.Linear(config.embed_size, config.embed_size, bias=False)\n",
        "        self.o = nn.Linear(config.embed_size, config.embed_size)\n",
        "        # block_mask for FlexAttention\n",
        "        def causal(b, h, q_idx, kv_idx):\n",
        "            causal_mask = q_idx >= kv_idx\n",
        "            return causal_mask\n",
        "        self.causal_mask = create_block_mask(causal, B=None, H=None, Q_LEN=config.seq_len, KV_LEN=config.seq_len)\n",
        "        self.freqs_cis = precompute_freqs_cis(config.embed_size//config.head_num, config.seq_len)\n",
        "        self.register_buffer('tril', torch.tril(torch.ones(config.seq_len, config.seq_len)))\n",
        "\n",
        "    def forward(self, x, kv_cache=None):\n",
        "        B, T, C = x.shape\n",
        "        _, _, T_past, _ = kv_cache[0].shape if kv_cache is not None and kv_cache[0] is not None else (0, 0, 0, 0)\n",
        "        q = self.query(x) # (B,T,C)\n",
        "        k = self.key(x)   # (B,T,C)\n",
        "        v = self.value(x) # (B,T,C)\n",
        "\n",
        "        # Split into heads\n",
        "        q = q.view(B, T, self.head_num, self.head_size).transpose(1, 2) # (B, H, T, C/H)\n",
        "        k = k.view(B, T, self.head_num, self.head_size).transpose(1, 2) # (B, H, T, C/H)\n",
        "        v = v.view(B, T, self.head_num, self.head_size).transpose(1, 2) # (B, H, T, C/H)\n",
        "\n",
        "        if kv_cache is not None:\n",
        "            k_past, v_past = kv_cache\n",
        "            if k_past is not None:\n",
        "                k = torch.cat((k_past, k), dim=2)\n",
        "                v = torch.cat((v_past, v), dim=2)\n",
        "            if k.shape[-2] > self.seq_len:\n",
        "                k = k[:, :, -self.seq_len:]\n",
        "                v = v[:, :, -self.seq_len:]\n",
        "            kv_cache = (k, v)\n",
        "        T_k = k.shape[-2]\n",
        "        q, k = apply_rotary_emb(q, k, self.freqs_cis[:T_k])\n",
        "\n",
        "        if T == self.seq_len:\n",
        "            out = flex_attention(q, k, v, block_mask=self.causal_mask)\n",
        "        else:\n",
        "            # compute attention scores (\"affinities\")\n",
        "            wei = q @ k.transpose(-2,-1) # (B, H, 1, C/H) @ (B, H, C/H, T) -> (B, H, 1, T)\n",
        "            wei = wei * self.head_size ** -0.5 # scaled attention\n",
        "            wei = wei.masked_fill(self.tril[T_k-T:T_k, T_k-T:T_k] == 0, float('-inf')) # (B, T, T)\n",
        "            wei = F.softmax(wei, dim=-1) # (B, H, T, T)\n",
        "            # apply attention to values\n",
        "            out = wei @ v # (B, H, 1, T) @ (B, H, T, C/H) -> (B, H, 1, C/H)\n",
        "\n",
        "        out = out.transpose(1, 2).contiguous().view(B, T, C) # (B, H, T, C/H) -> (B, T, H, C/H) -> (B, T, C)\n",
        "        out = self.o(out)\n",
        "        return out, kv_cache\n",
        "\n",
        "class Block(nn.Module):\n",
        "    def __init__(self, config):\n",
        "        super().__init__()\n",
        "        self.sa_heads = MultiHeadAttention(config)\n",
        "        self.ff_layer = FeedForward(config)\n",
        "        self.sa_norm = RMSNorm(config.embed_size)\n",
        "        self.ff_norm = RMSNorm(config.embed_size)\n",
        "    \n",
        "    def forward(self, x, kv_cache=None):\n",
        "        a, kv_cache = self.sa_heads(self.sa_norm(x), kv_cache)\n",
        "        h = x + a\n",
        "        o = h + self.ff_layer(self.ff_norm(h))\n",
        "        return o, kv_cache\n",
        "    \n",
        "class MTPTransformerLM(nn.Module):\n",
        "    def __init__(self, config):\n",
        "        super().__init__()\n",
        "        self.layer_num = config.layer_num\n",
        "        self.head_num = config.head_num\n",
        "        self.seq_len = config.seq_len\n",
        "        self.n_future_tokens = config.n_future_tokens\n",
        "        # embed raw tokens to a lower dimensional embedding with embed_size\n",
        "        self.token_embedding_table = nn.Embedding(config.vocab_size, config.embed_size)\n",
        "        # Language Modelling (?) Head is a standard linear layer to go from \n",
        "        # embeddings back to logits of vocab_size\n",
        "        self.lm_head = nn.Linear(config.embed_size, config.vocab_size)\n",
        "        # transformer blocks\n",
        "        self.blocks = nn.ModuleList([Block(config) for _ in range(config.layer_num - self.n_future_tokens)])\n",
        "        self.extra_heads = nn.ModuleList([Block(config) for _ in range(self.n_future_tokens)])\n",
        "\n",
        "    def forward(self, idx, targets=None, kv_cache=None, return_all_heads=False):\n",
        "        B, T = idx.shape\n",
        "        _, _, T_past, _ = kv_cache[0][0].shape if kv_cache is not None and kv_cache[0][0] is not None else (0, 0, 0, 0)\n",
        "        # idx and targets are both (B,T) tensor of integers\n",
        "        tok_embd = self.token_embedding_table(idx) # (B,T,C)\n",
        "        x = tok_embd\n",
        "        # go through blocks\n",
        "        for i, block in enumerate(self.blocks):\n",
        "            x, cache = block(x, None if kv_cache is None else kv_cache[i])\n",
        "            if kv_cache is not None:\n",
        "                kv_cache[i] = cache\n",
        "        # get logits with linear layer\n",
        "\n",
        "        # MTP\n",
        "        trunk = x # (B,T,C)\n",
        "\n",
        "        latents = []\n",
        "        n_heads_to_use = self.n_future_tokens if return_all_heads else 1\n",
        "        prediction_heads = [self.blocks[-1]] + list(self.extra_heads)\n",
        "\n",
        "        for i, block in enumerate(prediction_heads[:n_heads_to_use]):\n",
        "            x, cache = block(x, None if kv_cache is None else kv_cache[i + self.layer_num - self.n_future_tokens])\n",
        "            if kv_cache is not None:\n",
        "                kv_cache[i + self.layer_num - self.n_future_tokens] = cache\n",
        "            latents.append(x)\n",
        "\n",
        "        x = torch.stack(latents, dim=-2) # (B, T, n_heads_to_use, C)\n",
        "\n",
        "        all_logits = self.lm_head(x) # (B, T, n_heads_to_use, V)\n",
        "        \n",
        "        if targets is None:\n",
        "            loss = None\n",
        "        else:\n",
        "            B, T, n_heads_to_use, V = all_logits.shape\n",
        "            logits_flat = all_logits.view(-1, V)\n",
        "            targets_flat = targets.reshape(-1)\n",
        "            loss = F.cross_entropy(logits_flat, targets_flat)\n",
        "\n",
        "        logits = all_logits if return_all_heads else all_logits[:, :, 0, :] # Return the first head only\n",
        "        return logits, loss\n",
        "    \n",
        "    def generate(self, idx, max_new_tokens, temperature=1, use_cache=True):\n",
        "        if use_cache:\n",
        "            # initialize key-value cache\n",
        "            kv_cache = [(None, None) for _ in range(self.layer_num)]\n",
        "            # idx is (B, T) array of indices in the current context\n",
        "            # crop idx to the last seq_len tokens\n",
        "            idx_context = idx[:, -self.seq_len:]\n",
        "            for _ in range(max_new_tokens):\n",
        "                # get the predictions\n",
        "                logits, loss = self(idx_context, kv_cache=kv_cache)\n",
        "                # focus only on the last time step\n",
        "                logits = logits[:, -1, :] # becomes (B, C)\n",
        "                # apply temperature\n",
        "                logits = logits / temperature if temperature > 0 else logits\n",
        "                # apply softmax to get probabilities\n",
        "                probs = F.softmax(logits, dim=-1) # (B, C)\n",
        "                # sample from the distribution\n",
        "                idx_next = torch.multinomial(probs, num_samples=1) if temperature > 0 else torch.argmax(probs, dim=-1, keepdim=True) # (B, 1)\n",
        "                # append sampled index to the running sequence\n",
        "                idx = torch.cat((idx, idx_next), dim=1) # (B, T+1)\n",
        "                # since we have kv cache, only need to pass new token\n",
        "                idx_context = idx_next\n",
        "            return idx\n",
        "        else:\n",
        "            # idx is (B, T) array of indices in the current context\n",
        "            for _ in range(max_new_tokens):\n",
        "                #crop idx to the last seq_len tokens\n",
        "                idx_context = idx[:, -self.seq_len:]\n",
        "                # get the predictions\n",
        "                logits, loss = self(idx_context)\n",
        "                # focus only on the last time step\n",
        "                logits = logits[:, -1, :] # becomes (B, C)\n",
        "                # apply temperature\n",
        "                logits = logits / temperature if temperature > 0 else logits\n",
        "                # apply softmax to get probabilities\n",
        "                probs = F.softmax(logits, dim=-1) # (B, C)\n",
        "                # sample from the distribution\n",
        "                idx_next = torch.multinomial(probs, num_samples=1) if temperature > 0 else torch.argmax(probs, dim=-1, keepdim=True) # (B, 1)\n",
        "                # append sampled index to the running sequence\n",
        "                idx = torch.cat((idx, idx_next), dim=1) # (B, T+1)\n",
        "            return idx"
      ]
    },
    {
      "cell_type": "code",
      "execution_count": 16,
      "metadata": {},
      "outputs": [
        {
          "data": {
            "text/plain": [
              "4775511"
            ]
          },
          "execution_count": 16,
          "metadata": {},
          "output_type": "execute_result"
        }
      ],
      "source": [
        "# Test forward pass\n",
        "n_future_tokens = 1\n",
        "config = MTPTransformerConfig(\n",
        "    vocab_size=vocab_size,\n",
        "    seq_len=seq_len,\n",
        "    embed_size=256,\n",
        "    head_num=4,\n",
        "    layer_num=6,\n",
        "    n_future_tokens=n_future_tokens\n",
        ")\n",
        "m = MTPTransformerLM(config)\n",
        "m.to(device)\n",
        "xb, yb = get_batch('train', 5, 1, n_future_tokens)\n",
        "logits, loss = m(xb, yb, return_all_heads=True)\n",
        "total_params = sum(p.numel() for p in m.parameters() if p.requires_grad)\n",
        "total_params"
      ]
    },
    {
      "cell_type": "code",
      "execution_count": 17,
      "metadata": {},
      "outputs": [
        {
          "data": {
            "image/png": "[encoded data removed]",
            "text/plain": [
              "<Figure size 400x300 with 1 Axes>"
            ]
          },
          "metadata": {},
          "output_type": "display_data"
        },
        {
          "data": {
            "application/vnd.jupyter.widget-view+json": {
              "model_id": "1f236c66500b420fbbee0c612296966b",
              "version_major": 2,
              "version_minor": 0
            },
            "text/plain": [
              "  0%|          | 0/5000 [00:00<?, ?it/s]"
            ]
          },
          "metadata": {},
          "output_type": "display_data"
        },
        {
          "name": "stdout",
          "output_type": "stream",
          "text": [
            "final loss: 1.0742982625961304 final val loss: 1.213886284828186\n"
          ]
        },
        {
          "data": {
            "image/png": "[encoded data removed]",
            "text/plain": [
              "<Figure size 400x300 with 1 Axes>"
            ]
          },
          "metadata": {},
          "output_type": "display_data"
        }
      ],
      "source": [
        "# training!\n",
        "model = MTPTransformerLM(config)\n",
        "model = torch.compile(model)\n",
        "model.to(device)\n",
        "optimizer = torch.optim.AdamW(model.parameters(), lr=2e-3)\n",
        "train(model, optimizer, seq_len, batch_size, total_steps)"
      ]
    },
    {
      "cell_type": "code",
      "execution_count": 18,
      "metadata": {},
      "outputs": [],
      "source": [
        "# Save\n",
        "torch.save(model.state_dict(), 'models/MTPTransformerLM.pt')"
      ]
    },
    {
      "cell_type": "code",
      "execution_count": 19,
      "metadata": {},
      "outputs": [
        {
          "data": {
            "text/plain": [
              "OptimizedModule(\n",
              "  (_orig_mod): MTPTransformerLM(\n",
              "    (token_embedding_table): Embedding(87, 256)\n",
              "    (lm_head): Linear(in_features=256, out_features=87, bias=True)\n",
              "    (blocks): ModuleList(\n",
              "      (0-4): 5 x Block(\n",
              "        (sa_heads): MultiHeadAttention(\n",
              "          (key): Linear(in_features=256, out_features=256, bias=False)\n",
              "          (query): Linear(in_features=256, out_features=256, bias=False)\n",
              "          (value): Linear(in_features=256, out_features=256, bias=False)\n",
              "          (o): Linear(in_features=256, out_features=256, bias=True)\n",
              "        )\n",
              "        (ff_layer): FeedForward(\n",
              "          (lin_1): Linear(in_features=256, out_features=1024, bias=True)\n",
              "          (lin_2): Linear(in_features=1024, out_features=256, bias=True)\n",
              "          (relu): ReLU()\n",
              "        )\n",
              "        (sa_norm): RMSNorm()\n",
              "        (ff_norm): RMSNorm()\n",
              "      )\n",
              "    )\n",
              "    (extra_heads): ModuleList(\n",
              "      (0): Block(\n",
              "        (sa_heads): MultiHeadAttention(\n",
              "          (key): Linear(in_features=256, out_features=256, bias=False)\n",
              "          (query): Linear(in_features=256, out_features=256, bias=False)\n",
              "          (value): Linear(in_features=256, out_features=256, bias=False)\n",
              "          (o): Linear(in_features=256, out_features=256, bias=True)\n",
              "        )\n",
              "        (ff_layer): FeedForward(\n",
              "          (lin_1): Linear(in_features=256, out_features=1024, bias=True)\n",
              "          (lin_2): Linear(in_features=1024, out_features=256, bias=True)\n",
              "          (relu): ReLU()\n",
              "        )\n",
              "        (sa_norm): RMSNorm()\n",
              "        (ff_norm): RMSNorm()\n",
              "      )\n",
              "    )\n",
              "  )\n",
              ")"
            ]
          },
          "execution_count": 19,
          "metadata": {},
          "output_type": "execute_result"
        }
      ],
      "source": [
        "# Load model\n",
        "model = MTPTransformerLM(config)\n",
        "model = torch.compile(model)\n",
        "model.load_state_dict(torch.load('models/MTPTransformerLM.pt'))\n",
        "model.to(device)"
      ]
    },
    {
      "cell_type": "code",
      "execution_count": 20,
      "metadata": {},
      "outputs": [
        {
          "data": {
            "application/vnd.jupyter.widget-view+json": {
              "model_id": "7032311b2b894316aa7dd649b6705882",
              "version_major": 2,
              "version_minor": 0
            },
            "text/plain": [
              "  0%|          | 0/1000 [00:00<?, ?it/s]"
            ]
          },
          "metadata": {},
          "output_type": "display_data"
        },
        {
          "name": "stdout",
          "output_type": "stream",
          "text": [
            "perplexity: 3.348928928375244 loss: 1.208640625\n"
          ]
        }
      ],
      "source": [
        "# calculate perplexity\n",
        "ppl, loss = perplexity(model, seq_len, seq_len)\n",
        "print(\"perplexity:\", ppl, \"loss:\", loss)"
      ]
    },
    {
      "cell_type": "code",
      "execution_count": 32,
      "metadata": {},
      "outputs": [
        {
          "name": "stdout",
          "output_type": "stream",
          "text": [
            "tensor([[53, 72, 78,  1, 80, 66, 69, 69,  1, 71, 62, 79, 62, 75]])\n",
            "You will never be sold by your friends and worked out.\n",
            "\n",
            "Why are they here?\n",
            "\n",
            "I won't let you try to survive the new land.\n",
            "\n",
            "You don't need to be the one who was a bit stronger than that?\n",
            "\n",
            "I won't be able to do that.\n",
            "\n",
            "Why don't you come to see that to help you?\n",
            "\n",
            "I think that I thought I was able to be that bad at the captain of the ground.\n",
            "\n",
            "I can't treat you to the control of the Secrets will be the worst position of the first place.\n",
            "\n",
            "I wonder if it can't be a total power to see the Secret of the Sea God.\n",
            "\n",
            "But I don't think that I want to see it on a day.\n",
            "\n",
            "The Secret said that we want to show the problem here.\n",
            "\n",
            "He said that he looked in a relationship with him at the first time on the same time.\n",
            "\n",
            "Allow us to have to do is think of it, control of the main station.\n",
            "\n",
            "The Secret is a mistake.\n",
            "\n",
            "The Sea God of Tenkaidou is a man or something else in the stars of the dead face.\n",
            "\n",
            "It's a perfect rest for the Soul Reaper\n",
            "\n",
            "of the Soul Reapers are already served to the very eyes and submitted to be a bit longer,\n",
            "\n",
            "\n"
          ]
        }
      ],
      "source": [
        "model.eval()\n",
        "idx = encode(\"You will never\")\n",
        "print(torch.tensor([idx]))\n",
        "print(decode(model.generate(idx=torch.tensor([idx], dtype=torch.long).to(device), max_new_tokens=1000, temperature=0.5, use_cache=True)[0].tolist()))"
      ]
    },
    {
      "cell_type": "markdown",
      "metadata": {},
      "source": [
        "## Saving Memory MTP"
      ]
    },
    {
      "cell_type": "code",
      "execution_count": 15,
      "metadata": {},
      "outputs": [],
      "source": [
        "class MTPTransformerConfig:\n",
        "    def __init__(self, vocab_size, seq_len, embed_size, head_num, layer_num, n_future_tokens):\n",
        "        self.vocab_size = vocab_size\n",
        "        self.seq_len = seq_len\n",
        "        self.embed_size = embed_size\n",
        "        self.head_num = head_num\n",
        "        self.layer_num = layer_num\n",
        "        self.n_future_tokens = n_future_tokens\n",
        "\n",
        "def precompute_freqs_cis(dim: int, end: int, theta: float = 10000.0):\n",
        "    freqs = 1.0 / (theta ** (torch.arange(0, dim, 2)[: (dim // 2)].float() / dim))\n",
        "    t = torch.arange(end, device=freqs.device, dtype=torch.float32)\n",
        "    freqs = torch.outer(t, freqs)\n",
        "    freqs_cis = torch.polar(torch.ones_like(freqs), freqs)\n",
        "    return freqs_cis.to(device)\n",
        "\n",
        "@torch.compiler.disable\n",
        "def apply_rotary_emb(xq: torch.Tensor, xk: torch.Tensor, freqs_cis: torch.Tensor):\n",
        "    xq_ = torch.view_as_complex(xq.float().reshape(*xq.shape[:-1], -1, 2))\n",
        "    xk_ = torch.view_as_complex(xk.float().reshape(*xk.shape[:-1], -1, 2))\n",
        "    \n",
        "    # Reshape freqs_cis for broadcasting\n",
        "    shape = [1] * (xq_.ndim - 2) + list(freqs_cis.shape)\n",
        "    freqs_cis = freqs_cis.view(*shape)\n",
        "\n",
        "    xq_out = torch.view_as_real(xq_ * freqs_cis).flatten(3)\n",
        "    xk_out = torch.view_as_real(xk_ * freqs_cis).flatten(3)\n",
        "    return xq_out.type_as(xq), xk_out.type_as(xk)\n",
        "\n",
        "class RMSNorm(torch.nn.Module):\n",
        "    def __init__(self, dim, eps=1e-6):\n",
        "        super().__init__()\n",
        "        self.eps = eps\n",
        "        self.weight = nn.Parameter(torch.ones(dim))\n",
        "\n",
        "    def _norm(self, x):\n",
        "        return x * torch.rsqrt(x.pow(2).mean(-1, keepdim=True) + self.eps)\n",
        "\n",
        "    def forward(self, x):\n",
        "        output = self._norm(x.float()).type_as(x)\n",
        "        return output * self.weight\n",
        "\n",
        "class FeedForward(nn.Module):\n",
        "    def __init__(self, config):\n",
        "        super().__init__()\n",
        "        self.lin_1 = nn.Linear(config.embed_size, config.embed_size*4)\n",
        "        self.lin_2 = nn.Linear(config.embed_size*4, config.embed_size)\n",
        "        self.relu = nn.ReLU()\n",
        "\n",
        "    def forward(self, x):\n",
        "        x = self.lin_1(x)\n",
        "        x = self.relu(x)\n",
        "        x = self.lin_2(x)\n",
        "        return x\n",
        "\n",
        "class MultiHeadAttention(nn.Module):\n",
        "    def __init__(self, config):\n",
        "        super().__init__()\n",
        "        self.seq_len = config.seq_len\n",
        "        self.head_num = config.head_num\n",
        "        self.head_size = config.embed_size // config.head_num\n",
        "        self.key = nn.Linear(config.embed_size, config.embed_size, bias=False)\n",
        "        self.query = nn.Linear(config.embed_size, config.embed_size, bias=False)\n",
        "        self.value = nn.Linear(config.embed_size, config.embed_size, bias=False)\n",
        "        self.o = nn.Linear(config.embed_size, config.embed_size)\n",
        "        \n",
        "        def causal(b, h, q_idx, kv_idx):\n",
        "            return q_idx >= kv_idx\n",
        "        self.causal_mask = create_block_mask(causal, B=None, H=None, Q_LEN=config.seq_len, KV_LEN=config.seq_len)\n",
        "        self.freqs_cis = precompute_freqs_cis(config.embed_size//config.head_num, config.seq_len)\n",
        "        self.register_buffer('tril', torch.tril(torch.ones(config.seq_len, config.seq_len)))\n",
        "\n",
        "    def forward(self, x, kv_cache=None):\n",
        "        B, T, C = x.shape\n",
        "        q = self.query(x)\n",
        "        k = self.key(x)\n",
        "        v = self.value(x)\n",
        "\n",
        "        q = q.view(B, T, self.head_num, self.head_size).transpose(1, 2)\n",
        "        k = k.view(B, T, self.head_num, self.head_size).transpose(1, 2)\n",
        "        v = v.view(B, T, self.head_num, self.head_size).transpose(1, 2)\n",
        "\n",
        "        if kv_cache is not None:\n",
        "            k_past, v_past = kv_cache\n",
        "            if k_past is not None:\n",
        "                k = torch.cat((k_past, k), dim=2)\n",
        "                v = torch.cat((v_past, v), dim=2)\n",
        "            if k.shape[-2] > self.seq_len:\n",
        "                k = k[:, :, -self.seq_len:]\n",
        "                v = v[:, :, -self.seq_len:]\n",
        "            kv_cache = (k, v)\n",
        "        \n",
        "        T_k = k.shape[-2]\n",
        "        q, k = apply_rotary_emb(q, k, self.freqs_cis[:T_k])\n",
        "        \n",
        "        if T == self.seq_len and self.causal_mask is not None:\n",
        "             out = flex_attention(q, k, v, block_mask=self.causal_mask)\n",
        "        else:\n",
        "            wei = q @ k.transpose(-2,-1) * (self.head_size**-0.5)\n",
        "            wei = wei.masked_fill(self.tril[:T, :T_k] == 0, float('-inf'))\n",
        "            wei = F.softmax(wei, dim=-1)\n",
        "            out = wei @ v\n",
        "\n",
        "        out = out.transpose(1, 2).contiguous().view(B, T, C)\n",
        "        out = self.o(out)\n",
        "        return out, kv_cache\n",
        "\n",
        "class Block(nn.Module):\n",
        "    def __init__(self, config):\n",
        "        super().__init__()\n",
        "        self.sa_heads = MultiHeadAttention(config)\n",
        "        self.ff_layer = FeedForward(config)\n",
        "        self.sa_norm = RMSNorm(config.embed_size)\n",
        "        self.ff_norm = RMSNorm(config.embed_size)\n",
        "\n",
        "    def forward(self, x, kv_cache=None):\n",
        "        a, kv_cache = self.sa_heads(self.sa_norm(x), kv_cache)\n",
        "        h = x + a\n",
        "        o = h + self.ff_layer(self.ff_norm(h))\n",
        "        return o, kv_cache\n",
        "\n",
        "# ---- NEW: Custom Autograd Function for MEMORY-EFFICIENT TRAINING ----\n",
        "\n",
        "class SequentialHeadsCustomBackward(torch.autograd.Function):\n",
        "    @staticmethod\n",
        "    def forward(ctx, trunk_output, lm_head, *prediction_heads):\n",
        "        # Save modules and non-tensor arguments for the backward pass.\n",
        "        ctx.prediction_heads = prediction_heads\n",
        "        ctx.lm_head = lm_head\n",
        "        # Save tensors needed for the backward pass.\n",
        "        ctx.save_for_backward(trunk_output)\n",
        "\n",
        "        # Standard sequential forward pass\n",
        "        latents = []\n",
        "        for head in prediction_heads:\n",
        "            latent, _ = head(trunk_output, kv_cache=None)\n",
        "            latents.append(latent)\n",
        "        \n",
        "        latents_stacked = torch.stack(latents, dim=-2)\n",
        "        all_logits = lm_head(latents_stacked)\n",
        "        return all_logits\n",
        "\n",
        "    @staticmethod\n",
        "    def backward(ctx, grad_output):\n",
        "        trunk_output, = ctx.saved_tensors\n",
        "        prediction_heads = ctx.prediction_heads\n",
        "        lm_head = ctx.lm_head\n",
        "        \n",
        "        d = trunk_output.detach().requires_grad_(True)\n",
        "        grad_output_per_head = grad_output.unbind(dim=2)\n",
        "\n",
        "        for i, head in enumerate(prediction_heads):\n",
        "            with torch.enable_grad():\n",
        "                head_latent, _ = head(d)\n",
        "                head_logits = lm_head(head_latent)\n",
        "            \n",
        "            head_logits.backward(gradient=grad_output_per_head[i])\n",
        "            \n",
        "        num_nones = 1 + len(prediction_heads) # For lm_head + *prediction_heads\n",
        "        return (d.grad,) + (None,) * num_nones\n",
        "\n",
        "# ---- REFACTORED MTPTransformerLM with custom backward logic ----\n",
        "\n",
        "class MTPTransformerLM(nn.Module):\n",
        "    def __init__(self, config):\n",
        "        super().__init__()\n",
        "        self.config = config\n",
        "        self.token_embedding_table = nn.Embedding(config.vocab_size, config.embed_size)\n",
        "        self.lm_head = nn.Linear(config.embed_size, config.vocab_size)\n",
        "        \n",
        "        # Clean separation between trunk and heads\n",
        "        num_trunk_blocks = config.layer_num - config.n_future_tokens\n",
        "        self.trunk_blocks = nn.ModuleList([Block(config) for _ in range(num_trunk_blocks)])\n",
        "        self.prediction_heads = nn.ModuleList([Block(config) for _ in range(config.n_future_tokens)])\n",
        "\n",
        "    def forward(self, idx, targets=None, kv_cache=None, return_all_heads=False, use_custom_backward=True):\n",
        "        B, T = idx.shape\n",
        "        tok_embd = self.token_embedding_table(idx)\n",
        "        x = tok_embd\n",
        "        \n",
        "        # 1. Shared Trunk\n",
        "        for i, block in enumerate(self.trunk_blocks):\n",
        "            x, _ = block(x) # Simplified kv_cache for clarity\n",
        "        trunk = x\n",
        "\n",
        "        # 2. Prediction Heads\n",
        "        n_heads_to_use = self.config.n_future_tokens if return_all_heads else 1\n",
        "        \n",
        "        if self.training and return_all_heads and use_custom_backward:\n",
        "            # Pass only the heads we intend to use to the custom function\n",
        "            active_heads = self.prediction_heads[:n_heads_to_use]\n",
        "            all_logits = SequentialHeadsCustomBackward.apply(trunk, self.lm_head, *active_heads)\n",
        "        else:\n",
        "            latents = []\n",
        "            for i, block in enumerate(self.prediction_heads[:n_heads_to_use]):\n",
        "                x_head, _ = block(trunk)\n",
        "                latents.append(x_head)\n",
        "            x = torch.stack(latents, dim=-2)\n",
        "            all_logits = self.lm_head(x)\n",
        "        \n",
        "        # 3. Loss Calculation\n",
        "        loss = None\n",
        "        if targets is not None:\n",
        "            B, T, H, V = all_logits.shape\n",
        "            logits_flat = all_logits.view(B * T * H, V)\n",
        "            targets_flat = targets.reshape(-1)\n",
        "            loss = F.cross_entropy(logits_flat, targets_flat)\n",
        "\n",
        "        logits = all_logits if return_all_heads else all_logits.squeeze(2)\n",
        "        return logits, loss\n",
        "    \n",
        "    def generate(self, idx, max_new_tokens, temperature=1, use_cache=True):\n",
        "        for _ in range(max_new_tokens):\n",
        "            idx_cond = idx if idx.size(1) <= self.config.seq_len else idx[:, -self.config.seq_len:]\n",
        "            # Note: generate calls with return_all_heads=False, so it doesn't use the custom BWD path\n",
        "            logits, _ = self(idx_cond, return_all_heads=False)\n",
        "            logits = logits[:, -1, :] / temperature if temperature > 0 else logits[:, -1, :]\n",
        "            \n",
        "            probs = F.softmax(logits, dim=-1)\n",
        "            idx_next = torch.multinomial(probs, num_samples=1) if temperature > 0 else torch.argmax(probs, dim=-1, keepdim=True)\n",
        "            idx = torch.cat((idx, idx_next), dim=1)\n",
        "        return idx\n"
      ]
    },
    {
      "cell_type": "code",
      "execution_count": 16,
      "metadata": {},
      "outputs": [
        {
          "data": {
            "text/plain": [
              "4775511"
            ]
          },
          "execution_count": 16,
          "metadata": {},
          "output_type": "execute_result"
        }
      ],
      "source": [
        "# Test forward pass\n",
        "n_future_tokens = 3\n",
        "config = MTPTransformerConfig(\n",
        "    vocab_size=vocab_size,\n",
        "    seq_len=seq_len,\n",
        "    embed_size=256,\n",
        "    head_num=4,\n",
        "    layer_num=6,\n",
        "    n_future_tokens=n_future_tokens\n",
        ")\n",
        "m = MTPTransformerLM(config)\n",
        "m.to(device)\n",
        "xb, yb = get_batch('train', 5, 1, n_future_tokens)\n",
        "logits, loss = m(xb, yb, return_all_heads=True)\n",
        "total_params = sum(p.numel() for p in m.parameters() if p.requires_grad)\n",
        "total_params"
      ]
    },
    {
      "cell_type": "code",
      "execution_count": null,
      "metadata": {},
      "outputs": [
        {
          "data": {
            "image/png": "[encoded data removed]",
            "text/plain": [
              "<Figure size 400x300 with 1 Axes>"
            ]
          },
          "metadata": {},
          "output_type": "display_data"
        },
        {
          "data": {
            "application/vnd.jupyter.widget-view+json": {
              "model_id": "58c5292dc7684b939949d9157311c0cd",
              "version_major": 2,
              "version_minor": 0
            },
            "text/plain": [
              "  0%|          | 0/5000 [00:00<?, ?it/s]"
            ]
          },
          "metadata": {},
          "output_type": "display_data"
        }
      ],
      "source": [
        "# training!\n",
        "model = MTPTransformerLM(config)\n",
        "model = torch.compile(model)\n",
        "model.to(device)\n",
        "optimizer = torch.optim.AdamW(model.parameters(), lr=2e-3)\n",
        "train(model, optimizer, seq_len, batch_size, total_steps)"
      ]
    },
    {
      "cell_type": "code",
      "execution_count": null,
      "metadata": {},
      "outputs": [],
      "source": [
        "# Save\n",
        "torch.save(model.state_dict(), 'models/SavingMemoryMTPTransformerLM.pt')"
      ]
    },
    {
      "cell_type": "code",
      "execution_count": null,
      "metadata": {},
      "outputs": [
        {
          "data": {
            "text/plain": [
              "OptimizedModule(\n",
              "  (_orig_mod): MTPTransformerLM(\n",
              "    (token_embedding_table): Embedding(87, 256)\n",
              "    (lm_head): Linear(in_features=256, out_features=87, bias=True)\n",
              "    (blocks): ModuleList(\n",
              "      (0-4): 5 x Block(\n",
              "        (sa_heads): MultiHeadAttention(\n",
              "          (key): Linear(in_features=256, out_features=256, bias=False)\n",
              "          (query): Linear(in_features=256, out_features=256, bias=False)\n",
              "          (value): Linear(in_features=256, out_features=256, bias=False)\n",
              "          (o): Linear(in_features=256, out_features=256, bias=True)\n",
              "        )\n",
              "        (ff_layer): FeedForward(\n",
              "          (lin_1): Linear(in_features=256, out_features=1024, bias=True)\n",
              "          (lin_2): Linear(in_features=1024, out_features=256, bias=True)\n",
              "          (relu): ReLU()\n",
              "        )\n",
              "        (sa_norm): RMSNorm()\n",
              "        (ff_norm): RMSNorm()\n",
              "      )\n",
              "    )\n",
              "    (extra_heads): ModuleList(\n",
              "      (0): Block(\n",
              "        (sa_heads): MultiHeadAttention(\n",
              "          (key): Linear(in_features=256, out_features=256, bias=False)\n",
              "          (query): Linear(in_features=256, out_features=256, bias=False)\n",
              "          (value): Linear(in_features=256, out_features=256, bias=False)\n",
              "          (o): Linear(in_features=256, out_features=256, bias=True)\n",
              "        )\n",
              "        (ff_layer): FeedForward(\n",
              "          (lin_1): Linear(in_features=256, out_features=1024, bias=True)\n",
              "          (lin_2): Linear(in_features=1024, out_features=256, bias=True)\n",
              "          (relu): ReLU()\n",
              "        )\n",
              "        (sa_norm): RMSNorm()\n",
              "        (ff_norm): RMSNorm()\n",
              "      )\n",
              "    )\n",
              "  )\n",
              ")"
            ]
          },
          "metadata": {},
          "output_type": "display_data"
        }
      ],
      "source": [
        "# Load model\n",
        "model = MTPTransformerLM(config)\n",
        "model = torch.compile(model)\n",
        "model.load_state_dict(torch.load('models/SavingMemoryMTPTransformerLM.pt'))\n",
        "model.to(device)"
      ]
    },
    {
      "cell_type": "code",
      "execution_count": null,
      "metadata": {},
      "outputs": [
        {
          "data": {
            "application/vnd.jupyter.widget-view+json": {
              "model_id": "7032311b2b894316aa7dd649b6705882",
              "version_major": 2,
              "version_minor": 0
            },
            "text/plain": [
              "  0%|          | 0/1000 [00:00<?, ?it/s]"
            ]
          },
          "metadata": {},
          "output_type": "display_data"
        },
        {
          "name": "stdout",
          "output_type": "stream",
          "text": [
            "perplexity: 3.348928928375244 loss: 1.208640625\n"
          ]
        }
      ],
      "source": [
        "# calculate perplexity\n",
        "ppl, loss = perplexity(model, seq_len, seq_len)\n",
        "print(\"perplexity:\", ppl, \"loss:\", loss)"
      ]
    },
    {
      "cell_type": "code",
      "execution_count": null,
      "metadata": {},
      "outputs": [
        {
          "name": "stdout",
          "output_type": "stream",
          "text": [
            "tensor([[53, 72, 78,  1, 80, 66, 69, 69,  1, 71, 62, 79, 62, 75]])\n",
            "You will never be sold by your friends and worked out.\n",
            "\n",
            "Why are they here?\n",
            "\n",
            "I won't let you try to survive the new land.\n",
            "\n",
            "You don't need to be the one who was a bit stronger than that?\n",
            "\n",
            "I won't be able to do that.\n",
            "\n",
            "Why don't you come to see that to help you?\n",
            "\n",
            "I think that I thought I was able to be that bad at the captain of the ground.\n",
            "\n",
            "I can't treat you to the control of the Secrets will be the worst position of the first place.\n",
            "\n",
            "I wonder if it can't be a total power to see the Secret of the Sea God.\n",
            "\n",
            "But I don't think that I want to see it on a day.\n",
            "\n",
            "The Secret said that we want to show the problem here.\n",
            "\n",
            "He said that he looked in a relationship with him at the first time on the same time.\n",
            "\n",
            "Allow us to have to do is think of it, control of the main station.\n",
            "\n",
            "The Secret is a mistake.\n",
            "\n",
            "The Sea God of Tenkaidou is a man or something else in the stars of the dead face.\n",
            "\n",
            "It's a perfect rest for the Soul Reaper\n",
            "\n",
            "of the Soul Reapers are already served to the very eyes and submitted to be a bit longer,\n",
            "\n",
            "\n"
          ]
        }
      ],
      "source": [
        "model.eval()\n",
        "idx = encode(\"You will never\")\n",
        "print(torch.tensor([idx]))\n",
        "print(decode(model.generate(idx=torch.tensor([idx], dtype=torch.long).to(device), max_new_tokens=1000, temperature=0.5, use_cache=True)[0].tolist()))"
      ]
    },
    {
      "cell_type": "markdown",
      "metadata": {},
      "source": [
        "# Investigate Saving Memory"
      ]
    },
    {
      "cell_type": "code",
      "execution_count": null,
      "metadata": {},
      "outputs": [
        {
          "data": {
            "text/plain": [
              "4775511"
            ]
          },
          "execution_count": 23,
          "metadata": {},
          "output_type": "execute_result"
        }
      ],
      "source": [
        "# Test forward pass\n",
        "n_future_tokens = 1\n",
        "config = MTPTransformerConfig(\n",
        "    vocab_size=vocab_size,\n",
        "    seq_len=seq_len,\n",
        "    embed_size=256,\n",
        "    head_num=4,\n",
        "    layer_num=6,\n",
        "    n_future_tokens=n_future_tokens\n",
        ")\n",
        "m = MTPTransformerLM(config)\n",
        "m.to(device)\n",
        "xb, yb = get_batch('train', 5, 1, n_future_tokens)\n",
        "m.zero_grad()\n",
        "m.train()\n",
        "logits, loss = m(xb, yb, return_all_heads=True)\n",
        "total_params = sum(p.numel() for p in m.parameters() if p.requires_grad)\n",
        "total_params"
      ]
    },
    {
      "cell_type": "code",
      "execution_count": 24,
      "metadata": {},
      "outputs": [],
      "source": [
        "import torch\n",
        "import torch.nn as nn\n",
        "import torch.nn.functional as F\n",
        "from typing import List\n",
        "import copy\n",
        "\n",
        "# --- Original Code Base (with minor fixes for standalone execution) ---\n",
        "\n",
        "class MTPTransformerConfig:\n",
        "    def __init__(self, vocab_size, seq_len, embed_size, head_num, layer_num, n_future_tokens):\n",
        "        self.vocab_size = vocab_size\n",
        "        self.seq_len = seq_len\n",
        "        self.embed_size = embed_size\n",
        "        self.head_num = head_num\n",
        "        self.layer_num = layer_num\n",
        "        self.n_future_tokens = n_future_tokens\n",
        "\n",
        "def precompute_freqs_cis(dim: int, end: int, theta: float = 10000.0):\n",
        "    freqs = 1.0 / (theta ** (torch.arange(0, dim, 2)[: (dim // 2)].float() / dim))\n",
        "    t = torch.arange(end, device=freqs.device, dtype=torch.float32)\n",
        "    freqs = torch.outer(t, freqs)\n",
        "    freqs_cis = torch.polar(torch.ones_like(freqs), freqs)\n",
        "    return freqs_cis.to(device)\n",
        "\n",
        "@torch.compiler.disable\n",
        "def apply_rotary_emb(xq: torch.Tensor, xk: torch.Tensor, freqs_cis: torch.Tensor):\n",
        "    xq_ = torch.view_as_complex(xq.float().reshape(*xq.shape[:-1], -1, 2))\n",
        "    xk_ = torch.view_as_complex(xk.float().reshape(*xk.shape[:-1], -1, 2))\n",
        "    \n",
        "    # Reshape freqs_cis for broadcasting\n",
        "    shape = [1] * (xq_.ndim - 2) + list(freqs_cis.shape)\n",
        "    freqs_cis = freqs_cis.view(*shape)\n",
        "\n",
        "    xq_out = torch.view_as_real(xq_ * freqs_cis).flatten(3)\n",
        "    xk_out = torch.view_as_real(xk_ * freqs_cis).flatten(3)\n",
        "    return xq_out.type_as(xq), xk_out.type_as(xk)\n",
        "\n",
        "class RMSNorm(torch.nn.Module):\n",
        "    def __init__(self, dim, eps=1e-6):\n",
        "        super().__init__()\n",
        "        self.eps = eps\n",
        "        self.weight = nn.Parameter(torch.ones(dim))\n",
        "\n",
        "    def _norm(self, x):\n",
        "        return x * torch.rsqrt(x.pow(2).mean(-1, keepdim=True) + self.eps)\n",
        "\n",
        "    def forward(self, x):\n",
        "        output = self._norm(x.float()).type_as(x)\n",
        "        return output * self.weight\n",
        "\n",
        "class FeedForward(nn.Module):\n",
        "    def __init__(self, config):\n",
        "        super().__init__()\n",
        "        self.lin_1 = nn.Linear(config.embed_size, config.embed_size*4)\n",
        "        self.lin_2 = nn.Linear(config.embed_size*4, config.embed_size)\n",
        "        self.relu = nn.ReLU()\n",
        "\n",
        "    def forward(self, x):\n",
        "        x = self.lin_1(x)\n",
        "        x = self.relu(x)\n",
        "        x = self.lin_2(x)\n",
        "        return x\n",
        "\n",
        "class MultiHeadAttention(nn.Module):\n",
        "    def __init__(self, config):\n",
        "        super().__init__()\n",
        "        self.seq_len = config.seq_len\n",
        "        self.head_num = config.head_num\n",
        "        self.head_size = config.embed_size // config.head_num\n",
        "        self.key = nn.Linear(config.embed_size, config.embed_size, bias=False)\n",
        "        self.query = nn.Linear(config.embed_size, config.embed_size, bias=False)\n",
        "        self.value = nn.Linear(config.embed_size, config.embed_size, bias=False)\n",
        "        self.o = nn.Linear(config.embed_size, config.embed_size)\n",
        "        \n",
        "        def causal(b, h, q_idx, kv_idx):\n",
        "            return q_idx >= kv_idx\n",
        "        self.causal_mask = create_block_mask(causal, B=None, H=None, Q_LEN=config.seq_len, KV_LEN=config.seq_len)\n",
        "        self.freqs_cis = precompute_freqs_cis(config.embed_size//config.head_num, config.seq_len)\n",
        "        self.register_buffer('tril', torch.tril(torch.ones(config.seq_len, config.seq_len)))\n",
        "\n",
        "    def forward(self, x, kv_cache=None):\n",
        "        B, T, C = x.shape\n",
        "        q = self.query(x)\n",
        "        k = self.key(x)\n",
        "        v = self.value(x)\n",
        "\n",
        "        q = q.view(B, T, self.head_num, self.head_size).transpose(1, 2)\n",
        "        k = k.view(B, T, self.head_num, self.head_size).transpose(1, 2)\n",
        "        v = v.view(B, T, self.head_num, self.head_size).transpose(1, 2)\n",
        "\n",
        "        if kv_cache is not None:\n",
        "            k_past, v_past = kv_cache\n",
        "            if k_past is not None:\n",
        "                k = torch.cat((k_past, k), dim=2)\n",
        "                v = torch.cat((v_past, v), dim=2)\n",
        "            if k.shape[-2] > self.seq_len:\n",
        "                k = k[:, :, -self.seq_len:]\n",
        "                v = v[:, :, -self.seq_len:]\n",
        "            kv_cache = (k, v)\n",
        "        \n",
        "        T_k = k.shape[-2]\n",
        "        q, k = apply_rotary_emb(q, k, self.freqs_cis[:T_k])\n",
        "        \n",
        "        if T == self.seq_len:\n",
        "             out = flex_attention(q, k, v, block_mask=self.causal_mask)\n",
        "        else:\n",
        "            wei = q @ k.transpose(-2,-1) * (self.head_size**-0.5)\n",
        "            wei = wei.masked_fill(self.tril[:T, :T_k] == 0, float('-inf'))\n",
        "            wei = F.softmax(wei, dim=-1)\n",
        "            out = wei @ v\n",
        "\n",
        "        out = out.transpose(1, 2).contiguous().view(B, T, C)\n",
        "        out = self.o(out)\n",
        "        return out, kv_cache\n",
        "\n",
        "class Block(nn.Module):\n",
        "    def __init__(self, config):\n",
        "        super().__init__()\n",
        "        self.sa_heads = MultiHeadAttention(config)\n",
        "        self.ff_layer = FeedForward(config)\n",
        "        self.sa_norm = RMSNorm(config.embed_size)\n",
        "        self.ff_norm = RMSNorm(config.embed_size)\n",
        "\n",
        "    def forward(self, x, kv_cache=None):\n",
        "        a, kv_cache = self.sa_heads(self.sa_norm(x), kv_cache)\n",
        "        h = x + a\n",
        "        o = h + self.ff_layer(self.ff_norm(h))\n",
        "        return o, kv_cache\n",
        "\n",
        "# ---- NEW: Custom Autograd Function for MEMORY-EFFICIENT TRAINING ----\n",
        "\n",
        "class SequentialHeadsCustomBackward(torch.autograd.Function):\n",
        "    @staticmethod\n",
        "    def forward(ctx, trunk_output, lm_head, *prediction_heads):\n",
        "        \"\"\"\n",
        "        Runs the standard sequential forward pass, but sets up for a custom backward pass.\n",
        "        \"\"\"\n",
        "        # Save modules and non-tensor arguments for the backward pass.\n",
        "        ctx.prediction_heads = prediction_heads\n",
        "        ctx.lm_head = lm_head\n",
        "        # Save tensors needed for the backward pass.\n",
        "        ctx.save_for_backward(trunk_output)\n",
        "\n",
        "        # Standard sequential forward pass\n",
        "        latents = []\n",
        "        # KV Caching is disabled within this function for simplicity.\n",
        "        for head in prediction_heads:\n",
        "            latent, _ = head(trunk_output, kv_cache=None)\n",
        "            latents.append(latent)\n",
        "        \n",
        "        latents_stacked = torch.stack(latents, dim=-2)\n",
        "        all_logits = lm_head(latents_stacked)\n",
        "        return all_logits\n",
        "\n",
        "    @staticmethod\n",
        "    def backward(ctx, grad_output):\n",
        "        \"\"\"\n",
        "        Implements the memory-efficient sequential backward pass from the paper.\n",
        "        \"\"\"\n",
        "        trunk_output, = ctx.saved_tensors\n",
        "        prediction_heads = ctx.prediction_heads\n",
        "        lm_head = ctx.lm_head\n",
        "        \n",
        "        # Detach trunk output to manually control gradient flow\n",
        "        d = trunk_output.detach().requires_grad_(True)\n",
        "        # Split the incoming gradient for each head's output\n",
        "        grad_output_per_head = grad_output.unbind(dim=2)\n",
        "\n",
        "        for i, head in enumerate(prediction_heads):\n",
        "            # We need to re-run the forward pass for each head on the detached\n",
        "            # trunk output to build a temporary computational graph for backprop.\n",
        "            with torch.enable_grad():\n",
        "                head_latent, _ = head(d)\n",
        "                head_logits = lm_head(head_latent)\n",
        "            \n",
        "            # Backpropagate through this single head's graph. This populates\n",
        "            # gradients for this head's parameters and accumulates them in `d.grad`.\n",
        "            head_logits.backward(gradient=grad_output_per_head[i])\n",
        "            \n",
        "        # The gradients for lm_head and each prediction_head have been accumulated.\n",
        "        # Now, d.grad contains the accumulated gradient for the trunk.\n",
        "        # We return it as the gradient for the original trunk_output.\n",
        "        # Gradients for non-tensor inputs (modules) should be None.\n",
        "        num_nones = 1 + len(prediction_heads) # For lm_head + *prediction_heads\n",
        "        return (d.grad,) + (None,) * num_nones\n",
        "\n",
        "# ---- UPDATED MTPTransformerLM with custom backward logic ----\n",
        "class MTPTransformerLM(nn.Module):\n",
        "    def __init__(self, config):\n",
        "        super().__init__()\n",
        "        self.config = config\n",
        "        self.token_embedding_table = nn.Embedding(config.vocab_size, config.embed_size)\n",
        "        self.lm_head = nn.Linear(config.embed_size, config.vocab_size)\n",
        "        \n",
        "        # The main body of the model\n",
        "        self.blocks = nn.ModuleList([Block(config) for _ in range(config.layer_num - config.n_future_tokens)])\n",
        "        # The prediction heads that branch off\n",
        "        self.extra_heads = nn.ModuleList([Block(config) for _ in range(config.n_future_tokens)])\n",
        "\n",
        "    def forward(self, idx, targets=None, kv_cache=None, return_all_heads=False, use_custom_backward=True):\n",
        "        B, T = idx.shape\n",
        "        tok_embd = self.token_embedding_table(idx)\n",
        "        x = tok_embd\n",
        "        \n",
        "        # 1. Shared Trunk\n",
        "        for i, block in enumerate(self.blocks):\n",
        "            x, cache = block(x, None if kv_cache is None else kv_cache[i])\n",
        "            # Update cache if provided\n",
        "        trunk = x\n",
        "\n",
        "        # 2. Prediction Heads\n",
        "        n_heads_to_use = self.config.n_future_tokens if return_all_heads else 1\n",
        "        prediction_heads = [self.blocks[-1]] + list(self.extra_heads) if len(self.blocks) > 0 else list(self.extra_heads)\n",
        "\n",
        "        # Use memory-efficient custom backward pass during training for all heads\n",
        "        if self.training and return_all_heads and use_custom_backward:\n",
        "            # We must pass the heads as *args for the autograd function\n",
        "            all_logits = SequentialHeadsCustomBackward.apply(trunk, self.lm_head, *prediction_heads[:n_heads_to_use])\n",
        "        # Use standard forward pass for inference or single-head cases\n",
        "        else:\n",
        "            latents = []\n",
        "            for i, block in enumerate(prediction_heads[:n_heads_to_use]):\n",
        "                # Note: kv_cache logic for heads is simplified here.\n",
        "                x_head, _ = block(trunk)\n",
        "                latents.append(x_head)\n",
        "            x = torch.stack(latents, dim=-2)\n",
        "            all_logits = self.lm_head(x)\n",
        "        \n",
        "        # 3. Loss Calculation\n",
        "        loss = None\n",
        "        if targets is not None:\n",
        "            B, T, V = all_logits.shape[0], all_logits.shape[1], all_logits.shape[-1]\n",
        "            logits_flat = all_logits.view(B * T * n_heads_to_use, V)\n",
        "            targets_flat = targets.reshape(-1)\n",
        "            loss = F.cross_entropy(logits_flat, targets_flat)\n",
        "\n",
        "        logits = all_logits if return_all_heads else all_logits[:, :, 0, :]\n",
        "        return logits, loss\n",
        "    \n",
        "    def generate(self, idx, max_new_tokens, temperature=1, use_cache=True):\n",
        "        # This function remains largely the same, as it calls forward with return_all_heads=False\n",
        "        for _ in range(max_new_tokens):\n",
        "            idx_cond = idx if idx.size(1) <= self.config.seq_len else idx[:, -self.config.seq_len:]\n",
        "            logits, _ = self(idx_cond, return_all_heads=False)\n",
        "            logits = logits[:, -1, :] / temperature if temperature > 0 else logits[:, -1, :]\n",
        "            \n",
        "            probs = F.softmax(logits, dim=-1)\n",
        "            idx_next = torch.multinomial(probs, num_samples=1) if temperature > 0 else torch.argmax(probs, dim=-1, keepdim=True)\n",
        "            idx = torch.cat((idx, idx_next), dim=1)\n",
        "        return idx\n"
      ]
    },
    {
      "cell_type": "code",
      "execution_count": 25,
      "metadata": {},
      "outputs": [
        {
          "name": "stdout",
          "output_type": "stream",
          "text": [
            "--- Running Gradient Comparison Test ---\n",
            "\n",
            "Losses are close: True\n",
            "Trunk gradients are the same: False\n",
            "Head gradients are the same: False\n",
            "\n",
            "❌ Gradient check failed. The custom backward implementation is incorrect.\n"
          ]
        }
      ],
      "source": [
        "config = MTPTransformerConfig(\n",
        "    vocab_size=1000, seq_len=128, embed_size=256,\n",
        "    head_num=8, layer_num=12, n_future_tokens=4\n",
        ")\n",
        "\n",
        "# --- GRADIENT COMPARISON TEST ---\n",
        "print(\"--- Running Gradient Comparison Test ---\")\n",
        "\n",
        "# Create two identical models\n",
        "model_ref = MTPTransformerLM(config).to(device)\n",
        "model_custom = copy.deepcopy(model_ref)\n",
        "\n",
        "# Dummy data\n",
        "dummy_input = torch.randint(0, config.vocab_size, (2, 64), device=device)\n",
        "dummy_targets = torch.randint(0, config.vocab_size, (2, 64, config.n_future_tokens), device=device)\n",
        "\n",
        "# --- 1. Get gradients from standard backward pass ---\n",
        "model_ref.train()\n",
        "model_ref.zero_grad()\n",
        "_, loss_ref = model_ref(dummy_input, targets=dummy_targets, return_all_heads=True, use_custom_backward=False)\n",
        "loss_ref.backward()\n",
        "\n",
        "# Store gradients from a trunk parameter and a head parameter\n",
        "trunk_grad_ref = model_ref.blocks[0].ff_layer.lin_1.weight.grad.clone()\n",
        "head_grad_ref = model_ref.extra_heads[0].ff_layer.lin_1.weight.grad.clone()\n",
        "\n",
        "# --- 2. Get gradients from custom backward pass ---\n",
        "model_custom.train()\n",
        "model_custom.zero_grad()\n",
        "_, loss_custom = model_custom(dummy_input, targets=dummy_targets, return_all_heads=True, use_custom_backward=True)\n",
        "loss_custom.backward()\n",
        "\n",
        "# Get gradients from the same parameters\n",
        "trunk_grad_custom = model_custom.blocks[0].ff_layer.lin_1.weight.grad\n",
        "head_grad_custom = model_custom.extra_heads[0].ff_layer.lin_1.weight.grad\n",
        "\n",
        "# --- 3. Compare the gradients ---\n",
        "print(f\"\\nLosses are close: {torch.allclose(loss_ref, loss_custom)}\")\n",
        "trunk_grads_are_close = torch.allclose(trunk_grad_ref, trunk_grad_custom)\n",
        "head_grads_are_close = torch.allclose(head_grad_ref, head_grad_custom)\n",
        "\n",
        "print(f\"Trunk gradients are the same: {trunk_grads_are_close}\")\n",
        "print(f\"Head gradients are the same: {head_grads_are_close}\")\n",
        "\n",
        "if trunk_grads_are_close and head_grads_are_close:\n",
        "    print(\"\\n✅ Gradient check passed. The custom backward implementation is correct.\")\n",
        "else:\n",
        "    print(\"\\n❌ Gradient check failed. The custom backward implementation is incorrect.\")\n"
      ]
    },
    {
      "cell_type": "code",
      "execution_count": 37,
      "metadata": {},
      "outputs": [
        {
          "name": "stdout",
          "output_type": "stream",
          "text": [
            "--- Running Gradient Comparison Test ---\n",
            "\n",
            "Losses are close: True\n",
            "Trunk gradients are the same: True\n",
            "Head gradients are the same: True\n",
            "\n",
            "✅ Gradient check passed. The custom backward implementation is correct.\n"
          ]
        }
      ],
      "source": [
        "import torch\n",
        "import torch.nn as nn\n",
        "import torch.nn.functional as F\n",
        "from typing import List\n",
        "import copy\n",
        "\n",
        "class MTPTransformerConfig:\n",
        "    def __init__(self, vocab_size, seq_len, embed_size, head_num, layer_num, n_future_tokens):\n",
        "        self.vocab_size = vocab_size\n",
        "        self.seq_len = seq_len\n",
        "        self.embed_size = embed_size\n",
        "        self.head_num = head_num\n",
        "        self.layer_num = layer_num\n",
        "        self.n_future_tokens = n_future_tokens\n",
        "\n",
        "def precompute_freqs_cis(dim: int, end: int, theta: float = 10000.0):\n",
        "    freqs = 1.0 / (theta ** (torch.arange(0, dim, 2)[: (dim // 2)].float() / dim))\n",
        "    t = torch.arange(end, device=freqs.device, dtype=torch.float32)\n",
        "    freqs = torch.outer(t, freqs)\n",
        "    freqs_cis = torch.polar(torch.ones_like(freqs), freqs)\n",
        "    return freqs_cis.to(device)\n",
        "\n",
        "@torch.compiler.disable\n",
        "def apply_rotary_emb(xq: torch.Tensor, xk: torch.Tensor, freqs_cis: torch.Tensor):\n",
        "    xq_ = torch.view_as_complex(xq.float().reshape(*xq.shape[:-1], -1, 2))\n",
        "    xk_ = torch.view_as_complex(xk.float().reshape(*xk.shape[:-1], -1, 2))\n",
        "    \n",
        "    # Reshape freqs_cis for broadcasting\n",
        "    shape = [1] * (xq_.ndim - 2) + list(freqs_cis.shape)\n",
        "    freqs_cis = freqs_cis.view(*shape)\n",
        "\n",
        "    xq_out = torch.view_as_real(xq_ * freqs_cis).flatten(3)\n",
        "    xk_out = torch.view_as_real(xk_ * freqs_cis).flatten(3)\n",
        "    return xq_out.type_as(xq), xk_out.type_as(xk)\n",
        "\n",
        "class RMSNorm(torch.nn.Module):\n",
        "    def __init__(self, dim, eps=1e-6):\n",
        "        super().__init__()\n",
        "        self.eps = eps\n",
        "        self.weight = nn.Parameter(torch.ones(dim))\n",
        "\n",
        "    def _norm(self, x):\n",
        "        return x * torch.rsqrt(x.pow(2).mean(-1, keepdim=True) + self.eps)\n",
        "\n",
        "    def forward(self, x):\n",
        "        output = self._norm(x.float()).type_as(x)\n",
        "        return output * self.weight\n",
        "\n",
        "class FeedForward(nn.Module):\n",
        "    def __init__(self, config):\n",
        "        super().__init__()\n",
        "        self.lin_1 = nn.Linear(config.embed_size, config.embed_size*4)\n",
        "        self.lin_2 = nn.Linear(config.embed_size*4, config.embed_size)\n",
        "        self.relu = nn.ReLU()\n",
        "\n",
        "    def forward(self, x):\n",
        "        x = self.lin_1(x)\n",
        "        x = self.relu(x)\n",
        "        x = self.lin_2(x)\n",
        "        return x\n",
        "\n",
        "class MultiHeadAttention(nn.Module):\n",
        "    def __init__(self, config):\n",
        "        super().__init__()\n",
        "        self.seq_len = config.seq_len\n",
        "        self.head_num = config.head_num\n",
        "        self.head_size = config.embed_size // config.head_num\n",
        "        self.key = nn.Linear(config.embed_size, config.embed_size, bias=False)\n",
        "        self.query = nn.Linear(config.embed_size, config.embed_size, bias=False)\n",
        "        self.value = nn.Linear(config.embed_size, config.embed_size, bias=False)\n",
        "        self.o = nn.Linear(config.embed_size, config.embed_size)\n",
        "        \n",
        "        def causal(b, h, q_idx, kv_idx):\n",
        "            return q_idx >= kv_idx\n",
        "        self.causal_mask = create_block_mask(causal, B=None, H=None, Q_LEN=config.seq_len, KV_LEN=config.seq_len)\n",
        "        self.freqs_cis = precompute_freqs_cis(config.embed_size//config.head_num, config.seq_len)\n",
        "        self.register_buffer('tril', torch.tril(torch.ones(config.seq_len, config.seq_len)))\n",
        "\n",
        "    def forward(self, x, kv_cache=None):\n",
        "        B, T, C = x.shape\n",
        "        q = self.query(x)\n",
        "        k = self.key(x)\n",
        "        v = self.value(x)\n",
        "\n",
        "        q = q.view(B, T, self.head_num, self.head_size).transpose(1, 2)\n",
        "        k = k.view(B, T, self.head_num, self.head_size).transpose(1, 2)\n",
        "        v = v.view(B, T, self.head_num, self.head_size).transpose(1, 2)\n",
        "\n",
        "        if kv_cache is not None:\n",
        "            k_past, v_past = kv_cache\n",
        "            if k_past is not None:\n",
        "                k = torch.cat((k_past, k), dim=2)\n",
        "                v = torch.cat((v_past, v), dim=2)\n",
        "            if k.shape[-2] > self.seq_len:\n",
        "                k = k[:, :, -self.seq_len:]\n",
        "                v = v[:, :, -self.seq_len:]\n",
        "            kv_cache = (k, v)\n",
        "        \n",
        "        T_k = k.shape[-2]\n",
        "        q, k = apply_rotary_emb(q, k, self.freqs_cis[:T_k])\n",
        "        \n",
        "        if T == self.seq_len and self.causal_mask is not None:\n",
        "             out = flex_attention(q, k, v, block_mask=self.causal_mask)\n",
        "        else:\n",
        "            wei = q @ k.transpose(-2,-1) * (self.head_size**-0.5)\n",
        "            wei = wei.masked_fill(self.tril[:T, :T_k] == 0, float('-inf'))\n",
        "            wei = F.softmax(wei, dim=-1)\n",
        "            out = wei @ v\n",
        "\n",
        "        out = out.transpose(1, 2).contiguous().view(B, T, C)\n",
        "        out = self.o(out)\n",
        "        return out, kv_cache\n",
        "\n",
        "class Block(nn.Module):\n",
        "    def __init__(self, config):\n",
        "        super().__init__()\n",
        "        self.sa_heads = MultiHeadAttention(config)\n",
        "        self.ff_layer = FeedForward(config)\n",
        "        self.sa_norm = RMSNorm(config.embed_size)\n",
        "        self.ff_norm = RMSNorm(config.embed_size)\n",
        "\n",
        "    def forward(self, x, kv_cache=None):\n",
        "        a, kv_cache = self.sa_heads(self.sa_norm(x), kv_cache)\n",
        "        h = x + a\n",
        "        o = h + self.ff_layer(self.ff_norm(h))\n",
        "        return o, kv_cache\n",
        "\n",
        "# ---- NEW: Custom Autograd Function for MEMORY-EFFICIENT TRAINING ----\n",
        "\n",
        "class SequentialHeadsCustomBackward(torch.autograd.Function):\n",
        "    @staticmethod\n",
        "    def forward(ctx, trunk_output, lm_head, *prediction_heads):\n",
        "        # Save modules and non-tensor arguments for the backward pass.\n",
        "        ctx.prediction_heads = prediction_heads\n",
        "        ctx.lm_head = lm_head\n",
        "        # Save tensors needed for the backward pass.\n",
        "        ctx.save_for_backward(trunk_output)\n",
        "\n",
        "        # Standard sequential forward pass\n",
        "        latents = []\n",
        "        for head in prediction_heads:\n",
        "            latent, _ = head(trunk_output, kv_cache=None)\n",
        "            latents.append(latent)\n",
        "        \n",
        "        latents_stacked = torch.stack(latents, dim=-2)\n",
        "        all_logits = lm_head(latents_stacked)\n",
        "        return all_logits\n",
        "\n",
        "    @staticmethod\n",
        "    def backward(ctx, grad_output):\n",
        "        trunk_output, = ctx.saved_tensors\n",
        "        prediction_heads = ctx.prediction_heads\n",
        "        lm_head = ctx.lm_head\n",
        "        \n",
        "        d = trunk_output.detach().requires_grad_(True)\n",
        "        grad_output_per_head = grad_output.unbind(dim=2)\n",
        "\n",
        "        for i, head in enumerate(prediction_heads):\n",
        "            with torch.enable_grad():\n",
        "                head_latent, _ = head(d)\n",
        "                head_logits = lm_head(head_latent)\n",
        "            \n",
        "            head_logits.backward(gradient=grad_output_per_head[i])\n",
        "            \n",
        "        num_nones = 1 + len(prediction_heads) # For lm_head + *prediction_heads\n",
        "        return (d.grad,) + (None,) * num_nones\n",
        "\n",
        "# ---- REFACTORED MTPTransformerLM with custom backward logic ----\n",
        "\n",
        "class MTPTransformerLM(nn.Module):\n",
        "    def __init__(self, config):\n",
        "        super().__init__()\n",
        "        self.config = config\n",
        "        self.token_embedding_table = nn.Embedding(config.vocab_size, config.embed_size)\n",
        "        self.lm_head = nn.Linear(config.embed_size, config.vocab_size)\n",
        "        \n",
        "        # Clean separation between trunk and heads\n",
        "        num_trunk_blocks = config.layer_num - config.n_future_tokens\n",
        "        self.trunk_blocks = nn.ModuleList([Block(config) for _ in range(num_trunk_blocks)])\n",
        "        self.prediction_heads = nn.ModuleList([Block(config) for _ in range(config.n_future_tokens)])\n",
        "\n",
        "    def forward(self, idx, targets=None, kv_cache=None, return_all_heads=False, use_custom_backward=True):\n",
        "        B, T = idx.shape\n",
        "        tok_embd = self.token_embedding_table(idx)\n",
        "        x = tok_embd\n",
        "        \n",
        "        # 1. Shared Trunk\n",
        "        for i, block in enumerate(self.trunk_blocks):\n",
        "            x, _ = block(x) # Simplified kv_cache for clarity\n",
        "        trunk = x\n",
        "\n",
        "        # 2. Prediction Heads\n",
        "        n_heads_to_use = self.config.n_future_tokens if return_all_heads else 1\n",
        "        \n",
        "        if self.training and return_all_heads and use_custom_backward:\n",
        "            # Pass only the heads we intend to use to the custom function\n",
        "            active_heads = self.prediction_heads[:n_heads_to_use]\n",
        "            all_logits = SequentialHeadsCustomBackward.apply(trunk, self.lm_head, *active_heads)\n",
        "        else:\n",
        "            latents = []\n",
        "            for i, block in enumerate(self.prediction_heads[:n_heads_to_use]):\n",
        "                x_head, _ = block(trunk)\n",
        "                latents.append(x_head)\n",
        "            x = torch.stack(latents, dim=-2)\n",
        "            all_logits = self.lm_head(x)\n",
        "        \n",
        "        # 3. Loss Calculation\n",
        "        loss = None\n",
        "        if targets is not None:\n",
        "            B, T, H, V = all_logits.shape\n",
        "            logits_flat = all_logits.view(B * T * H, V)\n",
        "            targets_flat = targets.reshape(-1)\n",
        "            loss = F.cross_entropy(logits_flat, targets_flat)\n",
        "\n",
        "        logits = all_logits if return_all_heads else all_logits.squeeze(2)\n",
        "        return logits, loss\n",
        "    \n",
        "    def generate(self, idx, max_new_tokens, temperature=1, use_cache=True):\n",
        "        for _ in range(max_new_tokens):\n",
        "            idx_cond = idx if idx.size(1) <= self.config.seq_len else idx[:, -self.config.seq_len:]\n",
        "            # Note: generate calls with return_all_heads=False, so it doesn't use the custom BWD path\n",
        "            logits, _ = self(idx_cond, return_all_heads=False)\n",
        "            logits = logits[:, -1, :] / temperature if temperature > 0 else logits[:, -1, :]\n",
        "            \n",
        "            probs = F.softmax(logits, dim=-1)\n",
        "            idx_next = torch.multinomial(probs, num_samples=1) if temperature > 0 else torch.argmax(probs, dim=-1, keepdim=True)\n",
        "            idx = torch.cat((idx, idx_next), dim=1)\n",
        "        return idx\n",
        "\n",
        "config = MTPTransformerConfig(\n",
        "    vocab_size=1000, seq_len=32, embed_size=128,\n",
        "    head_num=4, layer_num=6, n_future_tokens=3\n",
        ")\n",
        "\n",
        "# --- GRADIENT COMPARISON TEST ---\n",
        "print(\"--- Running Gradient Comparison Test ---\")\n",
        "\n",
        "# Create two identical models\n",
        "model_ref = MTPTransformerLM(config).to(device)\n",
        "model_custom = copy.deepcopy(model_ref)\n",
        "\n",
        "# Dummy data\n",
        "dummy_input = torch.randint(0, config.vocab_size, (2, 16), device=device)\n",
        "dummy_targets = torch.randint(0, config.vocab_size, (2, 16, config.n_future_tokens), device=device)\n",
        "\n",
        "# --- 1. Get gradients from standard backward pass ---\n",
        "model_ref.train()\n",
        "model_ref.zero_grad()\n",
        "_, loss_ref = model_ref(dummy_input, targets=dummy_targets, return_all_heads=True, use_custom_backward=False)\n",
        "loss_ref.backward()\n",
        "\n",
        "# Store gradients from a trunk parameter and a head parameter\n",
        "trunk_grad_ref = model_ref.trunk_blocks[0].ff_layer.lin_1.weight.grad.clone()\n",
        "head_grad_ref = model_ref.prediction_heads[0].ff_layer.lin_1.weight.grad.clone()\n",
        "\n",
        "# --- 2. Get gradients from custom backward pass ---\n",
        "model_custom.train()\n",
        "model_custom.zero_grad()\n",
        "_, loss_custom = model_custom(dummy_input, targets=dummy_targets, return_all_heads=True, use_custom_backward=True)\n",
        "loss_custom.backward()\n",
        "\n",
        "# Get gradients from the same parameters\n",
        "trunk_grad_custom = model_custom.trunk_blocks[0].ff_layer.lin_1.weight.grad\n",
        "head_grad_custom = model_custom.prediction_heads[0].ff_layer.lin_1.weight.grad\n",
        "\n",
        "# --- 3. Compare the gradients ---\n",
        "print(f\"\\nLosses are close: {torch.allclose(loss_ref, loss_custom)}\")\n",
        "trunk_grads_are_close = torch.allclose(trunk_grad_ref, trunk_grad_custom, rtol=1e-4, atol=1e-4)\n",
        "head_grads_are_close = torch.allclose(head_grad_ref, head_grad_custom, rtol=1e-4, atol=1e-4)\n",
        "\n",
        "print(f\"Trunk gradients are the same: {trunk_grads_are_close}\")\n",
        "print(f\"Head gradients are the same: {head_grads_are_close}\")\n",
        "\n",
        "if trunk_grads_are_close and head_grads_are_close:\n",
        "    print(\"\\n✅ Gradient check passed. The custom backward implementation is correct.\")\n",
        "else:\n",
        "    print(\"\\n❌ Gradient check failed. The custom backward implementation is incorrect.\")\n"
      ]
    },
    {
      "cell_type": "code",
      "execution_count": 35,
      "metadata": {},
      "outputs": [
        {
          "data": {
            "text/plain": [
              "tensor(0.29, device='cuda:0')"
            ]
          },
          "execution_count": 35,
          "metadata": {},
          "output_type": "execute_result"
        }
      ],
      "source": [
        "trunk_grad_ref.sum()"
      ]
    },
    {
      "cell_type": "code",
      "execution_count": 36,
      "metadata": {},
      "outputs": [
        {
          "data": {
            "text/plain": [
              "tensor(0.29, device='cuda:0')"
            ]
          },
          "execution_count": 36,
          "metadata": {},
          "output_type": "execute_result"
        }
      ],
      "source": [
        "trunk_grad_custom.sum()"
      ]
    },
    {
      "cell_type": "code",
      "execution_count": null,
      "metadata": {},
      "outputs": [],
      "source": []
    },
    {
      "cell_type": "code",
      "execution_count": null,
      "metadata": {},
      "outputs": [],
      "source": []
    }
  ],
  "metadata": {
    "colab": {
      "provenance": []
    },
    "kernelspec": {
      "display_name": ".venv",
      "language": "python",
      "name": "python3"
    },
    "language_info": {
      "codemirror_mode": {
        "name": "ipython",
        "version": 3
      },
      "file_extension": ".py",
      "mimetype": "text/x-python",
      "name": "python",
      "nbconvert_exporter": "python",
      "pygments_lexer": "ipython3",
      "version": "3.12.9"
    },
    "orig_nbformat": 4
  },
  "nbformat": 4,
  "nbformat_minor": 0
}
