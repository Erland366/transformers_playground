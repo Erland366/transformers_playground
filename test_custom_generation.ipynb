{
 "cells": [
  {
   "cell_type": "code",
   "execution_count": 1,
   "id": "315e24df",
   "metadata": {},
   "outputs": [
    {
     "data": {
      "application/vnd.jupyter.widget-view+json": {
       "model_id": "2ed6377a63bc4f0fb00e9cb8be96dadd",
       "version_major": 2,
       "version_minor": 0
      },
      "text/plain": [
       "model.safetensors:   0%|          | 0.00/1.98G [00:00<?, ?B/s]"
      ]
     },
     "metadata": {},
     "output_type": "display_data"
    },
    {
     "data": {
      "application/vnd.jupyter.widget-view+json": {
       "model_id": "31b34f6919224e488de7de7fe71e0fe6",
       "version_major": 2,
       "version_minor": 0
      },
      "text/plain": [
       "generation_config.json:   0%|          | 0.00/247 [00:00<?, ?B/s]"
      ]
     },
     "metadata": {},
     "output_type": "display_data"
    },
    {
     "data": {
      "application/vnd.jupyter.widget-view+json": {
       "model_id": "546be24a023e4cab9612035651f91f13",
       "version_major": 2,
       "version_minor": 0
      },
      "text/plain": [
       "generate.py: 0.00B [00:00, ?B/s]"
      ]
     },
     "metadata": {},
     "output_type": "display_data"
    },
    {
     "name": "stdout",
     "output_type": "stream",
     "text": [
      "✨ using a custom generation method ✨\n",
      "['The quick brown fox jumps over a lazy dog, and the dog is a type of animal. Is']\n"
     ]
    },
    {
     "data": {
      "text/plain": [
       "'The quick brown fox jumps over a lazy dog, and the dog is a type of animal. Is'"
      ]
     },
     "execution_count": 1,
     "metadata": {},
     "output_type": "execute_result"
    }
   ],
   "source": [
    "from transformers import AutoModelForCausalLM, AutoTokenizer\n",
    "\n",
    "# `transformers-community/custom_generate_example` holds a copy of `Qwen/Qwen2.5-0.5B-Instruct`, but\n",
    "# with custom generation code -> calling `generate` uses the custom generation method!\n",
    "tokenizer = AutoTokenizer.from_pretrained(\"transformers-community/custom_generate_example\")\n",
    "model = AutoModelForCausalLM.from_pretrained(\n",
    "    \"transformers-community/custom_generate_example\", device_map=\"auto\", trust_remote_code=True\n",
    ")\n",
    "\n",
    "inputs = tokenizer([\"The quick brown\"], return_tensors=\"pt\").to(model.device)\n",
    "# The custom generation method is a minimal greedy decoding implementation. It also prints a custom message at run time.\n",
    "gen_out = model.generate(**inputs)\n",
    "# you should now see its custom message, \"✨ using a custom generation method ✨\"\n",
    "print(tokenizer.batch_decode(gen_out, skip_special_tokens=True))\n",
    "'The quick brown fox jumps over a lazy dog, and the dog is a type of animal. Is'"
   ]
  },
  {
   "cell_type": "code",
   "execution_count": 6,
   "id": "00915051",
   "metadata": {},
   "outputs": [
    {
     "data": {
      "text/plain": [
       "True"
      ]
     },
     "execution_count": 6,
     "metadata": {},
     "output_type": "execute_result"
    }
   ],
   "source": [
    "from dotenv import load_dotenv\n",
    "\n",
    "load_dotenv()"
   ]
  },
  {
   "cell_type": "code",
   "execution_count": 8,
   "id": "5d1ccba4",
   "metadata": {},
   "outputs": [
    {
     "data": {
      "application/vnd.jupyter.widget-view+json": {
       "model_id": "18a33aa8242c40f3bf55e214d4293789",
       "version_major": 2,
       "version_minor": 0
      },
      "text/plain": [
       "tokenizer_config.json:   0%|          | 0.00/1.16M [00:00<?, ?B/s]"
      ]
     },
     "metadata": {},
     "output_type": "display_data"
    },
    {
     "data": {
      "application/vnd.jupyter.widget-view+json": {
       "model_id": "195db3336da24d9c8a916342a12fcef8",
       "version_major": 2,
       "version_minor": 0
      },
      "text/plain": [
       "tokenizer.model:   0%|          | 0.00/4.69M [00:00<?, ?B/s]"
      ]
     },
     "metadata": {},
     "output_type": "display_data"
    },
    {
     "data": {
      "application/vnd.jupyter.widget-view+json": {
       "model_id": "8df9aa9913e34ba9b0e18887e8e1f41c",
       "version_major": 2,
       "version_minor": 0
      },
      "text/plain": [
       "tokenizer.json:   0%|          | 0.00/33.4M [00:00<?, ?B/s]"
      ]
     },
     "metadata": {},
     "output_type": "display_data"
    },
    {
     "data": {
      "application/vnd.jupyter.widget-view+json": {
       "model_id": "60e9c493e40544baab6eebbfba9209af",
       "version_major": 2,
       "version_minor": 0
      },
      "text/plain": [
       "added_tokens.json:   0%|          | 0.00/35.0 [00:00<?, ?B/s]"
      ]
     },
     "metadata": {},
     "output_type": "display_data"
    },
    {
     "data": {
      "application/vnd.jupyter.widget-view+json": {
       "model_id": "13310935f28143bf91fcc232bd17a0c3",
       "version_major": 2,
       "version_minor": 0
      },
      "text/plain": [
       "special_tokens_map.json:   0%|          | 0.00/662 [00:00<?, ?B/s]"
      ]
     },
     "metadata": {},
     "output_type": "display_data"
    },
    {
     "data": {
      "application/vnd.jupyter.widget-view+json": {
       "model_id": "fa589a9444524cf18244ab589e56344e",
       "version_major": 2,
       "version_minor": 0
      },
      "text/plain": [
       "config.json:   0%|          | 0.00/1.35k [00:00<?, ?B/s]"
      ]
     },
     "metadata": {},
     "output_type": "display_data"
    },
    {
     "data": {
      "application/vnd.jupyter.widget-view+json": {
       "model_id": "3d92bb79908f4b29918cc1e5e4bb7648",
       "version_major": 2,
       "version_minor": 0
      },
      "text/plain": [
       "model.safetensors:   0%|          | 0.00/536M [00:00<?, ?B/s]"
      ]
     },
     "metadata": {},
     "output_type": "display_data"
    },
    {
     "data": {
      "application/vnd.jupyter.widget-view+json": {
       "model_id": "cc4b6dded18046598d25a58b4c04307e",
       "version_major": 2,
       "version_minor": 0
      },
      "text/plain": [
       "generation_config.json:   0%|          | 0.00/133 [00:00<?, ?B/s]"
      ]
     },
     "metadata": {},
     "output_type": "display_data"
    }
   ],
   "source": [
    "tokenizer = AutoTokenizer.from_pretrained(\"google/gemma-3-270m\")\n",
    "model = AutoModelForCausalLM.from_pretrained(\n",
    "    \"google/gemma-3-270m\", device_map=\"auto\", trust_remote_code=True\n",
    ")\n",
    "\n",
    "inputs = tokenizer([\"The quick brown\"], return_tensors=\"pt\").to(model.device)\n",
    "# The custom generation method is a minimal greedy decoding implementation. It also prints a custom message at run time.\n",
    "gen_out = model.generate(**inputs)"
   ]
  },
  {
   "cell_type": "code",
   "execution_count": 9,
   "id": "9f0158d1",
   "metadata": {},
   "outputs": [
    {
     "data": {
      "text/plain": [
       "tensor([[     2,    818,   3823,   8864,  37423,  38167,   1024,    506,  31770,\n",
       "           6784, 236764,    669,  31770,    880,  38167,   1024,    506,   3823,\n",
       "           8864,  37423, 236764,    669,  31770,    880]], device='cuda:1')"
      ]
     },
     "execution_count": 9,
     "metadata": {},
     "output_type": "execute_result"
    }
   ],
   "source": [
    "gen_out"
   ]
  },
  {
   "cell_type": "code",
   "execution_count": null,
   "id": "b0a7c5b7",
   "metadata": {},
   "outputs": [],
   "source": [
    "import torch\n",
    "\n",
    "def custonm_generate(model, input_ids, generation_config=None, left_padding=None, **kwargs):\n",
    "    \n",
    "    print(\"✨ using a custom generation method ✨\")\n",
    "    \n",
    "    generation_config = generation_config or model.generation_config  # default to the model generation config\n",
    "    cur_length = input_ids.shape[1]\n",
    "    max_length = generation_config.max_length or cur_length + generation_config.max_new_tokens\n",
    "\n",
    "    # Example of custom argument: add `left_padding` (integer) pad tokens before the prompt\n",
    "    if left_padding is not None:\n",
    "        if not isinstance(left_padding, int) or left_padding < 0:\n",
    "            raise ValueError(f\"left_padding must be an integer larger than 0, but is {left_padding}\")\n",
    "\n",
    "        pad_token = kwargs.pop(\"pad_token\", None) or generation_config.pad_token_id or model.config.pad_token_id\n",
    "        if pad_token is None:\n",
    "            raise ValueError(\"pad_token is not defined\")\n",
    "        batch_size = input_ids.shape[0]\n",
    "        pad_tensor = torch.full(size=(batch_size, left_padding), fill_value=pad_token).to(input_ids.device)\n",
    "        input_ids = torch.cat((pad_tensor, input_ids), dim=1)\n",
    "        cur_length = input_ids.shape[1]\n",
    "\n",
    "    # Simple greedy decoding loop\n",
    "    while cur_length < max_length:\n",
    "        logits = model(input_ids).logits\n",
    "        next_token_logits = logits[:, -1, :]\n",
    "        next_tokens = torch.argmax(next_token_logits, dim=-1)\n",
    "        input_ids = torch.cat((input_ids, next_tokens[:, None]), dim=-1)\n",
    "        cur_length += 1\n",
    "\n",
    "    return input_ids"
   ]
  }
 ],
 "metadata": {
  "kernelspec": {
   "display_name": ".venv",
   "language": "python",
   "name": "python3"
  },
  "language_info": {
   "codemirror_mode": {
    "name": "ipython",
    "version": 3
   },
   "file_extension": ".py",
   "mimetype": "text/x-python",
   "name": "python",
   "nbconvert_exporter": "python",
   "pygments_lexer": "ipython3",
   "version": "3.12.11"
  }
 },
 "nbformat": 4,
 "nbformat_minor": 5
}
